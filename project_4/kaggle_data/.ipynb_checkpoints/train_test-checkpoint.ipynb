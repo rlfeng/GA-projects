{
 "cells": [
  {
   "cell_type": "code",
   "execution_count": 1,
   "metadata": {},
   "outputs": [],
   "source": [
    "import pandas as pd\n",
    "import numpy as np\n",
    "\n",
    "from sklearn.linear_model import LogisticRegression, LogisticRegressionCV\n",
    "from sklearn.model_selection import train_test_split, cross_val_score, GridSearchCV\n",
    "from sklearn.naive_bayes import MultinomialNB, BernoulliNB\n",
    "from sklearn.neighbors import KNeighborsClassifier\n",
    "from sklearn.pipeline import Pipeline\n",
    "from sklearn.preprocessing import StandardScaler, PolynomialFeatures\n",
    "from sklearn.metrics import roc_auc_score, roc_curve, confusion_matrix, accuracy_score, f1_score, precision_score, recall_score,auc\n",
    "\n",
    "import matplotlib.pyplot as plt\n",
    "import seaborn as sns\n",
    "%matplotlib inline"
   ]
  },
  {
   "cell_type": "code",
   "execution_count": 26,
   "metadata": {},
   "outputs": [
    {
     "name": "stdout",
     "output_type": "stream",
     "text": [
      "(10506, 12)\n",
      "(116293, 11)\n"
     ]
    }
   ],
   "source": [
    "k_train=pd.read_csv('./train.csv/train.csv')\n",
    "k_test=pd.read_csv('./test.csv/test.csv')\n",
    "\n",
    "print(k_train.shape)\n",
    "print(k_test.shape)"
   ]
  },
  {
   "cell_type": "code",
   "execution_count": 27,
   "metadata": {},
   "outputs": [
    {
     "data": {
      "text/plain": [
       "Index(['Date', 'Address', 'Species', 'Block', 'Street', 'Trap',\n",
       "       'AddressNumberAndStreet', 'Latitude', 'Longitude', 'AddressAccuracy',\n",
       "       'NumMosquitos', 'WnvPresent'],\n",
       "      dtype='object')"
      ]
     },
     "execution_count": 27,
     "metadata": {},
     "output_type": "execute_result"
    }
   ],
   "source": [
    "k_train.columns"
   ]
  },
  {
   "cell_type": "code",
   "execution_count": 28,
   "metadata": {},
   "outputs": [
    {
     "name": "stdout",
     "output_type": "stream",
     "text": [
      "(9693, 7)\n"
     ]
    }
   ],
   "source": [
    "k_train.drop_duplicates(inplace = True)\n",
    "k_train.drop(columns=['Address','Block','Street','AddressNumberAndStreet','AddressAccuracy'],inplace=True)\n",
    "print(k_train.shape)"
   ]
  },
  {
   "cell_type": "code",
   "execution_count": 77,
   "metadata": {},
   "outputs": [
    {
     "data": {
      "text/plain": [
       "813"
      ]
     },
     "execution_count": 77,
     "metadata": {},
     "output_type": "execute_result"
    }
   ],
   "source": [
    "10506-9693"
   ]
  },
  {
   "cell_type": "code",
   "execution_count": 29,
   "metadata": {},
   "outputs": [
    {
     "data": {
      "text/plain": [
       "CULEX PIPIENS/RESTUANS    4469\n",
       "CULEX RESTUANS            2672\n",
       "CULEX PIPIENS             2239\n",
       "CULEX TERRITANS            221\n",
       "CULEX SALINARIUS            85\n",
       "CULEX TARSALIS               6\n",
       "CULEX ERRATICUS              1\n",
       "Name: Species, dtype: int64"
      ]
     },
     "execution_count": 29,
     "metadata": {},
     "output_type": "execute_result"
    }
   ],
   "source": [
    "k_train.Species.value_counts()"
   ]
  },
  {
   "cell_type": "code",
   "execution_count": 30,
   "metadata": {
    "scrolled": true
   },
   "outputs": [
    {
     "data": {
      "text/plain": [
       "Text(0, 0.5, 'Count')"
      ]
     },
     "execution_count": 30,
     "metadata": {},
     "output_type": "execute_result"
    },
    {
     "data": {
      "image/png": "[encoded data removed]",
      "text/plain": [
       "<Figure size 432x288 with 1 Axes>"
      ]
     },
     "metadata": {
      "needs_background": "light"
     },
     "output_type": "display_data"
    }
   ],
   "source": [
    "# Mosquitos per trap instance (max 50)\n",
    "k_train.NumMosquitos.hist()\n",
    "plt.title('Distribution of Number of Mosquitos')\n",
    "plt.xlabel('Mosquitos per trap instance (Max 50)')\n",
    "plt.ylabel('Count')"
   ]
  },
  {
   "cell_type": "code",
   "execution_count": 50,
   "metadata": {},
   "outputs": [
    {
     "data": {
      "text/plain": [
       "0    0.948107\n",
       "1    0.051893\n",
       "Name: WnvPresent, dtype: float64"
      ]
     },
     "execution_count": 50,
     "metadata": {},
     "output_type": "execute_result"
    }
   ],
   "source": [
    "k_train.WnvPresent.value_counts(normalize=True)"
   ]
  },
  {
   "cell_type": "markdown",
   "metadata": {},
   "source": [
    "# Baseline prediction: 95% of the mosquito ocurrences do not carry Wnv virus."
   ]
  },
  {
   "cell_type": "code",
   "execution_count": 32,
   "metadata": {},
   "outputs": [
    {
     "data": {
      "text/plain": [
       "0.05189311874548643"
      ]
     },
     "execution_count": 32,
     "metadata": {},
     "output_type": "execute_result"
    }
   ],
   "source": [
    "k_train.WnvPresent.mean()"
   ]
  },
  {
   "cell_type": "code",
   "execution_count": 33,
   "metadata": {},
   "outputs": [
    {
     "data": {
      "text/plain": [
       "<matplotlib.axes._subplots.AxesSubplot at 0x18442439128>"
      ]
     },
     "execution_count": 33,
     "metadata": {},
     "output_type": "execute_result"
    },
    {
     "data": {
      "image/png": "[encoded data removed]",
      "text/plain": [
       "<Figure size 1152x216 with 1 Axes>"
      ]
     },
     "metadata": {
      "needs_background": "light"
     },
     "output_type": "display_data"
    }
   ],
   "source": [
    "# Presence of whv virus in different species\n",
    "plt.subplots(figsize=(16,3))\n",
    "sns.countplot('Species',data=k_train,hue='WnvPresent',)"
   ]
  },
  {
   "cell_type": "code",
   "execution_count": 34,
   "metadata": {},
   "outputs": [],
   "source": [
    "# Convert Date to month, year\n",
    "k_train['year']=pd.to_datetime(k_train['Date']).dt.strftime('%Y').astype(int)\n",
    "k_train['month']=pd.to_datetime(k_train['Date']).dt.strftime('%m').astype(int)"
   ]
  },
  {
   "cell_type": "code",
   "execution_count": 35,
   "metadata": {
    "scrolled": true
   },
   "outputs": [
    {
     "data": {
      "text/plain": [
       "(<matplotlib.axes._subplots.AxesSubplot at 0x184425794a8>,\n",
       " <matplotlib.axes._subplots.AxesSubplot at 0x184425794a8>)"
      ]
     },
     "execution_count": 35,
     "metadata": {},
     "output_type": "execute_result"
    },
    {
     "data": {
      "image/png": "[encoded data removed]",
      "text/plain": [
       "<Figure size 1440x216 with 2 Axes>"
      ]
     },
     "metadata": {
      "needs_background": "light"
     },
     "output_type": "display_data"
    }
   ],
   "source": [
    "# Presence of whv virus over the years and months\n",
    "plt.subplots(figsize=(20,3))\n",
    "plt.subplot(1,2,1),sns.barplot('month','NumMosquitos',data=k_train,hue='WnvPresent')  \n",
    "plt.subplot(1,2,2),sns.barplot('year','NumMosquitos',data=k_train,hue='WnvPresent')  "
   ]
  },
  {
   "cell_type": "markdown",
   "metadata": {},
   "source": [
    "# Merge with weather data for EDA"
   ]
  },
  {
   "cell_type": "code",
   "execution_count": 36,
   "metadata": {},
   "outputs": [],
   "source": [
    "weather=pd.read_csv('C:/Users/frl/Desktop/DSI13/MyDSI_11Feb/Projects/project_4/weather_final.csv')"
   ]
  },
  {
   "cell_type": "code",
   "execution_count": 37,
   "metadata": {},
   "outputs": [
    {
     "data": {
      "text/plain": [
       "('2007-05-29', '2007-05-01')"
      ]
     },
     "execution_count": 37,
     "metadata": {},
     "output_type": "execute_result"
    }
   ],
   "source": [
    "k_train.Date[0],weather.Date[0]"
   ]
  },
  {
   "cell_type": "code",
   "execution_count": 38,
   "metadata": {},
   "outputs": [],
   "source": [
    "train_weather=pd.merge(k_train,weather,on=['Date'])"
   ]
  },
  {
   "cell_type": "code",
   "execution_count": 39,
   "metadata": {},
   "outputs": [
    {
     "data": {
      "text/plain": [
       "(9693, 24)"
      ]
     },
     "execution_count": 39,
     "metadata": {},
     "output_type": "execute_result"
    }
   ],
   "source": [
    "train_weather.shape"
   ]
  },
  {
   "cell_type": "code",
   "execution_count": 40,
   "metadata": {},
   "outputs": [
    {
     "name": "stdout",
     "output_type": "stream",
     "text": [
      "<class 'pandas.core.frame.DataFrame'>\n",
      "Int64Index: 9693 entries, 0 to 9692\n",
      "Data columns (total 24 columns):\n",
      "Date            9693 non-null object\n",
      "Species         9693 non-null object\n",
      "Trap            9693 non-null object\n",
      "Latitude        9693 non-null float64\n",
      "Longitude       9693 non-null float64\n",
      "NumMosquitos    9693 non-null int64\n",
      "WnvPresent      9693 non-null int64\n",
      "year            9693 non-null int32\n",
      "month           9693 non-null int32\n",
      "Tavg            9693 non-null float64\n",
      "Tmax            9693 non-null float64\n",
      "Tmin            9693 non-null float64\n",
      "DewPoint        9693 non-null float64\n",
      "WetBulb         9693 non-null float64\n",
      "heat            9693 non-null float64\n",
      "cool            9693 non-null float64\n",
      "PrecipTotal     9693 non-null float64\n",
      "StnPressure     9693 non-null float64\n",
      "SeaLevel        9693 non-null float64\n",
      "ResultSpeed     9693 non-null float64\n",
      "ResultDir       9693 non-null float64\n",
      "AvgSpeed        9693 non-null float64\n",
      "sun_period      9693 non-null float64\n",
      "Depart          9693 non-null int64\n",
      "dtypes: float64(16), int32(2), int64(3), object(3)\n",
      "memory usage: 1.8+ MB\n"
     ]
    }
   ],
   "source": [
    "train_weather.info()"
   ]
  },
  {
   "cell_type": "code",
   "execution_count": 61,
   "metadata": {},
   "outputs": [],
   "source": [
    "train_weather_dummied=pd.get_dummies(train_weather, columns=['Species'])\n",
    "train_weather_dummied['Species_UNSPECIFIED CULEX']=0"
   ]
  },
  {
   "cell_type": "code",
   "execution_count": 62,
   "metadata": {},
   "outputs": [
    {
     "data": {
      "text/plain": [
       "Index(['Date', 'Trap', 'Latitude', 'Longitude', 'NumMosquitos', 'WnvPresent',\n",
       "       'year', 'month', 'Tavg', 'Tmax', 'Tmin', 'DewPoint', 'WetBulb', 'heat',\n",
       "       'cool', 'PrecipTotal', 'StnPressure', 'SeaLevel', 'ResultSpeed',\n",
       "       'ResultDir', 'AvgSpeed', 'sun_period', 'Depart',\n",
       "       'Species_CULEX ERRATICUS', 'Species_CULEX PIPIENS',\n",
       "       'Species_CULEX PIPIENS/RESTUANS', 'Species_CULEX RESTUANS',\n",
       "       'Species_CULEX SALINARIUS', 'Species_CULEX TARSALIS',\n",
       "       'Species_CULEX TERRITANS', 'Species_UNSPECIFIED CULEX'],\n",
       "      dtype='object')"
      ]
     },
     "execution_count": 62,
     "metadata": {},
     "output_type": "execute_result"
    }
   ],
   "source": [
    "train_weather_dummied.columns"
   ]
  },
  {
   "cell_type": "code",
   "execution_count": 63,
   "metadata": {},
   "outputs": [
    {
     "data": {
      "image/png": "[encoded data removed]",
      "text/plain": [
       "<Figure size 720x216 with 1 Axes>"
      ]
     },
     "metadata": {
      "needs_background": "light"
     },
     "output_type": "display_data"
    }
   ],
   "source": [
    "# Feature Correlation with Mosquito Count\n",
    "fig = plt.figure(figsize=(10,3))\n",
    "train_weather_dummied.corr()['NumMosquitos'].sort_values(ascending=False)[1:].plot(kind='bar')\n",
    "plt.title(\"Feature Correlation with Mosquito Count\")\n",
    "plt.xticks(size = 10);"
   ]
  },
  {
   "cell_type": "code",
   "execution_count": 64,
   "metadata": {},
   "outputs": [
    {
     "data": {
      "image/png": "[encoded data removed]",
      "text/plain": [
       "<Figure size 720x216 with 1 Axes>"
      ]
     },
     "metadata": {
      "needs_background": "light"
     },
     "output_type": "display_data"
    }
   ],
   "source": [
    "# Feature Correlation with WnV Count\n",
    "fig = plt.figure(figsize=(10,3))\n",
    "train_weather_dummied.corr()['WnvPresent'].sort_values(ascending=False)[1:].plot(kind='bar')\n",
    "plt.title(\"Feature Correlation with WnVPresent\")\n",
    "plt.xticks(size = 10);"
   ]
  },
  {
   "cell_type": "code",
   "execution_count": 65,
   "metadata": {},
   "outputs": [],
   "source": [
    "train_weather_dummied.drop(columns=['Date','Trap','NumMosquitos'],inplace=True)"
   ]
  },
  {
   "cell_type": "code",
   "execution_count": 66,
   "metadata": {},
   "outputs": [],
   "source": [
    "train_weather_dummied.to_csv('C:/Users/frl/Desktop/DSI13/MyDSI_11Feb/Projects/project_4/train_weather_dummied.csv',index=False)"
   ]
  },
  {
   "cell_type": "markdown",
   "metadata": {},
   "source": [
    "# Clean test data"
   ]
  },
  {
   "cell_type": "code",
   "execution_count": 67,
   "metadata": {},
   "outputs": [],
   "source": [
    "k_test=pd.read_csv('./test.csv/test.csv')"
   ]
  },
  {
   "cell_type": "code",
   "execution_count": 68,
   "metadata": {},
   "outputs": [
    {
     "data": {
      "text/plain": [
       "('2008-06-11', '2007-05-01')"
      ]
     },
     "execution_count": 68,
     "metadata": {},
     "output_type": "execute_result"
    }
   ],
   "source": [
    "k_test.Date[0],weather.Date[0]"
   ]
  },
  {
   "cell_type": "code",
   "execution_count": 69,
   "metadata": {},
   "outputs": [],
   "source": [
    "test_weather=pd.merge(k_test,weather, on=['Date'])\n",
    "test_weather_dummied=pd.get_dummies(test_weather,columns=['Species'])"
   ]
  },
  {
   "cell_type": "code",
   "execution_count": 70,
   "metadata": {},
   "outputs": [],
   "source": [
    "# Convert Date to month, year\n",
    "test_weather_dummied['year']=pd.to_datetime(test_weather_dummied['Date']).dt.strftime('%Y').astype(int)\n",
    "test_weather_dummied['month']=pd.to_datetime(test_weather_dummied['Date']).dt.strftime('%m').astype(int)"
   ]
  },
  {
   "cell_type": "code",
   "execution_count": 71,
   "metadata": {},
   "outputs": [],
   "source": [
    "test_weather_dummied.drop(columns=['Address', 'AddressAccuracy', 'AddressNumberAndStreet', 'Block', 'Date', 'Street', 'Trap'],inplace=True)"
   ]
  },
  {
   "cell_type": "code",
   "execution_count": 72,
   "metadata": {},
   "outputs": [
    {
     "data": {
      "text/plain": [
       "Index(['WnvPresent'], dtype='object')"
      ]
     },
     "execution_count": 72,
     "metadata": {},
     "output_type": "execute_result"
    }
   ],
   "source": [
    "train_weather_dummied.columns.difference(test_weather_dummied.columns)"
   ]
  },
  {
   "cell_type": "code",
   "execution_count": 73,
   "metadata": {},
   "outputs": [
    {
     "data": {
      "text/plain": [
       "Index(['Id'], dtype='object')"
      ]
     },
     "execution_count": 73,
     "metadata": {},
     "output_type": "execute_result"
    }
   ],
   "source": [
    "test_weather_dummied.columns.difference(train_weather_dummied.columns)"
   ]
  },
  {
   "cell_type": "code",
   "execution_count": 74,
   "metadata": {},
   "outputs": [],
   "source": [
    "test_weather_dummied.set_index(['Id']);"
   ]
  },
  {
   "cell_type": "code",
   "execution_count": 75,
   "metadata": {},
   "outputs": [
    {
     "name": "stdout",
     "output_type": "stream",
     "text": [
      "<class 'pandas.core.frame.DataFrame'>\n",
      "Int64Index: 116293 entries, 0 to 116292\n",
      "Data columns (total 28 columns):\n",
      "Id                                116293 non-null int64\n",
      "Latitude                          116293 non-null float64\n",
      "Longitude                         116293 non-null float64\n",
      "Tavg                              116293 non-null float64\n",
      "Tmax                              116293 non-null float64\n",
      "Tmin                              116293 non-null float64\n",
      "DewPoint                          116293 non-null float64\n",
      "WetBulb                           116293 non-null float64\n",
      "heat                              116293 non-null float64\n",
      "cool                              116293 non-null float64\n",
      "PrecipTotal                       116293 non-null float64\n",
      "StnPressure                       116293 non-null float64\n",
      "SeaLevel                          116293 non-null float64\n",
      "ResultSpeed                       116293 non-null float64\n",
      "ResultDir                         116293 non-null float64\n",
      "AvgSpeed                          116293 non-null float64\n",
      "sun_period                        116293 non-null float64\n",
      "Depart                            116293 non-null int64\n",
      "Species_CULEX ERRATICUS           116293 non-null uint8\n",
      "Species_CULEX PIPIENS             116293 non-null uint8\n",
      "Species_CULEX PIPIENS/RESTUANS    116293 non-null uint8\n",
      "Species_CULEX RESTUANS            116293 non-null uint8\n",
      "Species_CULEX SALINARIUS          116293 non-null uint8\n",
      "Species_CULEX TARSALIS            116293 non-null uint8\n",
      "Species_CULEX TERRITANS           116293 non-null uint8\n",
      "Species_UNSPECIFIED CULEX         116293 non-null uint8\n",
      "year                              116293 non-null int32\n",
      "month                             116293 non-null int32\n",
      "dtypes: float64(16), int32(2), int64(2), uint8(8)\n",
      "memory usage: 18.6 MB\n"
     ]
    }
   ],
   "source": [
    "test_weather_dummied.info()"
   ]
  },
  {
   "cell_type": "code",
   "execution_count": 76,
   "metadata": {},
   "outputs": [],
   "source": [
    "test_weather_dummied.to_csv('C:/Users/frl/Desktop/DSI13/MyDSI_11Feb/Projects/project_4/test_weather_dummied.csv',index=False)"
   ]
  },
  {
   "cell_type": "code",
   "execution_count": null,
   "metadata": {},
   "outputs": [],
   "source": []
  }
 ],
 "metadata": {
  "kernelspec": {
   "display_name": "Python 3",
   "language": "python",
   "name": "python3"
  },
  "language_info": {
   "codemirror_mode": {
    "name": "ipython",
    "version": 3
   },
   "file_extension": ".py",
   "mimetype": "text/x-python",
   "name": "python",
   "nbconvert_exporter": "python",
   "pygments_lexer": "ipython3",
   "version": "3.7.3"
  }
 },
 "nbformat": 4,
 "nbformat_minor": 2
}
