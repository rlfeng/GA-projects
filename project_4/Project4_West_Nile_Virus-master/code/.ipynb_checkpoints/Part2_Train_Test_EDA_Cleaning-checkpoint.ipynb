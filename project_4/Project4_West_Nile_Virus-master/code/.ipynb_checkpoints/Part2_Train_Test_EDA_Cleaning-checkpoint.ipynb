{
 "cells": [
  {
   "cell_type": "markdown",
   "metadata": {},
   "source": [
    "### Importing of Libraries"
   ]
  },
  {
   "cell_type": "code",
   "execution_count": 1,
   "metadata": {},
   "outputs": [
    {
     "name": "stderr",
     "output_type": "stream",
     "text": [
      "C:\\Anaconda\\lib\\site-packages\\statsmodels\\tools\\_testing.py:19: FutureWarning: pandas.util.testing is deprecated. Use the functions in the public API at pandas.testing instead.\n",
      "  import pandas.util.testing as tm\n"
     ]
    }
   ],
   "source": [
    "# importing essential libraries\n",
    "import numpy as np\n",
    "import pandas as pd\n",
    "import seaborn as sns\n",
    "import matplotlib.pyplot as plt"
   ]
  },
  {
   "cell_type": "code",
   "execution_count": 2,
   "metadata": {},
   "outputs": [],
   "source": [
    "# Data download\n",
    "train = pd.read_csv('../data/train.csv')\n",
    "test = pd.read_csv('../data/test.csv')"
   ]
  },
  {
   "cell_type": "markdown",
   "metadata": {},
   "source": [
    "### Data Cleaning and EDA"
   ]
  },
  {
   "cell_type": "code",
   "execution_count": 3,
   "metadata": {},
   "outputs": [
    {
     "name": "stdout",
     "output_type": "stream",
     "text": [
      "Checking for null values in the four datasets:\n",
      "\n",
      "TRAIN DATA\n",
      "Date                      0\n",
      "Address                   0\n",
      "Species                   0\n",
      "Block                     0\n",
      "Street                    0\n",
      "Trap                      0\n",
      "AddressNumberAndStreet    0\n",
      "Latitude                  0\n",
      "Longitude                 0\n",
      "AddressAccuracy           0\n",
      "NumMosquitos              0\n",
      "WnvPresent                0\n",
      "dtype: int64\n",
      "\n",
      "TEST DATA\n",
      "Id                        0\n",
      "Date                      0\n",
      "Address                   0\n",
      "Species                   0\n",
      "Block                     0\n",
      "Street                    0\n",
      "Trap                      0\n",
      "AddressNumberAndStreet    0\n",
      "Latitude                  0\n",
      "Longitude                 0\n",
      "AddressAccuracy           0\n",
      "dtype: int64\n",
      "\n"
     ]
    }
   ],
   "source": [
    "#Checking for null values in the train and test datasets provided\n",
    "print('Checking for null values in the four datasets:\\n\\nTRAIN DATA\\n{}\\n\\nTEST DATA\\n{}\\n'.format(train.isnull().sum(),test.isnull().sum()))"
   ]
  },
  {
   "cell_type": "code",
   "execution_count": 4,
   "metadata": {},
   "outputs": [
    {
     "name": "stdout",
     "output_type": "stream",
     "text": [
      "<class 'pandas.core.frame.DataFrame'>\n",
      "RangeIndex: 10506 entries, 0 to 10505\n",
      "Data columns (total 12 columns):\n",
      " #   Column                  Non-Null Count  Dtype  \n",
      "---  ------                  --------------  -----  \n",
      " 0   Date                    10506 non-null  object \n",
      " 1   Address                 10506 non-null  object \n",
      " 2   Species                 10506 non-null  object \n",
      " 3   Block                   10506 non-null  int64  \n",
      " 4   Street                  10506 non-null  object \n",
      " 5   Trap                    10506 non-null  object \n",
      " 6   AddressNumberAndStreet  10506 non-null  object \n",
      " 7   Latitude                10506 non-null  float64\n",
      " 8   Longitude               10506 non-null  float64\n",
      " 9   AddressAccuracy         10506 non-null  int64  \n",
      " 10  NumMosquitos            10506 non-null  int64  \n",
      " 11  WnvPresent              10506 non-null  int64  \n",
      "dtypes: float64(2), int64(4), object(6)\n",
      "memory usage: 985.1+ KB\n"
     ]
    }
   ],
   "source": [
    "# Now that there is no more null data in our datasets, lets proceed to look deeper into the datasets\n",
    "train.info()"
   ]
  },
  {
   "cell_type": "code",
   "execution_count": 5,
   "metadata": {},
   "outputs": [
    {
     "name": "stdout",
     "output_type": "stream",
     "text": [
      "<class 'pandas.core.frame.DataFrame'>\n",
      "RangeIndex: 116293 entries, 0 to 116292\n",
      "Data columns (total 11 columns):\n",
      " #   Column                  Non-Null Count   Dtype  \n",
      "---  ------                  --------------   -----  \n",
      " 0   Id                      116293 non-null  int64  \n",
      " 1   Date                    116293 non-null  object \n",
      " 2   Address                 116293 non-null  object \n",
      " 3   Species                 116293 non-null  object \n",
      " 4   Block                   116293 non-null  int64  \n",
      " 5   Street                  116293 non-null  object \n",
      " 6   Trap                    116293 non-null  object \n",
      " 7   AddressNumberAndStreet  116293 non-null  object \n",
      " 8   Latitude                116293 non-null  float64\n",
      " 9   Longitude               116293 non-null  float64\n",
      " 10  AddressAccuracy         116293 non-null  int64  \n",
      "dtypes: float64(2), int64(3), object(6)\n",
      "memory usage: 9.8+ MB\n"
     ]
    }
   ],
   "source": [
    "test.info()"
   ]
  },
  {
   "cell_type": "markdown",
   "metadata": {},
   "source": [
    " As a overview the following can be deduced from the .info() function of the dataframes:\n",
    " - The train set has 10506 records and test set has 116293 records thus indicating a heavily imbalanced dataset\n",
    " - WnvPresent is the target variable thus not found in the test set and Id is only in the test set as it is meant for Kaggle submission\n",
    " - As NumMosquitos is only found in the train set, it will be removed for the modelling processing but will still be used for the initial EDA\n",
    " - From a visual inspection it is observed that several columns are related to the location and thus may potentially have high correlation(Address, Street, AddressNumberAndStreet , Latitude , Longitude and AddressAccuracy)"
   ]
  },
  {
   "cell_type": "code",
   "execution_count": 6,
   "metadata": {},
   "outputs": [
    {
     "name": "stderr",
     "output_type": "stream",
     "text": [
      "C:\\Anaconda\\lib\\site-packages\\seaborn\\categorical.py:3666: UserWarning: The `factorplot` function has been renamed to `catplot`. The original name will be removed in a future release. Please update your code. Note that the default `kind` in `factorplot` (`'point'`) has changed `'strip'` in `catplot`.\n",
      "  warnings.warn(msg)\n"
     ]
    },
    {
     "data": {
      "text/plain": [
       "<seaborn.axisgrid.FacetGrid at 0x25326904bc8>"
      ]
     },
     "execution_count": 6,
     "metadata": {},
     "output_type": "execute_result"
    },
    {
     "data": {
      "image/png": "[encoded data removed]",
      "text/plain": [
       "<Figure size 270x360 with 1 Axes>"
      ]
     },
     "metadata": {
      "needs_background": "light"
     },
     "output_type": "display_data"
    }
   ],
   "source": [
    "# The below histogram clearly depicts the imbalance in the predicted variable.\n",
    "sns.factorplot(\"WnvPresent\", data=train, aspect=0.75,\n",
    "                       kind=\"count\", color='green',)"
   ]
  },
  {
   "cell_type": "markdown",
   "metadata": {},
   "source": [
    "This imbalance can be handled at the point of train-test split prior to modelling by stratifying the data. It will ensure the split will take into account the imbalance."
   ]
  },
  {
   "cell_type": "code",
   "execution_count": 7,
   "metadata": {},
   "outputs": [
    {
     "data": {
      "text/plain": [
       "<matplotlib.axes._subplots.AxesSubplot at 0x25327885b88>"
      ]
     },
     "execution_count": 7,
     "metadata": {},
     "output_type": "execute_result"
    },
    {
     "data": {
      "image/png": "[encoded data removed]",
      "text/plain": [
       "<Figure size 504x720 with 2 Axes>"
      ]
     },
     "metadata": {
      "needs_background": "light"
     },
     "output_type": "display_data"
    }
   ],
   "source": [
    "# An overview of datasets correlation with target variable,WnvPresent. \n",
    "fig = plt.figure(figsize=(7,10))\n",
    "fig.set_title = ('Heatmap for Correlation of features with WnvPresent')\n",
    "sns.heatmap(abs(train.corr())[['WnvPresent']].sort_values('WnvPresent', ascending = False),annot = True,cmap=\"YlGnBu\")"
   ]
  },
  {
   "cell_type": "markdown",
   "metadata": {},
   "source": [
    "- The NumMosquitos column has the highest correlation with the target variable which clearly indicates that a reduction in the number of mosquitoes will affect the presence of the virus.\n",
    "- However the other variables in the heatmap which are related to location have an extremely low correlation(less than 0.06) with the target variable thus these can possibly be dropped from the dataset prior to modelling."
   ]
  },
  {
   "cell_type": "code",
   "execution_count": 8,
   "metadata": {},
   "outputs": [
    {
     "data": {
      "text/plain": [
       "0"
      ]
     },
     "execution_count": 8,
     "metadata": {},
     "output_type": "execute_result"
    }
   ],
   "source": [
    "# Another consideration to eliminate the address related columns is because all the address data essentially point to the\n",
    "# location of the traps as per kaggle description. The unique counts of the Trap and Address columns were counted and \n",
    "# the comparison aided in determining if there is any differences.\n",
    "Trap_Series = pd.DataFrame(train.Trap.value_counts().sort_values(ascending = False))\n",
    "Address_series = pd.DataFrame(train.Address.value_counts().sort_values(ascending = False))\n",
    "(Address_series.Address - Trap_Series.Trap).notnull().sum()"
   ]
  },
  {
   "cell_type": "markdown",
   "metadata": {},
   "source": [
    " As the difference is 0 it is clear that all data that can be represented by Data can actually be represented by the Trap column. Therefore when we clean we can drop the columns related to address and also proceed to Dummify the trap column as numeric data will be the optimal for our classification based models. For the trap names, the names with an alphabet suffix are satellite traps and are additional traps in the same vicinity as the trap name without the suffix. Therefore prior to dummifying the column we shall also remove those suffixes under the assumption that the distance between these traps are negligible."
   ]
  },
  {
   "cell_type": "markdown",
   "metadata": {},
   "source": [
    "Merging the datasets for cleaning"
   ]
  },
  {
   "cell_type": "code",
   "execution_count": 9,
   "metadata": {},
   "outputs": [],
   "source": [
    "train_test = pd.concat([train,test],axis = 0)"
   ]
  },
  {
   "cell_type": "markdown",
   "metadata": {},
   "source": [
    "As the test data does not have NumMosquitos column(Number of Mosquitoes), they shall be removed from the merged train_test dataset"
   ]
  },
  {
   "cell_type": "code",
   "execution_count": 10,
   "metadata": {},
   "outputs": [],
   "source": [
    "train_test.drop(['NumMosquitos'],axis = 1,inplace =True)"
   ]
  },
  {
   "cell_type": "markdown",
   "metadata": {},
   "source": [
    "We shall now remove the duplicate rows. The majority of duplicates is because there is one record for every 50 mosquitoes, however these can be dropped as we are dropping the number of mosquitoes column itself"
   ]
  },
  {
   "cell_type": "code",
   "execution_count": 11,
   "metadata": {},
   "outputs": [],
   "source": [
    "train_test.drop_duplicates(inplace=True)"
   ]
  },
  {
   "cell_type": "markdown",
   "metadata": {},
   "source": [
    " We will be using longitude and latitude as an indication of the exact location of address and as discussed earlier we will be dropping all other columns relevant to address as the Trap column carries all required information."
   ]
  },
  {
   "cell_type": "code",
   "execution_count": 12,
   "metadata": {},
   "outputs": [],
   "source": [
    "train_test.drop(['Address', 'Block', 'Street', 'AddressNumberAndStreet','AddressAccuracy'],axis = 1, inplace=True)"
   ]
  },
  {
   "cell_type": "markdown",
   "metadata": {},
   "source": [
    "As discussed earlier we will now be removing the alphabetic suffixes from the trap labels and then creating dummy columns"
   ]
  },
  {
   "cell_type": "code",
   "execution_count": 13,
   "metadata": {},
   "outputs": [],
   "source": [
    "#Removal of alphabetic suffixes\n",
    "train_test.Trap = train_test.Trap.str.extract('(\\d+)')\n",
    "# Creation of dummy columns for the Trap Column\n",
    "train_test = pd.concat([train_test, pd.get_dummies(train_test.Trap)], axis=1)\n",
    "train_test.drop(['Trap'],axis =1, inplace =True)"
   ]
  },
  {
   "cell_type": "markdown",
   "metadata": {},
   "source": [
    "We shall proceed to study the Species column"
   ]
  },
  {
   "cell_type": "code",
   "execution_count": 14,
   "metadata": {},
   "outputs": [
    {
     "data": {
      "text/plain": [
       "<seaborn.axisgrid.FacetGrid at 0x25327a76e88>"
      ]
     },
     "execution_count": 14,
     "metadata": {},
     "output_type": "execute_result"
    },
    {
     "data": {
      "image/png": "[encoded data removed]",
      "text/plain": [
       "<Figure size 1080x360 with 1 Axes>"
      ]
     },
     "metadata": {
      "needs_background": "light"
     },
     "output_type": "display_data"
    }
   ],
   "source": [
    "# Species Data for train dataset\n",
    "g = sns.factorplot(\"Species\", data=train, aspect=3,\n",
    "                       kind=\"count\", color='green')\n",
    "g.set_xticklabels(rotation=30)"
   ]
  },
  {
   "cell_type": "code",
   "execution_count": 15,
   "metadata": {},
   "outputs": [
    {
     "data": {
      "text/plain": [
       "<seaborn.axisgrid.FacetGrid at 0x25328173808>"
      ]
     },
     "execution_count": 15,
     "metadata": {},
     "output_type": "execute_result"
    },
    {
     "data": {
      "image/png": "[encoded data removed]",
      "text/plain": [
       "<Figure size 1080x360 with 1 Axes>"
      ]
     },
     "metadata": {
      "needs_background": "light"
     },
     "output_type": "display_data"
    }
   ],
   "source": [
    "# Species Data for test dataset\n",
    "g = sns.factorplot(\"Species\", data=test, aspect=3,\n",
    "                       kind=\"count\", color='red')\n",
    "g.set_xticklabels(rotation=30)"
   ]
  },
  {
   "cell_type": "markdown",
   "metadata": {},
   "source": [
    "The test dataset has an additional column for Unspecified Culex Species and the distriution of the records in test set is evenly spead across the different species. Fot the train set, the records are skewed towards the CULEX PIPENS/RESTUANS species. For future datasets it will be ideal to get a train and test datasets that are evenly distributed."
   ]
  },
  {
   "cell_type": "code",
   "execution_count": 16,
   "metadata": {},
   "outputs": [
    {
     "data": {
      "image/png": "[encoded data removed]",
      "text/plain": [
       "<Figure size 432x288 with 1 Axes>"
      ]
     },
     "metadata": {
      "needs_background": "light"
     },
     "output_type": "display_data"
    }
   ],
   "source": [
    "g = sns.lineplot(train.Species,train.WnvPresent)\n",
    "g.set_xticklabels(train.Species,rotation=90);"
   ]
  },
  {
   "cell_type": "code",
   "execution_count": 17,
   "metadata": {},
   "outputs": [],
   "source": [
    "# Creation of dummy columns for the species\n",
    "train_test['Species'] = train_test['Species'].str.lower()\n",
    "train_test['Species']  = train_test['Species'].replace(' ', '_')\n",
    "train_test = pd.concat([train_test, pd.get_dummies(train_test.Species)], axis=1)\n",
    "train_test.drop(['Species'],axis =1, inplace =True)"
   ]
  },
  {
   "cell_type": "markdown",
   "metadata": {},
   "source": [
    " We are left with the Date column to investigate."
   ]
  },
  {
   "cell_type": "code",
   "execution_count": 18,
   "metadata": {},
   "outputs": [],
   "source": [
    "# As the test and train set are from completely different year we shall not take the year into considerations, if we take \n",
    "# the days and hot encode it, it will result in 365 columns which is not sensible. Therefore using the month was decided as\n",
    "# the approach\n",
    "date = train_test.Date.str.split('-')\n",
    "date = pd.DataFrame([item for item in date] ,columns = [\"Year\", \"Month\", \"Day\"])\n",
    "train_test['Month'] = date.Month\n",
    "train_test['Year'] = date.Year"
   ]
  },
  {
   "cell_type": "code",
   "execution_count": 19,
   "metadata": {},
   "outputs": [],
   "source": [
    "# Creation of dummy columns for the Month\n",
    "train_test.Month = train_test.Month.replace({'05':'may','06':'jun','07':'jul','08':'aug','09':'sep','10':'oct','11':'nov','12':'dec'})\n",
    "train_test =  train_test.join(pd.get_dummies(train_test.Month))\n",
    "train_test.drop(['Month'],axis =1,inplace=True)"
   ]
  },
  {
   "cell_type": "code",
   "execution_count": 20,
   "metadata": {},
   "outputs": [
    {
     "name": "stderr",
     "output_type": "stream",
     "text": [
      "C:\\Anaconda\\lib\\site-packages\\seaborn\\categorical.py:3666: UserWarning: The `factorplot` function has been renamed to `catplot`. The original name will be removed in a future release. Please update your code. Note that the default `kind` in `factorplot` (`'point'`) has changed `'strip'` in `catplot`.\n",
      "  warnings.warn(msg)\n"
     ]
    },
    {
     "data": {
      "image/png": "[encoded data removed]",
      "text/plain": [
       "<Figure size 1122.38x360 with 1 Axes>"
      ]
     },
     "metadata": {
      "needs_background": "light"
     },
     "output_type": "display_data"
    }
   ],
   "source": [
    "# The dates for train set are from not available for 2010,2012 and 2014\n",
    "train_test['Test'] = train_test.Id.notnull().astype(int)\n",
    "g = sns.factorplot(\"Year\", data=train_test, aspect=3,\n",
    "                       kind=\"count\", palette='cubehelix',hue = 'Test')\n",
    "g.set_xticklabels(rotation=30)\n",
    "\n",
    "# The test_column was created just for distinguishing train and test above and thus shall be dropped. Furthermore the year\n",
    "# column shall also be dropped as it is not available for all Years for the training Data \n",
    "train_test.drop(['Test','Year'],axis = 1,inplace = True)"
   ]
  },
  {
   "cell_type": "code",
   "execution_count": 21,
   "metadata": {
    "scrolled": true
   },
   "outputs": [],
   "source": [
    "# Separation to cleaned train and test sets\n",
    "train_clean = train_test[train_test.Id.isnull()]\n",
    "test_clean = train_test[train_test.Id.notnull()]"
   ]
  },
  {
   "cell_type": "code",
   "execution_count": 22,
   "metadata": {},
   "outputs": [
    {
     "name": "stdout",
     "output_type": "stream",
     "text": [
      "<class 'pandas.core.frame.DataFrame'>\n",
      "Int64Index: 17220 entries, 0 to 10505\n",
      "Columns: 153 entries, Date to sep\n",
      "dtypes: float64(3), object(1), uint8(149)\n",
      "memory usage: 3.1+ MB\n"
     ]
    },
    {
     "name": "stderr",
     "output_type": "stream",
     "text": [
      "C:\\Anaconda\\lib\\site-packages\\pandas\\core\\frame.py:3997: SettingWithCopyWarning: \n",
      "A value is trying to be set on a copy of a slice from a DataFrame\n",
      "\n",
      "See the caveats in the documentation: https://pandas.pydata.org/pandas-docs/stable/user_guide/indexing.html#returning-a-view-versus-a-copy\n",
      "  errors=errors,\n"
     ]
    }
   ],
   "source": [
    "# Removing the Id column from train set as it is only meant for kaggle submission in the test set\n",
    "train_clean.drop(['Id'],axis =1 ,inplace=True)\n",
    "train_clean.info()"
   ]
  },
  {
   "cell_type": "code",
   "execution_count": 23,
   "metadata": {},
   "outputs": [
    {
     "name": "stdout",
     "output_type": "stream",
     "text": [
      "<class 'pandas.core.frame.DataFrame'>\n",
      "Int64Index: 124903 entries, 0 to 116292\n",
      "Columns: 153 entries, Date to sep\n",
      "dtypes: float64(3), object(1), uint8(149)\n",
      "memory usage: 22.5+ MB\n"
     ]
    }
   ],
   "source": [
    "# Removing the target variable WnvPresent from the test dataset\n",
    "test_clean.drop(['WnvPresent'],axis =1 ,inplace=True)\n",
    "test_clean.info()"
   ]
  },
  {
   "cell_type": "markdown",
   "metadata": {},
   "source": [
    "### Joining together with the cleaned weather data"
   ]
  },
  {
   "cell_type": "code",
   "execution_count": 24,
   "metadata": {},
   "outputs": [],
   "source": [
    "weather_clean = pd.read_csv('../data/weather_clean.csv')\n",
    "weather_clean.rename(columns = {'date':'Date'},inplace = True)"
   ]
  },
  {
   "cell_type": "code",
   "execution_count": 25,
   "metadata": {},
   "outputs": [],
   "source": [
    "train_clean = train_clean.merge(weather_clean,how='inner',on='Date')\n",
    "test_clean = test_clean.merge(weather_clean,how='inner',on='Date')\n",
    "train_clean.drop(['Date'],axis=1,inplace =True)\n",
    "test_clean.drop(['Date'],axis=1,inplace =True)"
   ]
  },
  {
   "cell_type": "code",
   "execution_count": 29,
   "metadata": {},
   "outputs": [],
   "source": [
    "train_clean.to_csv('../data/train_clean.csv',index = False)\n",
    "test_clean.to_csv('../data/test_clean.csv',index = False)"
   ]
  }
 ],
 "metadata": {
  "kernelspec": {
   "display_name": "Python 3",
   "language": "python",
   "name": "python3"
  },
  "language_info": {
   "codemirror_mode": {
    "name": "ipython",
    "version": 3
   },
   "file_extension": ".py",
   "mimetype": "text/x-python",
   "name": "python",
   "nbconvert_exporter": "python",
   "pygments_lexer": "ipython3",
   "version": "3.7.4"
  }
 },
 "nbformat": 4,
 "nbformat_minor": 2
}
