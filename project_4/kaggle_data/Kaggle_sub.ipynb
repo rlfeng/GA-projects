{
 "cells": [
  {
   "cell_type": "code",
   "execution_count": 1,
   "metadata": {},
   "outputs": [],
   "source": [
    "from sklearn.model_selection import train_test_split, GridSearchCV\n",
    "from sklearn.preprocessing import StandardScaler, MinMaxScaler\n",
    "from sklearn.pipeline import Pipeline\n",
    "from sklearn.linear_model import LogisticRegression\n",
    "from sklearn.tree import DecisionTreeClassifier\n",
    "from sklearn.naive_bayes import GaussianNB, MultinomialNB, BernoulliNB\n",
    "from sklearn.svm import SVC\n",
    "from sklearn.ensemble import RandomForestClassifier, BaggingClassifier, AdaBoostClassifier, GradientBoostingClassifier\n",
    "from sklearn.neighbors import KNeighborsClassifier\n",
    "from sklearn.metrics import accuracy_score, confusion_matrix, precision_score, recall_score, roc_auc_score\n",
    "from sklearn.feature_extraction.text import CountVectorizer, TfidfVectorizer\n",
    "import pandas as pd\n",
    "import numpy as np\n",
    "import random\n",
    "import matplotlib.pyplot as plt\n",
    "import seaborn as sns\n",
    "from sklearn.decomposition import PCA\n",
    "\n",
    "import matplotlib.pyplot as plt\n",
    "import seaborn as sns\n",
    "%matplotlib inline"
   ]
  },
  {
   "cell_type": "code",
   "execution_count": 52,
   "metadata": {},
   "outputs": [],
   "source": [
    "train_weather_dummied=pd.read_csv('C:/Users/frl/Desktop/DSI13/MyDSI_11Feb/Projects/project_4/train_weather_dummied.csv')\n",
    "k_test=pd.read_csv('./test.csv/test.csv')\n",
    "weather_final=pd.read_csv('C:/Users/frl/Desktop/DSI13/MyDSI_11Feb/Projects/project_4/weather_final.csv')"
   ]
  },
  {
   "cell_type": "code",
   "execution_count": 53,
   "metadata": {
    "scrolled": true
   },
   "outputs": [
    {
     "data": {
      "text/plain": [
       "('2008-06-11', '2007-05-01')"
      ]
     },
     "execution_count": 53,
     "metadata": {},
     "output_type": "execute_result"
    }
   ],
   "source": [
    "k_test.Date[0],weather_final.Date[0]"
   ]
  },
  {
   "cell_type": "code",
   "execution_count": 54,
   "metadata": {},
   "outputs": [],
   "source": [
    "test_weather=pd.merge(k_test,weather_final, on=['Date'])\n",
    "test_weather_dummied=pd.get_dummies(test_weather,columns=['Species'])"
   ]
  },
  {
   "cell_type": "code",
   "execution_count": 55,
   "metadata": {},
   "outputs": [],
   "source": [
    "# Convert Date to month, year\n",
    "test_weather_dummied['year']=pd.to_datetime(test_weather_dummied['Date']).dt.strftime('%Y').astype(int)\n",
    "test_weather_dummied['month']=pd.to_datetime(test_weather_dummied['Date']).dt.strftime('%m').astype(int)"
   ]
  },
  {
   "cell_type": "code",
   "execution_count": 56,
   "metadata": {},
   "outputs": [],
   "source": [
    "test_weather_dummied.drop(columns=['Address', 'AddressAccuracy', 'AddressNumberAndStreet', 'Block', 'Date', 'Street', 'Trap','Species_UNSPECIFIED CULEX'],inplace=True)"
   ]
  },
  {
   "cell_type": "code",
   "execution_count": 57,
   "metadata": {},
   "outputs": [
    {
     "data": {
      "text/plain": [
       "Index(['WnvPresent'], dtype='object')"
      ]
     },
     "execution_count": 57,
     "metadata": {},
     "output_type": "execute_result"
    }
   ],
   "source": [
    "train_weather_dummied.columns.difference(test_weather_dummied.columns)"
   ]
  },
  {
   "cell_type": "code",
   "execution_count": 58,
   "metadata": {},
   "outputs": [
    {
     "data": {
      "text/plain": [
       "Index(['Id'], dtype='object')"
      ]
     },
     "execution_count": 58,
     "metadata": {},
     "output_type": "execute_result"
    }
   ],
   "source": [
    "test_weather_dummied.columns.difference(train_weather_dummied.columns)"
   ]
  },
  {
   "cell_type": "code",
   "execution_count": 59,
   "metadata": {},
   "outputs": [],
   "source": [
    "test_weather_dummied.set_index(['Id']);"
   ]
  },
  {
   "cell_type": "code",
   "execution_count": 60,
   "metadata": {},
   "outputs": [
    {
     "name": "stdout",
     "output_type": "stream",
     "text": [
      "<class 'pandas.core.frame.DataFrame'>\n",
      "Int64Index: 116293 entries, 0 to 116292\n",
      "Data columns (total 27 columns):\n",
      "Id                                116293 non-null int64\n",
      "Latitude                          116293 non-null float64\n",
      "Longitude                         116293 non-null float64\n",
      "Tavg                              116293 non-null float64\n",
      "Tmax                              116293 non-null float64\n",
      "Tmin                              116293 non-null float64\n",
      "DewPoint                          116293 non-null float64\n",
      "WetBulb                           116293 non-null float64\n",
      "heat                              116293 non-null float64\n",
      "cool                              116293 non-null float64\n",
      "PrecipTotal                       116293 non-null float64\n",
      "StnPressure                       116293 non-null float64\n",
      "SeaLevel                          116293 non-null float64\n",
      "ResultSpeed                       116293 non-null float64\n",
      "ResultDir                         116293 non-null float64\n",
      "AvgSpeed                          116293 non-null float64\n",
      "sun_period                        116293 non-null float64\n",
      "Depart                            116293 non-null int64\n",
      "Species_CULEX ERRATICUS           116293 non-null uint8\n",
      "Species_CULEX PIPIENS             116293 non-null uint8\n",
      "Species_CULEX PIPIENS/RESTUANS    116293 non-null uint8\n",
      "Species_CULEX RESTUANS            116293 non-null uint8\n",
      "Species_CULEX SALINARIUS          116293 non-null uint8\n",
      "Species_CULEX TARSALIS            116293 non-null uint8\n",
      "Species_CULEX TERRITANS           116293 non-null uint8\n",
      "year                              116293 non-null int32\n",
      "month                             116293 non-null int32\n",
      "dtypes: float64(16), int32(2), int64(2), uint8(7)\n",
      "memory usage: 18.5 MB\n"
     ]
    }
   ],
   "source": [
    "test_weather_dummied.info()"
   ]
  },
  {
   "cell_type": "code",
   "execution_count": null,
   "metadata": {},
   "outputs": [],
   "source": []
  }
 ],
 "metadata": {
  "kernelspec": {
   "display_name": "Python 3",
   "language": "python",
   "name": "python3"
  },
  "language_info": {
   "codemirror_mode": {
    "name": "ipython",
    "version": 3
   },
   "file_extension": ".py",
   "mimetype": "text/x-python",
   "name": "python",
   "nbconvert_exporter": "python",
   "pygments_lexer": "ipython3",
   "version": "3.7.3"
  }
 },
 "nbformat": 4,
 "nbformat_minor": 2
}
