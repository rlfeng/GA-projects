{
 "cells": [
  {
   "cell_type": "code",
   "execution_count": 1,
   "metadata": {},
   "outputs": [
    {
     "name": "stderr",
     "output_type": "stream",
     "text": [
      "C:\\Anaconda\\lib\\site-packages\\statsmodels\\tools\\_testing.py:19: FutureWarning: pandas.util.testing is deprecated. Use the functions in the public API at pandas.testing instead.\n",
      "  import pandas.util.testing as tm\n"
     ]
    }
   ],
   "source": [
    "import pandas as pd\n",
    "import numpy as np\n",
    "import seaborn as sns\n",
    "import matplotlib.pyplot as plt\n",
    "%matplotlib inline\n",
    "\n",
    "#from sklearn import metrics\n",
    "from sklearn.linear_model import LogisticRegression\n",
    "from sklearn.metrics import roc_auc_score,confusion_matrix, classification_report,accuracy_score\n",
    "\n",
    "\n",
    "# Import our model!\n",
    "#from sklearn.naive_bayes import MultinomialNB\n",
    "from sklearn.pipeline import Pipeline\n",
    "from sklearn.model_selection import GridSearchCV,train_test_split,cross_val_score\n",
    "from sklearn.preprocessing import StandardScaler\n",
    "from sklearn.ensemble import RandomForestClassifier,AdaBoostClassifier\n",
    "from sklearn.neighbors import  KNeighborsClassifier\n",
    "from sklearn.decomposition import PCA\n",
    "from sklearn.svm import SVC\n",
    "from xgboost import XGBClassifier"
   ]
  },
  {
   "cell_type": "markdown",
   "metadata": {},
   "source": [
    "# Read the data files"
   ]
  },
  {
   "cell_type": "code",
   "execution_count": 2,
   "metadata": {},
   "outputs": [
    {
     "name": "stdout",
     "output_type": "stream",
     "text": [
      "(17220, 167)\n",
      "(124903, 167)\n"
     ]
    }
   ],
   "source": [
    "train_split = pd.read_csv('../data/train_clean.csv')\n",
    "test_split = pd.read_csv('../data/test_clean.csv')\n",
    "print(train_split.shape)\n",
    "print(test_split.shape)"
   ]
  },
  {
   "cell_type": "markdown",
   "metadata": {},
   "source": [
    "# Data Modelling : Baseline accuracy\n",
    "Before, we start modelling, let's calculate the baseline accuracy of our dataset."
   ]
  },
  {
   "cell_type": "code",
   "execution_count": 3,
   "metadata": {},
   "outputs": [
    {
     "data": {
      "text/plain": [
       "0.0    0.946922\n",
       "1.0    0.053078\n",
       "Name: WnvPresent, dtype: float64"
      ]
     },
     "execution_count": 3,
     "metadata": {},
     "output_type": "execute_result"
    }
   ],
   "source": [
    "# Determing the baseline accuracy\n",
    "train_split['WnvPresent'].value_counts(normalize=True)"
   ]
  },
  {
   "cell_type": "code",
   "execution_count": 4,
   "metadata": {},
   "outputs": [
    {
     "name": "stdout",
     "output_type": "stream",
     "text": [
      "The baseline accuracy is: 0.9469221835075493\n"
     ]
    }
   ],
   "source": [
    "print(\"The baseline accuracy is: {}\".format(train_split['WnvPresent'].value_counts(normalize=True)[0]))"
   ]
  },
  {
   "cell_type": "markdown",
   "metadata": {},
   "source": [
    "## Data Modelling\n",
    "\n",
    "We have used different models to evaluate the performance in correctly predicting the target. <br>\n",
    "We will be evaluating the model's performace based on : \n",
    "- ROC score\n",
    "- Precision\n",
    "- Recall\n",
    "- F1-score"
   ]
  },
  {
   "cell_type": "markdown",
   "metadata": {},
   "source": [
    "**Create the feature variable, X & target variable, y.**"
   ]
  },
  {
   "cell_type": "code",
   "execution_count": 5,
   "metadata": {},
   "outputs": [],
   "source": [
    "features= [col for col in train_split.columns if col!='WnvPresent']\n",
    "\n",
    "# Create the feature variable\n",
    "X = train_split[features]\n",
    "\n",
    "# Create the target variable\n",
    "y = train_split['WnvPresent']"
   ]
  },
  {
   "cell_type": "code",
   "execution_count": 6,
   "metadata": {},
   "outputs": [
    {
     "name": "stdout",
     "output_type": "stream",
     "text": [
      "Shape of features is:  (17220, 166)\n",
      "Shape of target is:  (17220,)\n"
     ]
    }
   ],
   "source": [
    "print(\"Shape of features is:  {}\".format(X.shape))\n",
    "print(\"Shape of target is:  {}\".format(y.shape))"
   ]
  },
  {
   "cell_type": "code",
   "execution_count": 7,
   "metadata": {},
   "outputs": [],
   "source": [
    "# Create the train_test_split\n",
    "\n",
    "# Set stratify=y , since, this our data has imbalanced classes.\n",
    "X_train, X_test, y_train, y_test = train_test_split(X, y, random_state=42,test_size=0.3,stratify=y)\n"
   ]
  },
  {
   "cell_type": "code",
   "execution_count": 8,
   "metadata": {},
   "outputs": [
    {
     "name": "stdout",
     "output_type": "stream",
     "text": [
      "Shape of X_train is:  (12054, 166)\n",
      "Shape of y_train is:  (12054,)\n",
      "Shape of X_test is:  (5166, 166)\n",
      "Shape of y_test is:  (5166,)\n"
     ]
    }
   ],
   "source": [
    "print(\"Shape of X_train is:  {}\".format(X_train.shape))\n",
    "print(\"Shape of y_train is:  {}\".format(y_train.shape))\n",
    "print(\"Shape of X_test is:  {}\".format(X_test.shape))\n",
    "print(\"Shape of y_test is:  {}\".format(y_test.shape))"
   ]
  },
  {
   "cell_type": "code",
   "execution_count": 9,
   "metadata": {},
   "outputs": [],
   "source": [
    "# Instantiate StandardScaler\n",
    "ss = StandardScaler()"
   ]
  },
  {
   "cell_type": "code",
   "execution_count": 10,
   "metadata": {},
   "outputs": [],
   "source": [
    "# Fit and transform the X_train using StandardScaler\n",
    "X_train_sc = ss.fit_transform(X_train)\n",
    "\n",
    "# Transform the X_test\n",
    "X_test_sc = ss.transform(X_test)"
   ]
  },
  {
   "cell_type": "markdown",
   "metadata": {},
   "source": [
    "### Model 1: Vanilla Logistic Regression model"
   ]
  },
  {
   "cell_type": "code",
   "execution_count": 11,
   "metadata": {},
   "outputs": [],
   "source": [
    "# Instantiate the LogisticRegression model\n",
    "lr = LogisticRegression(max_iter = 4000,random_state=42)"
   ]
  },
  {
   "cell_type": "code",
   "execution_count": 12,
   "metadata": {},
   "outputs": [
    {
     "name": "stderr",
     "output_type": "stream",
     "text": [
      "C:\\Anaconda\\lib\\site-packages\\sklearn\\linear_model\\logistic.py:432: FutureWarning: Default solver will be changed to 'lbfgs' in 0.22. Specify a solver to silence this warning.\n",
      "  FutureWarning)\n",
      "C:\\Anaconda\\lib\\site-packages\\sklearn\\linear_model\\logistic.py:432: FutureWarning: Default solver will be changed to 'lbfgs' in 0.22. Specify a solver to silence this warning.\n",
      "  FutureWarning)\n",
      "C:\\Anaconda\\lib\\site-packages\\sklearn\\linear_model\\logistic.py:432: FutureWarning: Default solver will be changed to 'lbfgs' in 0.22. Specify a solver to silence this warning.\n",
      "  FutureWarning)\n",
      "C:\\Anaconda\\lib\\site-packages\\sklearn\\linear_model\\logistic.py:432: FutureWarning: Default solver will be changed to 'lbfgs' in 0.22. Specify a solver to silence this warning.\n",
      "  FutureWarning)\n",
      "C:\\Anaconda\\lib\\site-packages\\sklearn\\linear_model\\logistic.py:432: FutureWarning: Default solver will be changed to 'lbfgs' in 0.22. Specify a solver to silence this warning.\n",
      "  FutureWarning)\n"
     ]
    },
    {
     "name": "stdout",
     "output_type": "stream",
     "text": [
      "The mean accuracy for vanilla logistic regression model is: \n",
      "0.9463\n"
     ]
    }
   ],
   "source": [
    "# Do a cross_val_score to check its R2-score\n",
    "lr_r2_score = cross_val_score(lr, X_train_sc, y_train, cv=5).mean()\n",
    "\n",
    "print(\"The mean accuracy for vanilla logistic regression model is: \\n{}\".format(round(lr_r2_score,4)))"
   ]
  },
  {
   "cell_type": "code",
   "execution_count": 13,
   "metadata": {},
   "outputs": [
    {
     "name": "stderr",
     "output_type": "stream",
     "text": [
      "C:\\Anaconda\\lib\\site-packages\\sklearn\\linear_model\\logistic.py:432: FutureWarning: Default solver will be changed to 'lbfgs' in 0.22. Specify a solver to silence this warning.\n",
      "  FutureWarning)\n"
     ]
    },
    {
     "name": "stdout",
     "output_type": "stream",
     "text": [
      "Wall time: 3.99 s\n"
     ]
    },
    {
     "data": {
      "text/plain": [
       "LogisticRegression(C=1.0, class_weight=None, dual=False, fit_intercept=True,\n",
       "                   intercept_scaling=1, l1_ratio=None, max_iter=4000,\n",
       "                   multi_class='warn', n_jobs=None, penalty='l2',\n",
       "                   random_state=42, solver='warn', tol=0.0001, verbose=0,\n",
       "                   warm_start=False)"
      ]
     },
     "execution_count": 13,
     "metadata": {},
     "output_type": "execute_result"
    }
   ],
   "source": [
    "%%time\n",
    "\n",
    "# Fit the LogisticRegression model on X_train_sc and y_train\n",
    "lr.fit(X_train_sc,y_train)"
   ]
  },
  {
   "cell_type": "code",
   "execution_count": 14,
   "metadata": {},
   "outputs": [
    {
     "name": "stdout",
     "output_type": "stream",
     "text": [
      "The accuracy for vanilla logistic regression model on training set is: \n",
      "0.9468\n"
     ]
    }
   ],
   "source": [
    "print(\"The accuracy for vanilla logistic regression model on training set is: \\n{}\".\n",
    "      format(round(lr.score(X_train_sc, y_train),4)))"
   ]
  },
  {
   "cell_type": "code",
   "execution_count": 15,
   "metadata": {},
   "outputs": [
    {
     "name": "stdout",
     "output_type": "stream",
     "text": [
      "The accuracy for vanilla logistic regression model on testing set is: \n",
      "0.946\n"
     ]
    }
   ],
   "source": [
    "print(\"The accuracy for vanilla logistic regression model on testing set is: \\n{}\".\n",
    "      format(round(lr.score(X_test_sc, y_test),4)))"
   ]
  },
  {
   "cell_type": "code",
   "execution_count": 16,
   "metadata": {},
   "outputs": [],
   "source": [
    "# So the predictions\n",
    "predictions = lr.predict(X_test_sc)"
   ]
  },
  {
   "cell_type": "code",
   "execution_count": 17,
   "metadata": {},
   "outputs": [
    {
     "data": {
      "text/html": [
       "<div>\n",
       "<style scoped>\n",
       "    .dataframe tbody tr th:only-of-type {\n",
       "        vertical-align: middle;\n",
       "    }\n",
       "\n",
       "    .dataframe tbody tr th {\n",
       "        vertical-align: top;\n",
       "    }\n",
       "\n",
       "    .dataframe thead th {\n",
       "        text-align: right;\n",
       "    }\n",
       "</style>\n",
       "<table border=\"1\" class=\"dataframe\">\n",
       "  <thead>\n",
       "    <tr style=\"text-align: right;\">\n",
       "      <th></th>\n",
       "      <th>Predicted no_Wnv</th>\n",
       "      <th>Predicted Wnv</th>\n",
       "    </tr>\n",
       "  </thead>\n",
       "  <tbody>\n",
       "    <tr>\n",
       "      <th>Actual No_Wnv</th>\n",
       "      <td>4881</td>\n",
       "      <td>11</td>\n",
       "    </tr>\n",
       "    <tr>\n",
       "      <th>Actual Wnv</th>\n",
       "      <td>268</td>\n",
       "      <td>6</td>\n",
       "    </tr>\n",
       "  </tbody>\n",
       "</table>\n",
       "</div>"
      ],
      "text/plain": [
       "               Predicted no_Wnv  Predicted Wnv\n",
       "Actual No_Wnv              4881             11\n",
       "Actual Wnv                  268              6"
      ]
     },
     "execution_count": 17,
     "metadata": {},
     "output_type": "execute_result"
    }
   ],
   "source": [
    "# Create a dataframe for confusion_matrix\n",
    "pd.DataFrame(confusion_matrix(y_test,predictions),\n",
    "            columns=['Predicted no_Wnv','Predicted Wnv'],\n",
    "            index=['Actual No_Wnv', 'Actual Wnv'])"
   ]
  },
  {
   "cell_type": "code",
   "execution_count": 18,
   "metadata": {},
   "outputs": [
    {
     "name": "stdout",
     "output_type": "stream",
     "text": [
      "True Negatives: 4881\n",
      "False Positives: 11\n",
      "False Negatives: 268\n",
      "True Positives: 6\n"
     ]
    }
   ],
   "source": [
    "# Print the confusion matrix\n",
    "\n",
    "tn, fp, fn, tp = confusion_matrix(y_test, predictions).ravel()\n",
    "\n",
    "print(\"True Negatives: %s\" % tn)\n",
    "print(\"False Positives: %s\" % fp)\n",
    "print(\"False Negatives: %s\" % fn)\n",
    "print(\"True Positives: %s\" % tp)"
   ]
  },
  {
   "cell_type": "code",
   "execution_count": 19,
   "metadata": {},
   "outputs": [
    {
     "name": "stdout",
     "output_type": "stream",
     "text": [
      "Sensitivity/Recall score for this model is: \n",
      "0.021897810218978103\n",
      "\n",
      "Precision score for this model is: \n",
      "0.35294117647058826\n",
      "\n",
      "Specificity score for this model is: \n",
      "0.9977514309076042\n",
      "\n",
      "F1_score score for this model is: \n",
      "0.041237113402061855\n"
     ]
    }
   ],
   "source": [
    "# Calculate senstivity and specificity for the model\n",
    "precision = tp/(tp + fp)\n",
    "recall = tp/(tp+fn)\n",
    "specificity = tn/(tn+fp)\n",
    "f1_score = 2*((precision*recall)/(precision+recall))\n",
    "\n",
    "print(\"Sensitivity/Recall score for this model is: \\n{}\\n\".format(recall))\n",
    "print(\"Precision score for this model is: \\n{}\\n\".format(precision))\n",
    "print(\"Specificity score for this model is: \\n{}\\n\".format(specificity))\n",
    "print(\"F1_score score for this model is: \\n{}\".format(f1_score))"
   ]
  },
  {
   "cell_type": "code",
   "execution_count": 20,
   "metadata": {},
   "outputs": [
    {
     "name": "stdout",
     "output_type": "stream",
     "text": [
      "              precision    recall  f1-score   support\n",
      "\n",
      "         0.0       0.95      1.00      0.97      4892\n",
      "         1.0       0.35      0.02      0.04       274\n",
      "\n",
      "    accuracy                           0.95      5166\n",
      "   macro avg       0.65      0.51      0.51      5166\n",
      "weighted avg       0.92      0.95      0.92      5166\n",
      "\n"
     ]
    }
   ],
   "source": [
    "# Print the classification report\n",
    "print(classification_report(y_test, predictions))"
   ]
  },
  {
   "cell_type": "code",
   "execution_count": 21,
   "metadata": {},
   "outputs": [],
   "source": [
    "# Generate the probalities of predictions for above model\n",
    "pred_proba = [i[1] for i in lr.predict_proba(X_test_sc)]"
   ]
  },
  {
   "cell_type": "code",
   "execution_count": 22,
   "metadata": {},
   "outputs": [],
   "source": [
    "# Create a dataframe with the true values and probablities\n",
    "pred_df = pd.DataFrame({'true_values': y_test,\n",
    "                        'pred_probs':pred_proba})"
   ]
  },
  {
   "cell_type": "markdown",
   "metadata": {},
   "source": [
    "Function to plot ROC curve"
   ]
  },
  {
   "cell_type": "code",
   "execution_count": 23,
   "metadata": {},
   "outputs": [],
   "source": [
    "# Define function to calculate sensitivity. (True positive rate.)\n",
    "def TPR(df, true_col, pred_prob_col, threshold):\n",
    "    true_positive = df[(df[true_col] == 1) & (df[pred_prob_col] >= threshold)].shape[0]\n",
    "    false_negative = df[(df[true_col] == 1) & (df[pred_prob_col] < threshold)].shape[0]\n",
    "    return true_positive / (true_positive + false_negative)\n",
    "\n",
    "# Define function to calculate 1 - specificity. (False positive rate.)\n",
    "def FPR(df, true_col, pred_prob_col, threshold):\n",
    "    true_negative = df[(df[true_col] == 0) & (df[pred_prob_col] <= threshold)].shape[0]\n",
    "    false_positive = df[(df[true_col] == 0) & (df[pred_prob_col] > threshold)].shape[0]\n",
    "    return 1 - (true_negative / (true_negative + false_positive))\n",
    "\n",
    "# Function to plot the ROC curve\n",
    "def roc_plot(fpr_values,tpr_values,pred_df):\n",
    "    # Create figure.\n",
    "    plt.figure(figsize = (10,7))\n",
    "\n",
    "    # Create threshold values. (Dashed red line in image.)\n",
    "    thresholds = np.linspace(0, 1, 200)    \n",
    "\n",
    "    # Plot ROC curve.\n",
    "    plt.plot(fpr_values, # False Positive Rate on X-axis\n",
    "             tpr_values, # True Positive Rate on Y-axis\n",
    "             label='ROC Curve')\n",
    "\n",
    "    # Plot baseline. (Perfect overlap between the two populations.)\n",
    "    plt.plot(np.linspace(0, 1, 200),\n",
    "             np.linspace(0, 1, 200),\n",
    "             label='baseline',\n",
    "             linestyle='--')\n",
    "\n",
    "    # Label axes.\n",
    "    #plt.title(f'ROC Curve with AUC = {round(roc_auc_score(pred_df['true_values'],pred_df['pred_probs']),3)}', fontsize=22)\n",
    "    plt.title('ROC Curve with AUC = {}'.format(round(roc_auc_score(pred_df['true_values'],pred_df['pred_probs']),3)), fontsize=22)\n",
    "    plt.ylabel('Sensitivity', fontsize=18)\n",
    "    plt.xlabel('1 - Specificity', fontsize=18)\n",
    "\n",
    "    # Create legend.\n",
    "    plt.legend(fontsize=16);"
   ]
  },
  {
   "cell_type": "code",
   "execution_count": 24,
   "metadata": {},
   "outputs": [
    {
     "name": "stdout",
     "output_type": "stream",
     "text": [
      "The AUC for model is \n",
      "0.8436136609151841\n"
     ]
    }
   ],
   "source": [
    "# Calculate roc score\n",
    "roc_score = roc_auc_score(pred_df['true_values'], pred_df['pred_probs'])\n",
    "print(\"The AUC for model is \\n{}\".format(roc_score))"
   ]
  },
  {
   "cell_type": "code",
   "execution_count": 25,
   "metadata": {},
   "outputs": [
    {
     "data": {
      "image/png": "[encoded data removed]",
      "text/plain": [
       "<Figure size 720x504 with 1 Axes>"
      ]
     },
     "metadata": {
      "needs_background": "light"
     },
     "output_type": "display_data"
    }
   ],
   "source": [
    "# Calculate snsitivity & 1-specificity for each threshold between 0 and 1.\n",
    "\n",
    "# Create threshold values. (Dashed red line in image.)\n",
    "thresholds = np.linspace(0, 1, 200)  \n",
    "\n",
    "# Call the function to create trure_positive_rate values\n",
    "tpr_values = [TPR(pred_df, 'true_values', 'pred_probs', prob) for prob in thresholds]\n",
    "\n",
    "# Call the function to create false_positive_rate values\n",
    "fpr_values = [FPR(pred_df, 'true_values', 'pred_probs', prob) for prob in thresholds]\n",
    "\n",
    "# Plot the graph\n",
    "roc_plot(fpr_values,tpr_values,pred_df)"
   ]
  },
  {
   "cell_type": "code",
   "execution_count": 26,
   "metadata": {},
   "outputs": [],
   "source": [
    "# Storing the scores of this model for future reference\n",
    "training_accuracy = [round(lr.score(X_train_sc, y_train),4)]\n",
    "testing_accuracy = [round(lr.score(X_test_sc, y_test),4)]\n",
    "specificity_score = [round(specificity,4)]\n",
    "precision_score = [round(precision,4)]\n",
    "recall_score = [round(recall,4)]\n",
    "f1 = [round(f1_score,4)]\n",
    "roc = [round(roc_score,4)]"
   ]
  },
  {
   "cell_type": "markdown",
   "metadata": {},
   "source": [
    "### Model 2: Logistic Regression (with GridSearchCV) model"
   ]
  },
  {
   "cell_type": "code",
   "execution_count": 27,
   "metadata": {},
   "outputs": [],
   "source": [
    "# Instantiate the model\n",
    "lr_model = LogisticRegression(max_iter = 4000,random_state=42)"
   ]
  },
  {
   "cell_type": "code",
   "execution_count": 28,
   "metadata": {},
   "outputs": [],
   "source": [
    "# Create the params for gridsearch\n",
    "pipe_params ={\n",
    "    'C' : np.logspace(-4, 4, 10),\n",
    "    'penalty' : ['l1','l2'],\n",
    "    #To deal with imbalance class\n",
    "    'class_weight':['balanced']}"
   ]
  },
  {
   "cell_type": "code",
   "execution_count": 29,
   "metadata": {},
   "outputs": [
    {
     "ename": "KeyboardInterrupt",
     "evalue": "",
     "output_type": "error",
     "traceback": [
      "\u001b[1;31m---------------------------------------------------------------------------\u001b[0m",
      "\u001b[1;31mKeyboardInterrupt\u001b[0m                         Traceback (most recent call last)",
      "\u001b[1;32m<timed exec>\u001b[0m in \u001b[0;36m<module>\u001b[1;34m\u001b[0m\n",
      "\u001b[1;32mC:\\Anaconda\\lib\\site-packages\\sklearn\\model_selection\\_search.py\u001b[0m in \u001b[0;36mfit\u001b[1;34m(self, X, y, groups, **fit_params)\u001b[0m\n\u001b[0;32m    686\u001b[0m                 \u001b[1;32mreturn\u001b[0m \u001b[0mresults\u001b[0m\u001b[1;33m\u001b[0m\u001b[1;33m\u001b[0m\u001b[0m\n\u001b[0;32m    687\u001b[0m \u001b[1;33m\u001b[0m\u001b[0m\n\u001b[1;32m--> 688\u001b[1;33m             \u001b[0mself\u001b[0m\u001b[1;33m.\u001b[0m\u001b[0m_run_search\u001b[0m\u001b[1;33m(\u001b[0m\u001b[0mevaluate_candidates\u001b[0m\u001b[1;33m)\u001b[0m\u001b[1;33m\u001b[0m\u001b[1;33m\u001b[0m\u001b[0m\n\u001b[0m\u001b[0;32m    689\u001b[0m \u001b[1;33m\u001b[0m\u001b[0m\n\u001b[0;32m    690\u001b[0m         \u001b[1;31m# For multi-metric evaluation, store the best_index_, best_params_ and\u001b[0m\u001b[1;33m\u001b[0m\u001b[1;33m\u001b[0m\u001b[1;33m\u001b[0m\u001b[0m\n",
      "\u001b[1;32mC:\\Anaconda\\lib\\site-packages\\sklearn\\model_selection\\_search.py\u001b[0m in \u001b[0;36m_run_search\u001b[1;34m(self, evaluate_candidates)\u001b[0m\n\u001b[0;32m   1147\u001b[0m     \u001b[1;32mdef\u001b[0m \u001b[0m_run_search\u001b[0m\u001b[1;33m(\u001b[0m\u001b[0mself\u001b[0m\u001b[1;33m,\u001b[0m \u001b[0mevaluate_candidates\u001b[0m\u001b[1;33m)\u001b[0m\u001b[1;33m:\u001b[0m\u001b[1;33m\u001b[0m\u001b[1;33m\u001b[0m\u001b[0m\n\u001b[0;32m   1148\u001b[0m         \u001b[1;34m\"\"\"Search all candidates in param_grid\"\"\"\u001b[0m\u001b[1;33m\u001b[0m\u001b[1;33m\u001b[0m\u001b[0m\n\u001b[1;32m-> 1149\u001b[1;33m         \u001b[0mevaluate_candidates\u001b[0m\u001b[1;33m(\u001b[0m\u001b[0mParameterGrid\u001b[0m\u001b[1;33m(\u001b[0m\u001b[0mself\u001b[0m\u001b[1;33m.\u001b[0m\u001b[0mparam_grid\u001b[0m\u001b[1;33m)\u001b[0m\u001b[1;33m)\u001b[0m\u001b[1;33m\u001b[0m\u001b[1;33m\u001b[0m\u001b[0m\n\u001b[0m\u001b[0;32m   1150\u001b[0m \u001b[1;33m\u001b[0m\u001b[0m\n\u001b[0;32m   1151\u001b[0m \u001b[1;33m\u001b[0m\u001b[0m\n",
      "\u001b[1;32mC:\\Anaconda\\lib\\site-packages\\sklearn\\model_selection\\_search.py\u001b[0m in \u001b[0;36mevaluate_candidates\u001b[1;34m(candidate_params)\u001b[0m\n\u001b[0;32m    665\u001b[0m                                \u001b[1;32mfor\u001b[0m \u001b[0mparameters\u001b[0m\u001b[1;33m,\u001b[0m \u001b[1;33m(\u001b[0m\u001b[0mtrain\u001b[0m\u001b[1;33m,\u001b[0m \u001b[0mtest\u001b[0m\u001b[1;33m)\u001b[0m\u001b[1;33m\u001b[0m\u001b[1;33m\u001b[0m\u001b[0m\n\u001b[0;32m    666\u001b[0m                                in product(candidate_params,\n\u001b[1;32m--> 667\u001b[1;33m                                           cv.split(X, y, groups)))\n\u001b[0m\u001b[0;32m    668\u001b[0m \u001b[1;33m\u001b[0m\u001b[0m\n\u001b[0;32m    669\u001b[0m                 \u001b[1;32mif\u001b[0m \u001b[0mlen\u001b[0m\u001b[1;33m(\u001b[0m\u001b[0mout\u001b[0m\u001b[1;33m)\u001b[0m \u001b[1;33m<\u001b[0m \u001b[1;36m1\u001b[0m\u001b[1;33m:\u001b[0m\u001b[1;33m\u001b[0m\u001b[1;33m\u001b[0m\u001b[0m\n",
      "\u001b[1;32mC:\\Anaconda\\lib\\site-packages\\joblib\\parallel.py\u001b[0m in \u001b[0;36m__call__\u001b[1;34m(self, iterable)\u001b[0m\n\u001b[0;32m    932\u001b[0m \u001b[1;33m\u001b[0m\u001b[0m\n\u001b[0;32m    933\u001b[0m             \u001b[1;32mwith\u001b[0m \u001b[0mself\u001b[0m\u001b[1;33m.\u001b[0m\u001b[0m_backend\u001b[0m\u001b[1;33m.\u001b[0m\u001b[0mretrieval_context\u001b[0m\u001b[1;33m(\u001b[0m\u001b[1;33m)\u001b[0m\u001b[1;33m:\u001b[0m\u001b[1;33m\u001b[0m\u001b[1;33m\u001b[0m\u001b[0m\n\u001b[1;32m--> 934\u001b[1;33m                 \u001b[0mself\u001b[0m\u001b[1;33m.\u001b[0m\u001b[0mretrieve\u001b[0m\u001b[1;33m(\u001b[0m\u001b[1;33m)\u001b[0m\u001b[1;33m\u001b[0m\u001b[1;33m\u001b[0m\u001b[0m\n\u001b[0m\u001b[0;32m    935\u001b[0m             \u001b[1;31m# Make sure that we get a last message telling us we are done\u001b[0m\u001b[1;33m\u001b[0m\u001b[1;33m\u001b[0m\u001b[1;33m\u001b[0m\u001b[0m\n\u001b[0;32m    936\u001b[0m             \u001b[0melapsed_time\u001b[0m \u001b[1;33m=\u001b[0m \u001b[0mtime\u001b[0m\u001b[1;33m.\u001b[0m\u001b[0mtime\u001b[0m\u001b[1;33m(\u001b[0m\u001b[1;33m)\u001b[0m \u001b[1;33m-\u001b[0m \u001b[0mself\u001b[0m\u001b[1;33m.\u001b[0m\u001b[0m_start_time\u001b[0m\u001b[1;33m\u001b[0m\u001b[1;33m\u001b[0m\u001b[0m\n",
      "\u001b[1;32mC:\\Anaconda\\lib\\site-packages\\joblib\\parallel.py\u001b[0m in \u001b[0;36mretrieve\u001b[1;34m(self)\u001b[0m\n\u001b[0;32m    831\u001b[0m             \u001b[1;32mtry\u001b[0m\u001b[1;33m:\u001b[0m\u001b[1;33m\u001b[0m\u001b[1;33m\u001b[0m\u001b[0m\n\u001b[0;32m    832\u001b[0m                 \u001b[1;32mif\u001b[0m \u001b[0mgetattr\u001b[0m\u001b[1;33m(\u001b[0m\u001b[0mself\u001b[0m\u001b[1;33m.\u001b[0m\u001b[0m_backend\u001b[0m\u001b[1;33m,\u001b[0m \u001b[1;34m'supports_timeout'\u001b[0m\u001b[1;33m,\u001b[0m \u001b[1;32mFalse\u001b[0m\u001b[1;33m)\u001b[0m\u001b[1;33m:\u001b[0m\u001b[1;33m\u001b[0m\u001b[1;33m\u001b[0m\u001b[0m\n\u001b[1;32m--> 833\u001b[1;33m                     \u001b[0mself\u001b[0m\u001b[1;33m.\u001b[0m\u001b[0m_output\u001b[0m\u001b[1;33m.\u001b[0m\u001b[0mextend\u001b[0m\u001b[1;33m(\u001b[0m\u001b[0mjob\u001b[0m\u001b[1;33m.\u001b[0m\u001b[0mget\u001b[0m\u001b[1;33m(\u001b[0m\u001b[0mtimeout\u001b[0m\u001b[1;33m=\u001b[0m\u001b[0mself\u001b[0m\u001b[1;33m.\u001b[0m\u001b[0mtimeout\u001b[0m\u001b[1;33m)\u001b[0m\u001b[1;33m)\u001b[0m\u001b[1;33m\u001b[0m\u001b[1;33m\u001b[0m\u001b[0m\n\u001b[0m\u001b[0;32m    834\u001b[0m                 \u001b[1;32melse\u001b[0m\u001b[1;33m:\u001b[0m\u001b[1;33m\u001b[0m\u001b[1;33m\u001b[0m\u001b[0m\n\u001b[0;32m    835\u001b[0m                     \u001b[0mself\u001b[0m\u001b[1;33m.\u001b[0m\u001b[0m_output\u001b[0m\u001b[1;33m.\u001b[0m\u001b[0mextend\u001b[0m\u001b[1;33m(\u001b[0m\u001b[0mjob\u001b[0m\u001b[1;33m.\u001b[0m\u001b[0mget\u001b[0m\u001b[1;33m(\u001b[0m\u001b[1;33m)\u001b[0m\u001b[1;33m)\u001b[0m\u001b[1;33m\u001b[0m\u001b[1;33m\u001b[0m\u001b[0m\n",
      "\u001b[1;32mC:\\Anaconda\\lib\\site-packages\\joblib\\_parallel_backends.py\u001b[0m in \u001b[0;36mwrap_future_result\u001b[1;34m(future, timeout)\u001b[0m\n\u001b[0;32m    519\u001b[0m         AsyncResults.get from multiprocessing.\"\"\"\n\u001b[0;32m    520\u001b[0m         \u001b[1;32mtry\u001b[0m\u001b[1;33m:\u001b[0m\u001b[1;33m\u001b[0m\u001b[1;33m\u001b[0m\u001b[0m\n\u001b[1;32m--> 521\u001b[1;33m             \u001b[1;32mreturn\u001b[0m \u001b[0mfuture\u001b[0m\u001b[1;33m.\u001b[0m\u001b[0mresult\u001b[0m\u001b[1;33m(\u001b[0m\u001b[0mtimeout\u001b[0m\u001b[1;33m=\u001b[0m\u001b[0mtimeout\u001b[0m\u001b[1;33m)\u001b[0m\u001b[1;33m\u001b[0m\u001b[1;33m\u001b[0m\u001b[0m\n\u001b[0m\u001b[0;32m    522\u001b[0m         \u001b[1;32mexcept\u001b[0m \u001b[0mLokyTimeoutError\u001b[0m\u001b[1;33m:\u001b[0m\u001b[1;33m\u001b[0m\u001b[1;33m\u001b[0m\u001b[0m\n\u001b[0;32m    523\u001b[0m             \u001b[1;32mraise\u001b[0m \u001b[0mTimeoutError\u001b[0m\u001b[1;33m(\u001b[0m\u001b[1;33m)\u001b[0m\u001b[1;33m\u001b[0m\u001b[1;33m\u001b[0m\u001b[0m\n",
      "\u001b[1;32mC:\\Anaconda\\lib\\concurrent\\futures\\_base.py\u001b[0m in \u001b[0;36mresult\u001b[1;34m(self, timeout)\u001b[0m\n\u001b[0;32m    428\u001b[0m                 \u001b[1;32mreturn\u001b[0m \u001b[0mself\u001b[0m\u001b[1;33m.\u001b[0m\u001b[0m__get_result\u001b[0m\u001b[1;33m(\u001b[0m\u001b[1;33m)\u001b[0m\u001b[1;33m\u001b[0m\u001b[1;33m\u001b[0m\u001b[0m\n\u001b[0;32m    429\u001b[0m \u001b[1;33m\u001b[0m\u001b[0m\n\u001b[1;32m--> 430\u001b[1;33m             \u001b[0mself\u001b[0m\u001b[1;33m.\u001b[0m\u001b[0m_condition\u001b[0m\u001b[1;33m.\u001b[0m\u001b[0mwait\u001b[0m\u001b[1;33m(\u001b[0m\u001b[0mtimeout\u001b[0m\u001b[1;33m)\u001b[0m\u001b[1;33m\u001b[0m\u001b[1;33m\u001b[0m\u001b[0m\n\u001b[0m\u001b[0;32m    431\u001b[0m \u001b[1;33m\u001b[0m\u001b[0m\n\u001b[0;32m    432\u001b[0m             \u001b[1;32mif\u001b[0m \u001b[0mself\u001b[0m\u001b[1;33m.\u001b[0m\u001b[0m_state\u001b[0m \u001b[1;32min\u001b[0m \u001b[1;33m[\u001b[0m\u001b[0mCANCELLED\u001b[0m\u001b[1;33m,\u001b[0m \u001b[0mCANCELLED_AND_NOTIFIED\u001b[0m\u001b[1;33m]\u001b[0m\u001b[1;33m:\u001b[0m\u001b[1;33m\u001b[0m\u001b[1;33m\u001b[0m\u001b[0m\n",
      "\u001b[1;32mC:\\Anaconda\\lib\\threading.py\u001b[0m in \u001b[0;36mwait\u001b[1;34m(self, timeout)\u001b[0m\n\u001b[0;32m    294\u001b[0m         \u001b[1;32mtry\u001b[0m\u001b[1;33m:\u001b[0m    \u001b[1;31m# restore state no matter what (e.g., KeyboardInterrupt)\u001b[0m\u001b[1;33m\u001b[0m\u001b[1;33m\u001b[0m\u001b[0m\n\u001b[0;32m    295\u001b[0m             \u001b[1;32mif\u001b[0m \u001b[0mtimeout\u001b[0m \u001b[1;32mis\u001b[0m \u001b[1;32mNone\u001b[0m\u001b[1;33m:\u001b[0m\u001b[1;33m\u001b[0m\u001b[1;33m\u001b[0m\u001b[0m\n\u001b[1;32m--> 296\u001b[1;33m                 \u001b[0mwaiter\u001b[0m\u001b[1;33m.\u001b[0m\u001b[0macquire\u001b[0m\u001b[1;33m(\u001b[0m\u001b[1;33m)\u001b[0m\u001b[1;33m\u001b[0m\u001b[1;33m\u001b[0m\u001b[0m\n\u001b[0m\u001b[0;32m    297\u001b[0m                 \u001b[0mgotit\u001b[0m \u001b[1;33m=\u001b[0m \u001b[1;32mTrue\u001b[0m\u001b[1;33m\u001b[0m\u001b[1;33m\u001b[0m\u001b[0m\n\u001b[0;32m    298\u001b[0m             \u001b[1;32melse\u001b[0m\u001b[1;33m:\u001b[0m\u001b[1;33m\u001b[0m\u001b[1;33m\u001b[0m\u001b[0m\n",
      "\u001b[1;31mKeyboardInterrupt\u001b[0m: "
     ]
    }
   ],
   "source": [
    "%%time\n",
    "\n",
    "# Grid search the paramaters\n",
    "gs_lr = GridSearchCV(lr_model, param_grid=pipe_params, cv=5, n_jobs=-1)\n",
    "\n",
    "# Fit our X_train & y_train to the model\n",
    "gs_lr.fit(X_train_sc,y_train)"
   ]
  },
  {
   "cell_type": "code",
   "execution_count": 30,
   "metadata": {},
   "outputs": [
    {
     "ename": "AttributeError",
     "evalue": "'GridSearchCV' object has no attribute 'best_params_'",
     "output_type": "error",
     "traceback": [
      "\u001b[1;31m---------------------------------------------------------------------------\u001b[0m",
      "\u001b[1;31mAttributeError\u001b[0m                            Traceback (most recent call last)",
      "\u001b[1;32m<ipython-input-30-a483e7fc5503>\u001b[0m in \u001b[0;36m<module>\u001b[1;34m\u001b[0m\n\u001b[0;32m      1\u001b[0m \u001b[1;31m# Print out the best paramaters\u001b[0m\u001b[1;33m\u001b[0m\u001b[1;33m\u001b[0m\u001b[1;33m\u001b[0m\u001b[0m\n\u001b[1;32m----> 2\u001b[1;33m \u001b[0mgs_lr\u001b[0m\u001b[1;33m.\u001b[0m\u001b[0mbest_params_\u001b[0m\u001b[1;33m\u001b[0m\u001b[1;33m\u001b[0m\u001b[0m\n\u001b[0m",
      "\u001b[1;31mAttributeError\u001b[0m: 'GridSearchCV' object has no attribute 'best_params_'"
     ]
    }
   ],
   "source": [
    "# Print out the best paramaters\n",
    "gs_lr.best_params_"
   ]
  },
  {
   "cell_type": "code",
   "execution_count": null,
   "metadata": {},
   "outputs": [],
   "source": [
    "print(\"Accuracy for LogisticRegression (with gridsearch) on training set is: \\n{}\\n\".\n",
    "      format(gs_lr.score(X_train_sc,y_train)))\n",
    "\n",
    "print(\"Accuracy for LogisticRegression (with gridsearch) on testing set is: \\n{}\\n\".\n",
    "      format(gs_lr.score(X_test_sc,y_test)))"
   ]
  },
  {
   "cell_type": "code",
   "execution_count": null,
   "metadata": {},
   "outputs": [],
   "source": [
    "# Do the predictions\n",
    "predictions = gs_lr.predict(X_test_sc)"
   ]
  },
  {
   "cell_type": "code",
   "execution_count": null,
   "metadata": {},
   "outputs": [],
   "source": [
    "# Create a dataframe for confusion_matrix\n",
    "pd.DataFrame(confusion_matrix(y_test,predictions),\n",
    "            columns=['Predicted no_Wnv','Predicted Wnv'],\n",
    "            index=['Actual No_Wnv', 'Actual Wnv'])"
   ]
  },
  {
   "cell_type": "code",
   "execution_count": null,
   "metadata": {},
   "outputs": [],
   "source": [
    "# Print the confusion matrix\n",
    "\n",
    "tn, fp, fn, tp = confusion_matrix(y_test, predictions).ravel()\n",
    "\n",
    "print(\"True Negatives: %s\" % tn)\n",
    "print(\"False Positives: %s\" % fp)\n",
    "print(\"False Negatives: %s\" % fn)\n",
    "print(\"True Positives: %s\" % tp)"
   ]
  },
  {
   "cell_type": "code",
   "execution_count": null,
   "metadata": {},
   "outputs": [],
   "source": [
    "# Calculate senstivity and specificity for the model\n",
    "precision = tp/(tp + fp)\n",
    "recall = tp/(tp+fn)\n",
    "specificity = tn/(tn+fp)\n",
    "f1_score = 2*((precision*recall)/(precision+recall))\n",
    "\n",
    "print(\"Sensitivity/Recall score for this model is: \\n{}\\n\".format(recall))\n",
    "print(\"Precision score for this model is: \\n{}\\n\".format(precision))\n",
    "print(\"Specificity score for this model is: \\n{}\\n\".format(specificity))\n",
    "print(\"F1_score score for this model is: \\n{}\".format(f1_score))"
   ]
  },
  {
   "cell_type": "code",
   "execution_count": null,
   "metadata": {},
   "outputs": [],
   "source": [
    "# Display classification report\n",
    "print(classification_report(y_test, predictions))"
   ]
  },
  {
   "cell_type": "code",
   "execution_count": null,
   "metadata": {},
   "outputs": [],
   "source": [
    "# Generate the probalities of predictions for above model\n",
    "pred_proba = [i[1] for i in gs_lr.predict_proba(X_test_sc)]"
   ]
  },
  {
   "cell_type": "code",
   "execution_count": null,
   "metadata": {},
   "outputs": [],
   "source": [
    "# Create a dataframe with the true values and probablities\n",
    "pred_df = pd.DataFrame({'true_values': y_test,\n",
    "                        'pred_probs':pred_proba})"
   ]
  },
  {
   "cell_type": "code",
   "execution_count": null,
   "metadata": {},
   "outputs": [],
   "source": [
    "# Calculate roc score\n",
    "roc_score = roc_auc_score(pred_df['true_values'], pred_df['pred_probs'])\n",
    "print(\"The AUC for model is \\n{}\".format(roc_score))"
   ]
  },
  {
   "cell_type": "code",
   "execution_count": null,
   "metadata": {},
   "outputs": [],
   "source": [
    "# Calculate snsitivity & 1-specificity for each threshold between 0 and 1.\n",
    "\n",
    "# Create threshold values. (Dashed red line in image.)\n",
    "thresholds = np.linspace(0, 1, 200)  \n",
    "\n",
    "# Call the function to create trure_positive_rate values\n",
    "tpr_values = [TPR(pred_df, 'true_values', 'pred_probs', prob) for prob in thresholds]\n",
    "\n",
    "# Call the function to create false_positive_rate values\n",
    "fpr_values = [FPR(pred_df, 'true_values', 'pred_probs', prob) for prob in thresholds]\n",
    "\n",
    "# Plot the graph\n",
    "roc_plot(fpr_values,tpr_values,pred_df)"
   ]
  },
  {
   "cell_type": "code",
   "execution_count": null,
   "metadata": {},
   "outputs": [],
   "source": [
    "# Storing the scores of this model for future reference\n",
    "training_accuracy.append(round(gs_lr.score(X_train_sc,y_train),4))\n",
    "testing_accuracy.append(round(gs_lr.score(X_test_sc,y_test),4))\n",
    "specificity_score.append(round(specificity,4))\n",
    "precision_score.append(round(precision,4))\n",
    "recall_score.append(round(recall,4))\n",
    "f1.append(round(f1_score,4))\n",
    "roc.append(round(roc_score,4))"
   ]
  },
  {
   "cell_type": "code",
   "execution_count": null,
   "metadata": {},
   "outputs": [],
   "source": [
    "# Printing the features and their coefficients to see which features have the most affect.\n",
    "feats = pd.Series(abs(gs_lr.best_estimator_.coef_.T.reshape(-1)), index=X.columns)\n",
    "\n",
    "#Top 10 features with highest coeeficients\n",
    "feats[abs(feats).sort_values(ascending=False).index].head(10)"
   ]
  },
  {
   "cell_type": "code",
   "execution_count": null,
   "metadata": {
    "scrolled": true
   },
   "outputs": [],
   "source": [
    "# Plot the top 10 features having most impact on target variable\n",
    "\n",
    "ax = feats[abs(feats).sort_values(ascending=False).index].head(10).plot(kind='bar', figsize=(12,7), color=\"c\")\n",
    "ax.set_xticklabels(ax.get_xticklabels(),rotation=50,ha='right');\n",
    "\n",
    "# Give the title and labels\n",
    "plt.title(\"Top 10 impacting features:\\nLogisticRegression (GridSearch)\",fontsize=20)\n",
    "plt.xlabel(\"features\",fontsize=15)\n",
    "plt.ylabel(\"Coefficients\",fontsize=15);"
   ]
  },
  {
   "cell_type": "markdown",
   "metadata": {},
   "source": [
    "### Model 3: Logistic Regression with PCA (with GridSearchCV) model"
   ]
  },
  {
   "cell_type": "code",
   "execution_count": null,
   "metadata": {},
   "outputs": [],
   "source": [
    "# Instantiate the PCA model\n",
    "pca = PCA(random_state=42,n_components=50)"
   ]
  },
  {
   "cell_type": "code",
   "execution_count": null,
   "metadata": {},
   "outputs": [],
   "source": [
    "\n",
    "# Fit the model\n",
    "pca.fit(X_train_sc)\n",
    "\n",
    "# Transform the data\n",
    "X_train_pca = pca.transform(X_train_sc)\n",
    "X_test_pca = pca.transform(X_test_sc)"
   ]
  },
  {
   "cell_type": "code",
   "execution_count": null,
   "metadata": {},
   "outputs": [],
   "source": [
    "# Instantiate the model\n",
    "lr_model_pca = LogisticRegression(max_iter = 4000)"
   ]
  },
  {
   "cell_type": "code",
   "execution_count": null,
   "metadata": {},
   "outputs": [],
   "source": [
    "# Create the params for gridsearch\n",
    "pipe_params ={\n",
    "    'C' : np.logspace(-4, 4, 10),\n",
    "    'penalty' : ['l1','l2'],\n",
    "    #To deal with imbalance class\n",
    "    'class_weight':['balanced']}"
   ]
  },
  {
   "cell_type": "code",
   "execution_count": null,
   "metadata": {},
   "outputs": [],
   "source": [
    "%%time\n",
    "\n",
    "# Grid search the paramaters\n",
    "gs_lr_pca = GridSearchCV(lr_model_pca, param_grid=pipe_params, cv=5, n_jobs=-1)\n",
    "\n",
    "# Fit our X_train & y_train to the model\n",
    "gs_lr_pca.fit(X_train_pca,y_train)"
   ]
  },
  {
   "cell_type": "code",
   "execution_count": null,
   "metadata": {},
   "outputs": [],
   "source": [
    "# Print out the best paramaters\n",
    "gs_lr_pca.best_params_"
   ]
  },
  {
   "cell_type": "code",
   "execution_count": null,
   "metadata": {},
   "outputs": [],
   "source": [
    "# Print out the best score\n",
    "gs_lr_pca.best_score_"
   ]
  },
  {
   "cell_type": "code",
   "execution_count": null,
   "metadata": {},
   "outputs": [],
   "source": [
    "print(\"Accuracy for LogisticRegression with pca (with gridsearch) on training set is: \\n{}\\n\".\n",
    "      format(gs_lr_pca.score(X_train_pca,y_train)))\n",
    "\n",
    "print(\"Accuracy for LogisticRegression with pca (with gridsearch) on testing set is: \\n{}\\n\".\n",
    "      format(gs_lr_pca.score(X_test_pca,y_test)))"
   ]
  },
  {
   "cell_type": "code",
   "execution_count": null,
   "metadata": {},
   "outputs": [],
   "source": [
    "# Do the predictions\n",
    "predictions = gs_lr_pca.predict(X_test_pca)"
   ]
  },
  {
   "cell_type": "code",
   "execution_count": null,
   "metadata": {},
   "outputs": [],
   "source": [
    "# Create a dataframe for confusion_matrix\n",
    "pd.DataFrame(confusion_matrix(y_test,predictions),\n",
    "            columns=['Predicted no_Wnv','Predicted Wnv'],\n",
    "            index=['Actual No_Wnv', 'Actual Wnv'])"
   ]
  },
  {
   "cell_type": "code",
   "execution_count": null,
   "metadata": {},
   "outputs": [],
   "source": [
    "# Print the confusion matrix\n",
    "\n",
    "tn, fp, fn, tp = confusion_matrix(y_test, predictions).ravel()\n",
    "\n",
    "print(\"True Negatives: %s\" % tn)\n",
    "print(\"False Positives: %s\" % fp)\n",
    "print(\"False Negatives: %s\" % fn)\n",
    "print(\"True Positives: %s\" % tp)"
   ]
  },
  {
   "cell_type": "code",
   "execution_count": null,
   "metadata": {},
   "outputs": [],
   "source": [
    "# Calculate senstivity and specificity for the model\n",
    "precision = tp/(tp + fp)\n",
    "recall = tp/(tp+fn)\n",
    "specificity = tn/(tn+fp)\n",
    "f1_score = 2*((precision*recall)/(precision+recall))\n",
    "\n",
    "print(\"Sensitivity/Recall score for this model is: \\n{}\\n\".format(recall))\n",
    "print(\"Precision score for this model is: \\n{}\\n\".format(precision))\n",
    "print(\"Specificity score for this model is: \\n{}\\n\".format(specificity))\n",
    "print(\"F1_score score for this model is: \\n{}\".format(f1_score))"
   ]
  },
  {
   "cell_type": "code",
   "execution_count": null,
   "metadata": {},
   "outputs": [],
   "source": [
    "# Display classification report\n",
    "print(classification_report(y_test, predictions))"
   ]
  },
  {
   "cell_type": "code",
   "execution_count": null,
   "metadata": {},
   "outputs": [],
   "source": [
    "# Generate the probalities of predictions for above model\n",
    "pred_proba = [i[1] for i in gs_lr_pca.predict_proba(X_test_pca)]"
   ]
  },
  {
   "cell_type": "code",
   "execution_count": null,
   "metadata": {},
   "outputs": [],
   "source": [
    "# Create a dataframe with the true values and probablities\n",
    "pred_df = pd.DataFrame({'true_values': y_test,\n",
    "                        'pred_probs':pred_proba})"
   ]
  },
  {
   "cell_type": "code",
   "execution_count": null,
   "metadata": {},
   "outputs": [],
   "source": [
    "# Calculate roc score\n",
    "roc_score = roc_auc_score(pred_df['true_values'], pred_df['pred_probs'])\n",
    "print(\"The AUC for model is \\n{}\".format(roc_score))"
   ]
  },
  {
   "cell_type": "code",
   "execution_count": null,
   "metadata": {},
   "outputs": [],
   "source": [
    "# Calculate snsitivity & 1-specificity for each threshold between 0 and 1.\n",
    "\n",
    "# Create threshold values. (Dashed red line in image.)\n",
    "thresholds = np.linspace(0, 1, 200)  \n",
    "\n",
    "# Call the function to create trure_positive_rate values\n",
    "tpr_values = [TPR(pred_df, 'true_values', 'pred_probs', prob) for prob in thresholds]\n",
    "\n",
    "# Call the function to create false_positive_rate values\n",
    "fpr_values = [FPR(pred_df, 'true_values', 'pred_probs', prob) for prob in thresholds]\n",
    "\n",
    "# Plot the graph\n",
    "roc_plot(fpr_values,tpr_values,pred_df)"
   ]
  },
  {
   "cell_type": "code",
   "execution_count": null,
   "metadata": {},
   "outputs": [],
   "source": [
    "# Top 10 features\n",
    "feats = pd.Series(abs(gs_lr_pca.best_estimator_.coef_.T.reshape(-1)))\n",
    "feats[abs(feats).sort_values(ascending=False).index].head()"
   ]
  },
  {
   "cell_type": "code",
   "execution_count": null,
   "metadata": {},
   "outputs": [],
   "source": [
    "# Printing the features and their coefficients to see which features have the most affect.\n",
    "feats = pd.Series(data=pca.components_[0], index=X.columns)\n",
    "\n",
    "#Top 10 features with highest coeeficients\n",
    "abs(feats[abs(feats).sort_values(ascending=False).index]).head(10)"
   ]
  },
  {
   "cell_type": "code",
   "execution_count": null,
   "metadata": {
    "scrolled": true
   },
   "outputs": [],
   "source": [
    "# Plot the top 10 features having most impact on target variable\n",
    "\n",
    "ax = abs(feats[abs(feats).sort_values(ascending=False).index]).head(10).plot(kind='bar', figsize=(12,7), color=\"c\")\n",
    "ax.set_xticklabels(ax.get_xticklabels(),rotation=50,ha='right');\n",
    "\n",
    "# Give the title and labels\n",
    "plt.title(\"Top 10 impacting features:\\nLogisticRegression-PCA (GridSearch)\",fontsize=20)\n",
    "plt.xlabel(\"features\",fontsize=15)\n",
    "plt.ylabel(\"Coefficients\",fontsize=15);"
   ]
  },
  {
   "cell_type": "code",
   "execution_count": null,
   "metadata": {},
   "outputs": [],
   "source": [
    "# Storing the scores of this model for future reference\n",
    "training_accuracy.append(round(gs_lr_pca.score(X_train_pca,y_train),4))\n",
    "testing_accuracy.append(round(gs_lr_pca.score(X_test_pca,y_test),4))\n",
    "specificity_score.append(round(specificity,4))\n",
    "precision_score.append(round(precision,4))\n",
    "recall_score.append(round(recall,4))\n",
    "f1.append(round(f1_score,4))\n",
    "roc.append(round(roc_score,4))"
   ]
  },
  {
   "cell_type": "markdown",
   "metadata": {},
   "source": [
    "### Model 4: Random Forest (with GridSearchCV) model"
   ]
  },
  {
   "cell_type": "code",
   "execution_count": null,
   "metadata": {},
   "outputs": [],
   "source": [
    "# Instantiate the model\n",
    "rf = RandomForestClassifier(random_state=42)"
   ]
  },
  {
   "cell_type": "code",
   "execution_count": null,
   "metadata": {},
   "outputs": [],
   "source": [
    "# Do a quick accuracy check\n",
    "cross_val_score(rf,X_train_sc,y_train,cv=3).mean()"
   ]
  },
  {
   "cell_type": "code",
   "execution_count": null,
   "metadata": {},
   "outputs": [],
   "source": [
    "# Create the param list for grid search\n",
    "\n",
    "rf_params = {\n",
    "    'class_weight': ['balanced'],\n",
    "    'n_estimators' : [10,20],\n",
    "    'max_depth' : [4,5],\n",
    "    'min_samples_leaf': [3,4],\n",
    "    'min_samples_split': [4,5]\n",
    "}"
   ]
  },
  {
   "cell_type": "code",
   "execution_count": null,
   "metadata": {},
   "outputs": [],
   "source": [
    "%%time\n",
    "\n",
    "# Do the grid search\n",
    "gs_rf = GridSearchCV(rf,param_grid=rf_params,cv=5,n_jobs=-1)\n",
    "gs_rf.fit(X_train_sc, y_train)"
   ]
  },
  {
   "cell_type": "code",
   "execution_count": null,
   "metadata": {},
   "outputs": [],
   "source": [
    "print(\"The best score is: \\n{}\".format(gs_rf.best_score_))\n",
    "print(\"\\nThe best params are: \\n{}\".format(gs_rf.best_params_))"
   ]
  },
  {
   "cell_type": "code",
   "execution_count": null,
   "metadata": {},
   "outputs": [],
   "source": [
    "print(\"Accuracy for Random Forest (with gridsearch) on training set is: \\n{}\\n\".\n",
    "      format(gs_rf.score(X_train_sc, y_train)))\n",
    "\n",
    "print(\"Accuracy for Random Forest (with gridsearch) on testing set is: \\n{}\\n\".\n",
    "      format(gs_rf.score(X_test_sc, y_test)))"
   ]
  },
  {
   "cell_type": "code",
   "execution_count": null,
   "metadata": {},
   "outputs": [],
   "source": [
    "# Do the predictions\n",
    "predictions = gs_rf.predict(X_test_sc)"
   ]
  },
  {
   "cell_type": "code",
   "execution_count": null,
   "metadata": {},
   "outputs": [],
   "source": [
    "# Create a dataframe for confusion matrix\n",
    "pd.DataFrame(confusion_matrix(y_test,predictions),\n",
    "            columns=['Predicted no_Wnv','Predicted Wnv'],\n",
    "            index=['Actual No_Wnv', 'Actual Wnv'])"
   ]
  },
  {
   "cell_type": "code",
   "execution_count": null,
   "metadata": {},
   "outputs": [],
   "source": [
    "# Print the confusion matrix\n",
    "\n",
    "tn, fp, fn, tp = confusion_matrix(y_test, predictions).ravel()\n",
    "\n",
    "print(\"True Negatives: %s\" % tn)\n",
    "print(\"False Positives: %s\" % fp)\n",
    "print(\"False Negatives: %s\" % fn)\n",
    "print(\"True Positives: %s\" % tp)"
   ]
  },
  {
   "cell_type": "code",
   "execution_count": null,
   "metadata": {},
   "outputs": [],
   "source": [
    "# Calculate senstivity and specificity for the model\n",
    "precision = tp/(tp + fp)\n",
    "recall = tp/(tp+fn)\n",
    "specificity = tn/(tn+fp)\n",
    "f1_score = 2*((precision*recall)/(precision+recall))\n",
    "\n",
    "print(\"Sensitivity/Recall score for this model is: \\n{}\\n\".format(recall))\n",
    "print(\"Precision score for this model is: \\n{}\\n\".format(precision))\n",
    "print(\"Specificity score for this model is: \\n{}\\n\".format(specificity))\n",
    "print(\"F1_score score for this model is: \\n{}\".format(f1_score))"
   ]
  },
  {
   "cell_type": "code",
   "execution_count": null,
   "metadata": {},
   "outputs": [],
   "source": [
    "print(classification_report(y_test, predictions))"
   ]
  },
  {
   "cell_type": "code",
   "execution_count": null,
   "metadata": {},
   "outputs": [],
   "source": [
    "# Generate the probalities of predictions for above model\n",
    "pred_proba = [i[1] for i in gs_rf.predict_proba(X_test_sc)]\n",
    "\n",
    "# Create a dataframe with the true values and probablities\n",
    "pred_df = pd.DataFrame({'true_values': y_test,\n",
    "                        'pred_probs':pred_proba})\n",
    "\n",
    "# Calculate roc score\n",
    "roc_score = roc_auc_score(pred_df['true_values'], pred_df['pred_probs'])\n",
    "print(\"The AUC for model is \\n{}\".format(roc_score))"
   ]
  },
  {
   "cell_type": "code",
   "execution_count": null,
   "metadata": {
    "scrolled": true
   },
   "outputs": [],
   "source": [
    "# Calculate snsitivity & 1-specificity for each threshold between 0 and 1.\n",
    "\n",
    "# Create threshold values. (Dashed red line in image.)\n",
    "thresholds = np.linspace(0, 1, 200)  \n",
    "\n",
    "# Call the function to create trure_positive_rate values\n",
    "tpr_values = [TPR(pred_df, 'true_values', 'pred_probs', prob) for prob in thresholds]\n",
    "\n",
    "# Call the function to create false_positive_rate values\n",
    "fpr_values = [FPR(pred_df, 'true_values', 'pred_probs', prob) for prob in thresholds]\n",
    "\n",
    "# Plot the graph\n",
    "roc_plot(fpr_values,tpr_values,pred_df)"
   ]
  },
  {
   "cell_type": "code",
   "execution_count": null,
   "metadata": {},
   "outputs": [],
   "source": [
    "# Printing the features and their coefficients to see which features have the most affect.\n",
    "feats = pd.Series(gs_rf.best_estimator_.feature_importances_, index=X.columns).sort_values(ascending=False)\n",
    "\n",
    "#Top 10 features with highest coeeficients\n",
    "feats[abs(feats).sort_values(ascending=False).index].head(10)"
   ]
  },
  {
   "cell_type": "code",
   "execution_count": null,
   "metadata": {},
   "outputs": [],
   "source": [
    "# Plot the top 10 features having most impact on target variable\n",
    "\n",
    "ax = feats[abs(feats).sort_values(ascending=False).index].head(10).plot(kind='bar', figsize=(12,7), color=\"c\")\n",
    "ax.set_xticklabels(ax.get_xticklabels(),rotation=50,ha='right');\n",
    "\n",
    "# Give the title and labels\n",
    "plt.title(\"Top 10 impacting features:\\nRandom Forest (GridSearch)\",fontsize=20)\n",
    "plt.xlabel(\"features\",fontsize=15)\n",
    "plt.ylabel(\"Coefficients\",fontsize=15);"
   ]
  },
  {
   "cell_type": "code",
   "execution_count": null,
   "metadata": {},
   "outputs": [],
   "source": [
    "# Storing the scores of this model for future reference\n",
    "training_accuracy.append(round(gs_rf.score(X_train_sc,y_train),4))\n",
    "testing_accuracy.append(round(gs_rf.score(X_test_sc,y_test),4))\n",
    "specificity_score.append(round(specificity,4))\n",
    "precision_score.append(round(precision,4))\n",
    "recall_score.append(round(recall,4))\n",
    "f1.append(round(f1_score,4))\n",
    "roc.append(round(roc_score,4))"
   ]
  },
  {
   "cell_type": "markdown",
   "metadata": {},
   "source": [
    "### Model 5: XgBoost (with GridSearchCV)"
   ]
  },
  {
   "cell_type": "code",
   "execution_count": null,
   "metadata": {},
   "outputs": [],
   "source": [
    "#Instantiate the model\n",
    "xgb = XGBClassifier(random_state=42)"
   ]
  },
  {
   "cell_type": "code",
   "execution_count": null,
   "metadata": {},
   "outputs": [],
   "source": [
    "# Create the grid-search parameters\n",
    "parameters = { 'scale_pos_weight':[1, 2, 3],\n",
    "              'max_depth':[5],\n",
    "             }"
   ]
  },
  {
   "cell_type": "code",
   "execution_count": null,
   "metadata": {},
   "outputs": [],
   "source": [
    "%%time\n",
    "\n",
    "# Gridsearch for best result\n",
    "gs_xgb = GridSearchCV(xgb, param_grid=parameters, cv=5,n_jobs=-1)\n",
    "\n",
    "# Fit the model on optimized params\n",
    "gs_xgb.fit(X_train_sc, y_train)"
   ]
  },
  {
   "cell_type": "code",
   "execution_count": null,
   "metadata": {},
   "outputs": [],
   "source": [
    "print(\"The best params for gridsearch are: \\n{}\".format(gs_xgb.best_params_))\n",
    "print(\"\\nThe best score for gridsearch are: \\n{}\".format(gs_xgb.best_score_))"
   ]
  },
  {
   "cell_type": "code",
   "execution_count": null,
   "metadata": {
    "scrolled": true
   },
   "outputs": [],
   "source": [
    "print(\"The accuracy for XGB model (with gridsearch) for training set is: \\n{}\".\n",
    "      format(gs_xgb.score(X_train_sc,y_train)))\n",
    "\n",
    "print(\"\\nThe accuracy for XGB model (with gridsearch) for testing set is: \\n{}\".\n",
    "      format(gs_xgb.score(X_test_sc,y_test)))"
   ]
  },
  {
   "cell_type": "code",
   "execution_count": null,
   "metadata": {},
   "outputs": [],
   "source": [
    "# Do the predictions\n",
    "predictions = gs_xgb.predict(X_test_sc)"
   ]
  },
  {
   "cell_type": "code",
   "execution_count": null,
   "metadata": {},
   "outputs": [],
   "source": [
    "# Create a dataframe for confusion matrix\n",
    "pd.DataFrame(confusion_matrix(y_test,predictions),\n",
    "            columns=['Predicted no_Wnv','Predicted Wnv'],\n",
    "            index=['Actual No_Wnv', 'Actual Wnv'])"
   ]
  },
  {
   "cell_type": "code",
   "execution_count": null,
   "metadata": {},
   "outputs": [],
   "source": [
    "# Print the confusion matrix\n",
    "\n",
    "tn, fp, fn, tp = confusion_matrix(y_test, predictions).ravel()\n",
    "\n",
    "print(\"True Negatives: %s\" % tn)\n",
    "print(\"False Positives: %s\" % fp)\n",
    "print(\"False Negatives: %s\" % fn)\n",
    "print(\"True Positives: %s\" % tp)"
   ]
  },
  {
   "cell_type": "code",
   "execution_count": null,
   "metadata": {},
   "outputs": [],
   "source": [
    "# Calculate senstivity and specificity for the model\n",
    "precision = tp/(tp + fp)\n",
    "recall = tp/(tp+fn)\n",
    "specificity = tn/(tn+fp)\n",
    "f1_score = 2*((precision*recall)/(precision+recall))\n",
    "\n",
    "print(\"Sensitivity/Recall score for this model is: \\n{}\\n\".format(recall))\n",
    "print(\"Precision score for this model is: \\n{}\\n\".format(precision))\n",
    "print(\"Specificity score for this model is: \\n{}\\n\".format(specificity))\n",
    "print(\"F1_score score for this model is: \\n{}\".format(f1_score))"
   ]
  },
  {
   "cell_type": "code",
   "execution_count": null,
   "metadata": {},
   "outputs": [],
   "source": [
    "print(classification_report(y_test, predictions))"
   ]
  },
  {
   "cell_type": "code",
   "execution_count": null,
   "metadata": {},
   "outputs": [],
   "source": [
    "# Generate the probalities of predictions for above model\n",
    "pred_proba = [i[1] for i in gs_xgb.predict_proba(X_test_sc)]\n",
    "\n",
    "# Create a dataframe with the true values and probablities\n",
    "pred_df = pd.DataFrame({'true_values': y_test,\n",
    "                        'pred_probs':pred_proba})\n",
    "\n",
    "# Calculate roc score\n",
    "roc_score = roc_auc_score(pred_df['true_values'], pred_df['pred_probs'])\n",
    "print(\"The AUC for model is \\n{}\".format(roc_score))"
   ]
  },
  {
   "cell_type": "code",
   "execution_count": null,
   "metadata": {
    "scrolled": true
   },
   "outputs": [],
   "source": [
    "# Calculate sensitivity & 1-specificity for each threshold between 0 and 1.\n",
    "\n",
    "# Create threshold values. (Dashed red line in image.)\n",
    "thresholds = np.linspace(0, 1, 200)  \n",
    "\n",
    "# Call the function to create trure_positive_rate values\n",
    "tpr_values = [TPR(pred_df, 'true_values', 'pred_probs', prob) for prob in thresholds]\n",
    "\n",
    "# Call the function to create false_positive_rate values\n",
    "fpr_values = [FPR(pred_df, 'true_values', 'pred_probs', prob) for prob in thresholds]\n",
    "\n",
    "# Plot the graph\n",
    "roc_plot(fpr_values,tpr_values,pred_df)"
   ]
  },
  {
   "cell_type": "code",
   "execution_count": null,
   "metadata": {},
   "outputs": [],
   "source": [
    "# Printing the features and their coefficients to see which features have the most affect.\n",
    "feats = pd.Series(gs_xgb.best_estimator_.feature_importances_, index=X.columns).sort_values(ascending=False)\n",
    "\n",
    "#Top 10 features with highest coeeficients\n",
    "feats[abs(feats).sort_values(ascending=False).index].head(10)"
   ]
  },
  {
   "cell_type": "code",
   "execution_count": null,
   "metadata": {},
   "outputs": [],
   "source": [
    "# Plot the top 10 features having most impact on target variable\n",
    "\n",
    "ax = feats[abs(feats).sort_values(ascending=False).index].head(10).plot(kind='bar', figsize=(12,7), color=\"c\")\n",
    "ax.set_xticklabels(ax.get_xticklabels(),rotation=50,ha='right');\n",
    "\n",
    "# Give the title and labels\n",
    "plt.title(\"Top 10 impacting features:\\nXGBoost (GridSearch)\",fontsize=20)\n",
    "plt.xlabel(\"features\",fontsize=15)\n",
    "plt.ylabel(\"Coefficients\",fontsize=15);"
   ]
  },
  {
   "cell_type": "code",
   "execution_count": null,
   "metadata": {
    "scrolled": true
   },
   "outputs": [],
   "source": [
    "# Storing the scores of this model for future reference\n",
    "training_accuracy.append(round(gs_rf.score(X_train_sc,y_train),4))\n",
    "testing_accuracy.append(round(gs_rf.score(X_test_sc,y_test),4))\n",
    "specificity_score.append(round(specificity,4))\n",
    "precision_score.append(round(precision,4))\n",
    "recall_score.append(round(recall,4))\n",
    "f1.append(round(f1_score,4))\n",
    "roc.append(round(roc_score,4))"
   ]
  },
  {
   "cell_type": "code",
   "execution_count": null,
   "metadata": {},
   "outputs": [],
   "source": [
    "# Create a dataframe for scores and metrics from all models\n",
    "\n",
    "final_scores = pd.DataFrame({'train_acc':training_accuracy,\n",
    "                             'test_acc':testing_accuracy,\n",
    "                             'specificity':specificity_score,\n",
    "                             'precision':precision_score,\n",
    "                             'recall_sensitivity': recall_score,\n",
    "                             'f1_score':f1,\n",
    "                             'roc_score': roc\n",
    "                            },\n",
    "                           index=['lr', 'gs_lr', 'gs_lr_pca', 'gs_rf', 'gs_xgboost'])"
   ]
  },
  {
   "cell_type": "code",
   "execution_count": null,
   "metadata": {},
   "outputs": [],
   "source": [
    "# save the file\n",
    "final_scores.to_csv('../results/final_scores.csv')"
   ]
  },
  {
   "cell_type": "markdown",
   "metadata": {},
   "source": [
    "### Now, we will train the whole the selected model on whole training set and do predictions on the test set."
   ]
  },
  {
   "cell_type": "code",
   "execution_count": null,
   "metadata": {},
   "outputs": [],
   "source": [
    "# Create list of columns without Id for testing set\n",
    "columns = [col for col in test_split.columns if col!='Id']"
   ]
  },
  {
   "cell_type": "code",
   "execution_count": null,
   "metadata": {},
   "outputs": [],
   "source": [
    "# Final X_train\n",
    "X_train_final = train_split[features]\n",
    "\n",
    "# Final y_train\n",
    "y_train_final  = train_split['WnvPresent']\n",
    "\n",
    "# Final X_test\n",
    "X_test_final = test_split[columns]"
   ]
  },
  {
   "cell_type": "code",
   "execution_count": null,
   "metadata": {},
   "outputs": [],
   "source": [
    "#Instantiate a StandardScaler object\n",
    "ss1 = StandardScaler()\n",
    "\n",
    "#Fit & transform the X_train_final data into StandardScaler object\n",
    "X_train_final_ss = ss1.fit_transform(X_train_final)\n",
    "\n",
    "#Apply the fit method to X_test_final\n",
    "X_test_final_ss = ss1.transform(X_test_final)"
   ]
  },
  {
   "cell_type": "markdown",
   "metadata": {},
   "source": [
    "### Fit the training data and predict for \"test\" : LogisticRegression (with gridsearch)"
   ]
  },
  {
   "cell_type": "code",
   "execution_count": null,
   "metadata": {},
   "outputs": [],
   "source": [
    "# Fit the model\n",
    "gs_lr.fit(X_train_final,y_train_final)\n",
    "\n",
    "# Do the predictions\n",
    "predictions_gs_lr = gs_lr.predict(X_test_final)\n",
    "\n",
    "# Create dataframe for scores\n",
    "predict_gs_lr = pd.DataFrame(test_split['Id'])\n",
    "predict_gs_lr['WnvPresent'] = predictions_gs_lr\n",
    "\n",
    "# Change the type to int\n",
    "predict_gs_lr = predict_gs_lr.astype('int')\n",
    "\n",
    "# Store the file\n",
    "predict_gs_lr.to_csv('../results/predict_gs_lr.csv',index=False)"
   ]
  },
  {
   "cell_type": "markdown",
   "metadata": {},
   "source": [
    "### Fit the training data and predict for \"test\" data : RandomForest (with gridsearch)"
   ]
  },
  {
   "cell_type": "code",
   "execution_count": null,
   "metadata": {},
   "outputs": [],
   "source": [
    "# Fit the model\n",
    "gs_rf.fit(X_train_final,y_train_final)\n",
    "\n",
    "# Do the predictions\n",
    "predictions_gs_rf = gs_rf.predict(X_test_final)\n",
    "\n",
    "# Create dataframe for scores\n",
    "pred_gs_rf = pd.DataFrame(test_split['Id'])\n",
    "pred_gs_rf['WnvPresent'] = predictions_gs_rf\n",
    "\n",
    "# Change the type to int\n",
    "pred_gs_rf = pred_gs_rf.astype('int')\n",
    "\n",
    "# Store the file\n",
    "pred_gs_rf.to_csv('../results/pred_gs_rf.csv',index=False)"
   ]
  },
  {
   "cell_type": "markdown",
   "metadata": {},
   "source": [
    "## Model Comparison"
   ]
  },
  {
   "cell_type": "code",
   "execution_count": null,
   "metadata": {
    "scrolled": false
   },
   "outputs": [],
   "source": [
    "# Print the scores\n",
    "scores = pd.read_csv('../results/final_scores_1.csv',index_col=0)\n",
    "scores"
   ]
  },
  {
   "cell_type": "markdown",
   "metadata": {},
   "source": [
    "From above we can see that, the best performing models are:\n",
    "1. Logistic Regression (with GridSearch)\n",
    "2. Random Forest (with GridSearch)\n",
    "\n",
    "We selected Random Forest as our final model:\n",
    "- it has higher recall score\n",
    "- ROC score is high\n",
    "- Random forest perform well with imbalanced classes\n",
    "- reduces variance"
   ]
  },
  {
   "cell_type": "markdown",
   "metadata": {},
   "source": [
    "#### Kaggle score\n",
    "\n",
    "\n",
    "![](./data/Project4_kaggle_score.png)"
   ]
  },
  {
   "attachments": {
    "Project4_kaggle_score.png": {
     "image/png": "[encoded data removed]"
    }
   },
   "cell_type": "markdown",
   "metadata": {},
   "source": [
    "![Project4_kaggle_score.png](attachment:Project4_kaggle_score.png)"
   ]
  }
 ],
 "metadata": {
  "kernelspec": {
   "display_name": "Python 3",
   "language": "python",
   "name": "python3"
  },
  "language_info": {
   "codemirror_mode": {
    "name": "ipython",
    "version": 3
   },
   "file_extension": ".py",
   "mimetype": "text/x-python",
   "name": "python",
   "nbconvert_exporter": "python",
   "pygments_lexer": "ipython3",
   "version": "3.7.4"
  }
 },
 "nbformat": 4,
 "nbformat_minor": 2
}
