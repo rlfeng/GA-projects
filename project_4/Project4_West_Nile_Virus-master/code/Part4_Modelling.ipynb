{
 "cells": [
  {
   "cell_type": "code",
   "execution_count": 1,
   "metadata": {},
   "outputs": [
    {
     "name": "stderr",
     "output_type": "stream",
     "text": [
      "C:\\Anaconda\\lib\\site-packages\\statsmodels\\tools\\_testing.py:19: FutureWarning: pandas.util.testing is deprecated. Use the functions in the public API at pandas.testing instead.\n",
      "  import pandas.util.testing as tm\n"
     ]
    }
   ],
   "source": [
    "import pandas as pd\n",
    "import numpy as np\n",
    "import seaborn as sns\n",
    "import matplotlib.pyplot as plt\n",
    "%matplotlib inline\n",
    "\n",
    "#from sklearn import metrics\n",
    "from sklearn.linear_model import LogisticRegression\n",
    "from sklearn.metrics import roc_auc_score,confusion_matrix, classification_report,accuracy_score\n",
    "\n",
    "\n",
    "# Import our model!\n",
    "#from sklearn.naive_bayes import MultinomialNB\n",
    "from sklearn.pipeline import Pipeline\n",
    "from sklearn.model_selection import GridSearchCV,train_test_split,cross_val_score\n",
    "from sklearn.preprocessing import StandardScaler\n",
    "from sklearn.ensemble import RandomForestClassifier,AdaBoostClassifier\n",
    "from sklearn.neighbors import  KNeighborsClassifier\n",
    "from sklearn.decomposition import PCA\n",
    "from sklearn.svm import SVC\n",
    "from xgboost import XGBClassifier"
   ]
  },
  {
   "cell_type": "markdown",
   "metadata": {},
   "source": [
    "# Read the data files"
   ]
  },
  {
   "cell_type": "code",
   "execution_count": 2,
   "metadata": {},
   "outputs": [
    {
     "name": "stdout",
     "output_type": "stream",
     "text": [
      "(8610, 161)\n",
      "(116293, 161)\n"
     ]
    }
   ],
   "source": [
    "train_split = pd.read_csv('../data/train_clean.csv')\n",
    "test_split = pd.read_csv('../data/test_clean.csv')\n",
    "print(train_split.shape)\n",
    "print(test_split.shape)"
   ]
  },
  {
   "cell_type": "markdown",
   "metadata": {},
   "source": [
    "# Data Modelling : Baseline accuracy\n",
    "Before, we start modelling, let's calculate the baseline accuracy of our dataset."
   ]
  },
  {
   "cell_type": "code",
   "execution_count": 3,
   "metadata": {},
   "outputs": [
    {
     "data": {
      "text/plain": [
       "0.0    0.946922\n",
       "1.0    0.053078\n",
       "Name: WnvPresent, dtype: float64"
      ]
     },
     "execution_count": 3,
     "metadata": {},
     "output_type": "execute_result"
    }
   ],
   "source": [
    "# Determing the baseline accuracy\n",
    "train_split['WnvPresent'].value_counts(normalize=True)"
   ]
  },
  {
   "cell_type": "code",
   "execution_count": 4,
   "metadata": {},
   "outputs": [
    {
     "name": "stdout",
     "output_type": "stream",
     "text": [
      "The baseline accuracy is: 0.9469221835075493\n"
     ]
    }
   ],
   "source": [
    "print(\"The baseline accuracy is: {}\".format(train_split['WnvPresent'].value_counts(normalize=True)[0]))"
   ]
  },
  {
   "cell_type": "markdown",
   "metadata": {},
   "source": [
    "## Data Modelling\n",
    "\n",
    "We have used different models to evaluate the performance in correctly predicting the target. <br>\n",
    "We will be evaluating the model's performace based on : \n",
    "- ROC score\n",
    "- Precision\n",
    "- Recall\n",
    "- F1-score"
   ]
  },
  {
   "cell_type": "markdown",
   "metadata": {},
   "source": [
    "**Create the feature variable, X & target variable, y.**"
   ]
  },
  {
   "cell_type": "code",
   "execution_count": 5,
   "metadata": {},
   "outputs": [],
   "source": [
    "features= [col for col in train_split.columns if col!='WnvPresent']\n",
    "\n",
    "# Create the feature variable\n",
    "X = train_split[features]\n",
    "\n",
    "# Create the target variable\n",
    "y = train_split['WnvPresent']"
   ]
  },
  {
   "cell_type": "code",
   "execution_count": 6,
   "metadata": {},
   "outputs": [
    {
     "name": "stdout",
     "output_type": "stream",
     "text": [
      "Shape of features is:  (8610, 160)\n",
      "Shape of target is:  (8610,)\n"
     ]
    }
   ],
   "source": [
    "print(\"Shape of features is:  {}\".format(X.shape))\n",
    "print(\"Shape of target is:  {}\".format(y.shape))"
   ]
  },
  {
   "cell_type": "code",
   "execution_count": 7,
   "metadata": {},
   "outputs": [],
   "source": [
    "# Create the train_test_split\n",
    "\n",
    "# Set stratify=y , since, this our data has imbalanced classes.\n",
    "X_train, X_test, y_train, y_test = train_test_split(X, y, random_state=42,test_size=0.3,stratify=y)\n"
   ]
  },
  {
   "cell_type": "code",
   "execution_count": 8,
   "metadata": {},
   "outputs": [
    {
     "name": "stdout",
     "output_type": "stream",
     "text": [
      "Shape of X_train is:  (6027, 160)\n",
      "Shape of y_train is:  (6027,)\n",
      "Shape of X_test is:  (2583, 160)\n",
      "Shape of y_test is:  (2583,)\n"
     ]
    }
   ],
   "source": [
    "print(\"Shape of X_train is:  {}\".format(X_train.shape))\n",
    "print(\"Shape of y_train is:  {}\".format(y_train.shape))\n",
    "print(\"Shape of X_test is:  {}\".format(X_test.shape))\n",
    "print(\"Shape of y_test is:  {}\".format(y_test.shape))"
   ]
  },
  {
   "cell_type": "code",
   "execution_count": 9,
   "metadata": {},
   "outputs": [],
   "source": [
    "# Instantiate StandardScaler\n",
    "ss = StandardScaler()"
   ]
  },
  {
   "cell_type": "code",
   "execution_count": 10,
   "metadata": {},
   "outputs": [],
   "source": [
    "# Fit and transform the X_train using StandardScaler\n",
    "X_train_sc = ss.fit_transform(X_train)\n",
    "\n",
    "# Transform the X_test\n",
    "X_test_sc = ss.transform(X_test)"
   ]
  },
  {
   "cell_type": "markdown",
   "metadata": {},
   "source": [
    "### Model 1: Vanilla Logistic Regression model"
   ]
  },
  {
   "cell_type": "code",
   "execution_count": 11,
   "metadata": {},
   "outputs": [],
   "source": [
    "# Instantiate the LogisticRegression model\n",
    "lr = LogisticRegression(max_iter = 4000)"
   ]
  },
  {
   "cell_type": "code",
   "execution_count": 12,
   "metadata": {},
   "outputs": [
    {
     "name": "stderr",
     "output_type": "stream",
     "text": [
      "C:\\Anaconda\\lib\\site-packages\\sklearn\\linear_model\\logistic.py:432: FutureWarning: Default solver will be changed to 'lbfgs' in 0.22. Specify a solver to silence this warning.\n",
      "  FutureWarning)\n",
      "C:\\Anaconda\\lib\\site-packages\\sklearn\\linear_model\\logistic.py:432: FutureWarning: Default solver will be changed to 'lbfgs' in 0.22. Specify a solver to silence this warning.\n",
      "  FutureWarning)\n",
      "C:\\Anaconda\\lib\\site-packages\\sklearn\\linear_model\\logistic.py:432: FutureWarning: Default solver will be changed to 'lbfgs' in 0.22. Specify a solver to silence this warning.\n",
      "  FutureWarning)\n",
      "C:\\Anaconda\\lib\\site-packages\\sklearn\\linear_model\\logistic.py:432: FutureWarning: Default solver will be changed to 'lbfgs' in 0.22. Specify a solver to silence this warning.\n",
      "  FutureWarning)\n",
      "C:\\Anaconda\\lib\\site-packages\\sklearn\\linear_model\\logistic.py:432: FutureWarning: Default solver will be changed to 'lbfgs' in 0.22. Specify a solver to silence this warning.\n",
      "  FutureWarning)\n"
     ]
    },
    {
     "name": "stdout",
     "output_type": "stream",
     "text": [
      "The mean accuracy for vanilla logistic regression model is: \n",
      "0.9464\n"
     ]
    }
   ],
   "source": [
    "# Do a cross_val_score to check its R2-score\n",
    "lr_r2_score = cross_val_score(lr, X_train_sc, y_train, cv=5).mean()\n",
    "\n",
    "print(\"The mean accuracy for vanilla logistic regression model is: \\n{}\".format(round(lr_r2_score,4)))"
   ]
  },
  {
   "cell_type": "code",
   "execution_count": 13,
   "metadata": {},
   "outputs": [
    {
     "name": "stderr",
     "output_type": "stream",
     "text": [
      "C:\\Anaconda\\lib\\site-packages\\sklearn\\linear_model\\logistic.py:432: FutureWarning: Default solver will be changed to 'lbfgs' in 0.22. Specify a solver to silence this warning.\n",
      "  FutureWarning)\n"
     ]
    },
    {
     "name": "stdout",
     "output_type": "stream",
     "text": [
      "Wall time: 456 ms\n"
     ]
    },
    {
     "data": {
      "text/plain": [
       "LogisticRegression(C=1.0, class_weight=None, dual=False, fit_intercept=True,\n",
       "                   intercept_scaling=1, l1_ratio=None, max_iter=4000,\n",
       "                   multi_class='warn', n_jobs=None, penalty='l2',\n",
       "                   random_state=None, solver='warn', tol=0.0001, verbose=0,\n",
       "                   warm_start=False)"
      ]
     },
     "execution_count": 13,
     "metadata": {},
     "output_type": "execute_result"
    }
   ],
   "source": [
    "%%time\n",
    "\n",
    "# Fit the LogisticRegression model on X_train_sc and y_train\n",
    "lr.fit(X_train_sc,y_train)"
   ]
  },
  {
   "cell_type": "code",
   "execution_count": 14,
   "metadata": {},
   "outputs": [
    {
     "name": "stdout",
     "output_type": "stream",
     "text": [
      "The accuracy for vanilla logistic regression model on training set is: \n",
      "0.9469\n"
     ]
    }
   ],
   "source": [
    "print(\"The accuracy for vanilla logistic regression model on training set is: \\n{}\".\n",
    "      format(round(lr.score(X_train_sc, y_train),4)))"
   ]
  },
  {
   "cell_type": "code",
   "execution_count": 15,
   "metadata": {},
   "outputs": [
    {
     "name": "stdout",
     "output_type": "stream",
     "text": [
      "The accuracy for vanilla logistic regression model on testing set is: \n",
      "0.947\n"
     ]
    }
   ],
   "source": [
    "print(\"The accuracy for vanilla logistic regression model on testing set is: \\n{}\".\n",
    "      format(round(lr.score(X_test_sc, y_test),4)))"
   ]
  },
  {
   "cell_type": "code",
   "execution_count": 16,
   "metadata": {},
   "outputs": [],
   "source": [
    "# So the predictions\n",
    "predictions = lr.predict(X_test_sc)"
   ]
  },
  {
   "cell_type": "code",
   "execution_count": 17,
   "metadata": {},
   "outputs": [
    {
     "data": {
      "text/html": [
       "<div>\n",
       "<style scoped>\n",
       "    .dataframe tbody tr th:only-of-type {\n",
       "        vertical-align: middle;\n",
       "    }\n",
       "\n",
       "    .dataframe tbody tr th {\n",
       "        vertical-align: top;\n",
       "    }\n",
       "\n",
       "    .dataframe thead th {\n",
       "        text-align: right;\n",
       "    }\n",
       "</style>\n",
       "<table border=\"1\" class=\"dataframe\">\n",
       "  <thead>\n",
       "    <tr style=\"text-align: right;\">\n",
       "      <th></th>\n",
       "      <th>Predicted no_Wnv</th>\n",
       "      <th>Predicted Wnv</th>\n",
       "    </tr>\n",
       "  </thead>\n",
       "  <tbody>\n",
       "    <tr>\n",
       "      <th>Actual No_Wnv</th>\n",
       "      <td>2445</td>\n",
       "      <td>1</td>\n",
       "    </tr>\n",
       "    <tr>\n",
       "      <th>Actual Wnv</th>\n",
       "      <td>136</td>\n",
       "      <td>1</td>\n",
       "    </tr>\n",
       "  </tbody>\n",
       "</table>\n",
       "</div>"
      ],
      "text/plain": [
       "               Predicted no_Wnv  Predicted Wnv\n",
       "Actual No_Wnv              2445              1\n",
       "Actual Wnv                  136              1"
      ]
     },
     "execution_count": 17,
     "metadata": {},
     "output_type": "execute_result"
    }
   ],
   "source": [
    "# Create a dataframe for confusion_matrix\n",
    "pd.DataFrame(confusion_matrix(y_test,predictions),\n",
    "            columns=['Predicted no_Wnv','Predicted Wnv'],\n",
    "            index=['Actual No_Wnv', 'Actual Wnv'])"
   ]
  },
  {
   "cell_type": "code",
   "execution_count": 18,
   "metadata": {},
   "outputs": [
    {
     "name": "stdout",
     "output_type": "stream",
     "text": [
      "True Negatives: 2445\n",
      "False Positives: 1\n",
      "False Negatives: 136\n",
      "True Positives: 1\n"
     ]
    }
   ],
   "source": [
    "# Print the confusion matrix\n",
    "\n",
    "tn, fp, fn, tp = confusion_matrix(y_test, predictions).ravel()\n",
    "\n",
    "print(\"True Negatives: %s\" % tn)\n",
    "print(\"False Positives: %s\" % fp)\n",
    "print(\"False Negatives: %s\" % fn)\n",
    "print(\"True Positives: %s\" % tp)"
   ]
  },
  {
   "cell_type": "code",
   "execution_count": 19,
   "metadata": {},
   "outputs": [
    {
     "name": "stdout",
     "output_type": "stream",
     "text": [
      "Sensitivity/Recall score for this model is: \n",
      "0.0072992700729927005\n",
      "\n",
      "Precision score for this model is: \n",
      "0.5\n",
      "\n",
      "Specificity score for this model is: \n",
      "0.9995911692559281\n",
      "\n",
      "F1_score score for this model is: \n",
      "0.014388489208633093\n"
     ]
    }
   ],
   "source": [
    "# Calculate senstivity and specificity for the model\n",
    "precision = tp/(tp + fp)\n",
    "recall = tp/(tp+fn)\n",
    "specificity = tn/(tn+fp)\n",
    "f1_score = 2*((precision*recall)/(precision+recall))\n",
    "\n",
    "print(\"Sensitivity/Recall score for this model is: \\n{}\\n\".format(recall))\n",
    "print(\"Precision score for this model is: \\n{}\\n\".format(precision))\n",
    "print(\"Specificity score for this model is: \\n{}\\n\".format(specificity))\n",
    "print(\"F1_score score for this model is: \\n{}\".format(f1_score))"
   ]
  },
  {
   "cell_type": "code",
   "execution_count": 20,
   "metadata": {},
   "outputs": [
    {
     "name": "stdout",
     "output_type": "stream",
     "text": [
      "              precision    recall  f1-score   support\n",
      "\n",
      "         0.0       0.95      1.00      0.97      2446\n",
      "         1.0       0.50      0.01      0.01       137\n",
      "\n",
      "    accuracy                           0.95      2583\n",
      "   macro avg       0.72      0.50      0.49      2583\n",
      "weighted avg       0.92      0.95      0.92      2583\n",
      "\n"
     ]
    }
   ],
   "source": [
    "# Print the classification report\n",
    "print(classification_report(y_test, predictions))"
   ]
  },
  {
   "cell_type": "code",
   "execution_count": 21,
   "metadata": {},
   "outputs": [],
   "source": [
    "# Generate the probalities of predictions for above model\n",
    "pred_proba = [i[1] for i in lr.predict_proba(X_test_sc)]"
   ]
  },
  {
   "cell_type": "code",
   "execution_count": 22,
   "metadata": {},
   "outputs": [],
   "source": [
    "# Create a dataframe with the true values and probablities\n",
    "pred_df = pd.DataFrame({'true_values': y_test,\n",
    "                        'pred_probs':pred_proba})"
   ]
  },
  {
   "cell_type": "markdown",
   "metadata": {},
   "source": [
    "Function to plot ROC curve"
   ]
  },
  {
   "cell_type": "code",
   "execution_count": 23,
   "metadata": {},
   "outputs": [],
   "source": [
    "# Define function to calculate sensitivity. (True positive rate.)\n",
    "def TPR(df, true_col, pred_prob_col, threshold):\n",
    "    true_positive = df[(df[true_col] == 1) & (df[pred_prob_col] >= threshold)].shape[0]\n",
    "    false_negative = df[(df[true_col] == 1) & (df[pred_prob_col] < threshold)].shape[0]\n",
    "    return true_positive / (true_positive + false_negative)\n",
    "\n",
    "# Define function to calculate 1 - specificity. (False positive rate.)\n",
    "def FPR(df, true_col, pred_prob_col, threshold):\n",
    "    true_negative = df[(df[true_col] == 0) & (df[pred_prob_col] <= threshold)].shape[0]\n",
    "    false_positive = df[(df[true_col] == 0) & (df[pred_prob_col] > threshold)].shape[0]\n",
    "    return 1 - (true_negative / (true_negative + false_positive))\n",
    "\n",
    "# Function to plot the ROC curve\n",
    "def roc_plot(fpr_values,tpr_values,pred_df):\n",
    "    # Create figure.\n",
    "    plt.figure(figsize = (10,7))\n",
    "\n",
    "    # Create threshold values. (Dashed red line in image.)\n",
    "    thresholds = np.linspace(0, 1, 200)    \n",
    "\n",
    "    # Plot ROC curve.\n",
    "    plt.plot(fpr_values, # False Positive Rate on X-axis\n",
    "             tpr_values, # True Positive Rate on Y-axis\n",
    "             label='ROC Curve')\n",
    "\n",
    "    # Plot baseline. (Perfect overlap between the two populations.)\n",
    "    plt.plot(np.linspace(0, 1, 200),\n",
    "             np.linspace(0, 1, 200),\n",
    "             label='baseline',\n",
    "             linestyle='--')\n",
    "\n",
    "    # Label axes.\n",
    "    #plt.title(f'ROC Curve with AUC = {round(roc_auc_score(pred_df['true_values'],pred_df['pred_probs']),3)}', fontsize=22)\n",
    "    plt.title('ROC Curve with AUC = {}'.format(round(roc_auc_score(pred_df['true_values'],pred_df['pred_probs']),3)), fontsize=22)\n",
    "    plt.ylabel('Sensitivity', fontsize=18)\n",
    "    plt.xlabel('1 - Specificity', fontsize=18)\n",
    "\n",
    "    # Create legend.\n",
    "    plt.legend(fontsize=16);"
   ]
  },
  {
   "cell_type": "code",
   "execution_count": 24,
   "metadata": {},
   "outputs": [
    {
     "name": "stdout",
     "output_type": "stream",
     "text": [
      "The AUC for model is \n",
      "0.790677166952152\n"
     ]
    }
   ],
   "source": [
    "# Calculate roc score\n",
    "roc_score = roc_auc_score(pred_df['true_values'], pred_df['pred_probs'])\n",
    "print(\"The AUC for model is \\n{}\".format(roc_score))"
   ]
  },
  {
   "cell_type": "code",
   "execution_count": 25,
   "metadata": {},
   "outputs": [
    {
     "data": {
      "image/png": "[encoded data removed]",
      "text/plain": [
       "<Figure size 720x504 with 1 Axes>"
      ]
     },
     "metadata": {
      "needs_background": "light"
     },
     "output_type": "display_data"
    }
   ],
   "source": [
    "# Calculate snsitivity & 1-specificity for each threshold between 0 and 1.\n",
    "\n",
    "# Create threshold values. (Dashed red line in image.)\n",
    "thresholds = np.linspace(0, 1, 200)  \n",
    "\n",
    "# Call the function to create trure_positive_rate values\n",
    "tpr_values = [TPR(pred_df, 'true_values', 'pred_probs', prob) for prob in thresholds]\n",
    "\n",
    "# Call the function to create false_positive_rate values\n",
    "fpr_values = [FPR(pred_df, 'true_values', 'pred_probs', prob) for prob in thresholds]\n",
    "\n",
    "# Plot the graph\n",
    "roc_plot(fpr_values,tpr_values,pred_df)"
   ]
  },
  {
   "cell_type": "code",
   "execution_count": 26,
   "metadata": {},
   "outputs": [],
   "source": [
    "# Storing the scores of this model for future reference\n",
    "training_accuracy = [round(lr.score(X_train_sc, y_train),4)]\n",
    "testing_accuracy = [round(lr.score(X_test_sc, y_test),4)]\n",
    "specificity_score = [round(specificity,4)]\n",
    "precision_score = [round(precision,4)]\n",
    "recall_score = [round(recall,4)]\n",
    "f1 = [round(f1_score,4)]\n",
    "roc = [round(roc_score,4)]"
   ]
  },
  {
   "cell_type": "markdown",
   "metadata": {},
   "source": [
    "### Model 2: Logistic Regression (with GridSearchCV) model"
   ]
  },
  {
   "cell_type": "code",
   "execution_count": 27,
   "metadata": {},
   "outputs": [],
   "source": [
    "# Instantiate the model\n",
    "lr_model = LogisticRegression(max_iter = 4000,random_state = 42)"
   ]
  },
  {
   "cell_type": "code",
   "execution_count": 28,
   "metadata": {},
   "outputs": [],
   "source": [
    "# Create the params for gridsearch\n",
    "pipe_params ={\n",
    "    'C' : np.logspace(-4, 4, 10),\n",
    "    'penalty' : ['l1','l2'],\n",
    "    #To deal with imbalance class\n",
    "    'class_weight':['balanced']}"
   ]
  },
  {
   "cell_type": "code",
   "execution_count": 29,
   "metadata": {},
   "outputs": [
    {
     "name": "stdout",
     "output_type": "stream",
     "text": [
      "Wall time: 20min 8s\n"
     ]
    },
    {
     "name": "stderr",
     "output_type": "stream",
     "text": [
      "C:\\Anaconda\\lib\\site-packages\\sklearn\\linear_model\\logistic.py:432: FutureWarning: Default solver will be changed to 'lbfgs' in 0.22. Specify a solver to silence this warning.\n",
      "  FutureWarning)\n"
     ]
    },
    {
     "data": {
      "text/plain": [
       "GridSearchCV(cv=5, error_score='raise-deprecating',\n",
       "             estimator=LogisticRegression(C=1.0, class_weight=None, dual=False,\n",
       "                                          fit_intercept=True,\n",
       "                                          intercept_scaling=1, l1_ratio=None,\n",
       "                                          max_iter=4000, multi_class='warn',\n",
       "                                          n_jobs=None, penalty='l2',\n",
       "                                          random_state=None, solver='warn',\n",
       "                                          tol=0.0001, verbose=0,\n",
       "                                          warm_start=False),\n",
       "             iid='warn', n_jobs=-1,\n",
       "             param_grid={'C': array([1.00000000e-04, 7.74263683e-04, 5.99484250e-03, 4.64158883e-02,\n",
       "       3.59381366e-01, 2.78255940e+00, 2.15443469e+01, 1.66810054e+02,\n",
       "       1.29154967e+03, 1.00000000e+04]),\n",
       "                         'class_weight': ['balanced'],\n",
       "                         'penalty': ['l1', 'l2']},\n",
       "             pre_dispatch='2*n_jobs', refit=True, return_train_score=False,\n",
       "             scoring=None, verbose=0)"
      ]
     },
     "execution_count": 29,
     "metadata": {},
     "output_type": "execute_result"
    }
   ],
   "source": [
    "%%time\n",
    "\n",
    "# Grid search the paramaters\n",
    "gs_lr = GridSearchCV(lr_model, param_grid=pipe_params, cv=5, n_jobs=-1)\n",
    "\n",
    "# Fit our X_train & y_train to the model\n",
    "gs_lr.fit(X_train_sc,y_train)"
   ]
  },
  {
   "cell_type": "code",
   "execution_count": 30,
   "metadata": {},
   "outputs": [
    {
     "data": {
      "text/plain": [
       "{'C': 0.0001, 'class_weight': 'balanced', 'penalty': 'l1'}"
      ]
     },
     "execution_count": 30,
     "metadata": {},
     "output_type": "execute_result"
    }
   ],
   "source": [
    "# Print out the best paramaters\n",
    "gs_lr.best_params_"
   ]
  },
  {
   "cell_type": "code",
   "execution_count": 31,
   "metadata": {},
   "outputs": [
    {
     "name": "stdout",
     "output_type": "stream",
     "text": [
      "Accuracy for LogisticRegression (with gridsearch) on training set is: \n",
      "0.9469055915048946\n",
      "\n",
      "Accuracy for LogisticRegression (with gridsearch) on testing set is: \n",
      "0.9469608981804104\n",
      "\n"
     ]
    }
   ],
   "source": [
    "print(\"Accuracy for LogisticRegression (with gridsearch) on training set is: \\n{}\\n\".\n",
    "      format(gs_lr.score(X_train_sc,y_train)))\n",
    "\n",
    "print(\"Accuracy for LogisticRegression (with gridsearch) on testing set is: \\n{}\\n\".\n",
    "      format(gs_lr.score(X_test_sc,y_test)))"
   ]
  },
  {
   "cell_type": "code",
   "execution_count": 32,
   "metadata": {},
   "outputs": [],
   "source": [
    "# Do the predictions\n",
    "predictions = gs_lr.predict(X_test_sc)"
   ]
  },
  {
   "cell_type": "code",
   "execution_count": 33,
   "metadata": {},
   "outputs": [
    {
     "data": {
      "text/html": [
       "<div>\n",
       "<style scoped>\n",
       "    .dataframe tbody tr th:only-of-type {\n",
       "        vertical-align: middle;\n",
       "    }\n",
       "\n",
       "    .dataframe tbody tr th {\n",
       "        vertical-align: top;\n",
       "    }\n",
       "\n",
       "    .dataframe thead th {\n",
       "        text-align: right;\n",
       "    }\n",
       "</style>\n",
       "<table border=\"1\" class=\"dataframe\">\n",
       "  <thead>\n",
       "    <tr style=\"text-align: right;\">\n",
       "      <th></th>\n",
       "      <th>Predicted no_Wnv</th>\n",
       "      <th>Predicted Wnv</th>\n",
       "    </tr>\n",
       "  </thead>\n",
       "  <tbody>\n",
       "    <tr>\n",
       "      <th>Actual No_Wnv</th>\n",
       "      <td>2446</td>\n",
       "      <td>0</td>\n",
       "    </tr>\n",
       "    <tr>\n",
       "      <th>Actual Wnv</th>\n",
       "      <td>137</td>\n",
       "      <td>0</td>\n",
       "    </tr>\n",
       "  </tbody>\n",
       "</table>\n",
       "</div>"
      ],
      "text/plain": [
       "               Predicted no_Wnv  Predicted Wnv\n",
       "Actual No_Wnv              2446              0\n",
       "Actual Wnv                  137              0"
      ]
     },
     "execution_count": 33,
     "metadata": {},
     "output_type": "execute_result"
    }
   ],
   "source": [
    "# Create a dataframe for confusion_matrix\n",
    "pd.DataFrame(confusion_matrix(y_test,predictions),\n",
    "            columns=['Predicted no_Wnv','Predicted Wnv'],\n",
    "            index=['Actual No_Wnv', 'Actual Wnv'])"
   ]
  },
  {
   "cell_type": "code",
   "execution_count": 34,
   "metadata": {},
   "outputs": [
    {
     "name": "stdout",
     "output_type": "stream",
     "text": [
      "True Negatives: 2446\n",
      "False Positives: 0\n",
      "False Negatives: 137\n",
      "True Positives: 0\n"
     ]
    }
   ],
   "source": [
    "# Print the confusion matrix\n",
    "\n",
    "tn, fp, fn, tp = confusion_matrix(y_test, predictions).ravel()\n",
    "\n",
    "print(\"True Negatives: %s\" % tn)\n",
    "print(\"False Positives: %s\" % fp)\n",
    "print(\"False Negatives: %s\" % fn)\n",
    "print(\"True Positives: %s\" % tp)"
   ]
  },
  {
   "cell_type": "code",
   "execution_count": 35,
   "metadata": {},
   "outputs": [
    {
     "name": "stdout",
     "output_type": "stream",
     "text": [
      "Sensitivity/Recall score for this model is: \n",
      "0.0\n",
      "\n",
      "Precision score for this model is: \n",
      "nan\n",
      "\n",
      "Specificity score for this model is: \n",
      "1.0\n",
      "\n",
      "F1_score score for this model is: \n",
      "nan\n"
     ]
    },
    {
     "name": "stderr",
     "output_type": "stream",
     "text": [
      "C:\\Anaconda\\lib\\site-packages\\ipykernel_launcher.py:2: RuntimeWarning: invalid value encountered in longlong_scalars\n",
      "  \n"
     ]
    }
   ],
   "source": [
    "# Calculate senstivity and specificity for the model\n",
    "precision = tp/(tp + fp)\n",
    "recall = tp/(tp+fn)\n",
    "specificity = tn/(tn+fp)\n",
    "f1_score = 2*((precision*recall)/(precision+recall))\n",
    "\n",
    "print(\"Sensitivity/Recall score for this model is: \\n{}\\n\".format(recall))\n",
    "print(\"Precision score for this model is: \\n{}\\n\".format(precision))\n",
    "print(\"Specificity score for this model is: \\n{}\\n\".format(specificity))\n",
    "print(\"F1_score score for this model is: \\n{}\".format(f1_score))"
   ]
  },
  {
   "cell_type": "code",
   "execution_count": 36,
   "metadata": {},
   "outputs": [
    {
     "name": "stdout",
     "output_type": "stream",
     "text": [
      "              precision    recall  f1-score   support\n",
      "\n",
      "         0.0       0.95      1.00      0.97      2446\n",
      "         1.0       0.00      0.00      0.00       137\n",
      "\n",
      "    accuracy                           0.95      2583\n",
      "   macro avg       0.47      0.50      0.49      2583\n",
      "weighted avg       0.90      0.95      0.92      2583\n",
      "\n"
     ]
    },
    {
     "name": "stderr",
     "output_type": "stream",
     "text": [
      "C:\\Anaconda\\lib\\site-packages\\sklearn\\metrics\\classification.py:1437: UndefinedMetricWarning: Precision and F-score are ill-defined and being set to 0.0 in labels with no predicted samples.\n",
      "  'precision', 'predicted', average, warn_for)\n"
     ]
    }
   ],
   "source": [
    "# Display classification report\n",
    "print(classification_report(y_test, predictions))"
   ]
  },
  {
   "cell_type": "code",
   "execution_count": 37,
   "metadata": {},
   "outputs": [],
   "source": [
    "# Generate the probalities of predictions for above model\n",
    "pred_proba = [i[1] for i in gs_lr.predict_proba(X_test_sc)]"
   ]
  },
  {
   "cell_type": "code",
   "execution_count": 38,
   "metadata": {},
   "outputs": [],
   "source": [
    "# Create a dataframe with the true values and probablities\n",
    "pred_df = pd.DataFrame({'true_values': y_test,\n",
    "                        'pred_probs':pred_proba})"
   ]
  },
  {
   "cell_type": "code",
   "execution_count": 39,
   "metadata": {},
   "outputs": [
    {
     "name": "stdout",
     "output_type": "stream",
     "text": [
      "The AUC for model is \n",
      "0.5\n"
     ]
    }
   ],
   "source": [
    "# Calculate roc score\n",
    "roc_score = roc_auc_score(pred_df['true_values'], pred_df['pred_probs'])\n",
    "print(\"The AUC for model is \\n{}\".format(roc_score))"
   ]
  },
  {
   "cell_type": "code",
   "execution_count": 40,
   "metadata": {},
   "outputs": [
    {
     "data": {
      "image/png": "[encoded data removed]",
      "text/plain": [
       "<Figure size 720x504 with 1 Axes>"
      ]
     },
     "metadata": {
      "needs_background": "light"
     },
     "output_type": "display_data"
    }
   ],
   "source": [
    "# Calculate snsitivity & 1-specificity for each threshold between 0 and 1.\n",
    "\n",
    "# Create threshold values. (Dashed red line in image.)\n",
    "thresholds = np.linspace(0, 1, 200)  \n",
    "\n",
    "# Call the function to create trure_positive_rate values\n",
    "tpr_values = [TPR(pred_df, 'true_values', 'pred_probs', prob) for prob in thresholds]\n",
    "\n",
    "# Call the function to create false_positive_rate values\n",
    "fpr_values = [FPR(pred_df, 'true_values', 'pred_probs', prob) for prob in thresholds]\n",
    "\n",
    "# Plot the graph\n",
    "roc_plot(fpr_values,tpr_values,pred_df)"
   ]
  },
  {
   "cell_type": "code",
   "execution_count": 41,
   "metadata": {},
   "outputs": [],
   "source": [
    "# Storing the scores of this model for future reference\n",
    "training_accuracy.append(round(gs_lr.score(X_train_sc,y_train),4))\n",
    "testing_accuracy.append(round(gs_lr.score(X_test_sc,y_test),4))\n",
    "specificity_score.append(round(specificity,4))\n",
    "precision_score.append(round(precision,4))\n",
    "recall_score.append(round(recall,4))\n",
    "f1.append(round(f1_score,4))\n",
    "roc.append(round(roc_score,4))"
   ]
  },
  {
   "cell_type": "code",
   "execution_count": 42,
   "metadata": {},
   "outputs": [
    {
     "data": {
      "text/plain": [
       "avg_speed     0.0\n",
       "result_dir    0.0\n",
       "077           0.0\n",
       "076           0.0\n",
       "075           0.0\n",
       "074           0.0\n",
       "073           0.0\n",
       "072           0.0\n",
       "071           0.0\n",
       "070           0.0\n",
       "dtype: float64"
      ]
     },
     "execution_count": 42,
     "metadata": {},
     "output_type": "execute_result"
    }
   ],
   "source": [
    "# Printing the features and their coefficients to see which features have the most affect.\n",
    "feats = pd.Series(abs(gs_lr.best_estimator_.coef_.T.reshape(-1)), index=X.columns)\n",
    "\n",
    "#Top 10 features with highest coeeficients\n",
    "feats[abs(feats).sort_values(ascending=False).index].head(10)"
   ]
  },
  {
   "cell_type": "code",
   "execution_count": 43,
   "metadata": {
    "scrolled": true
   },
   "outputs": [
    {
     "data": {
      "image/png": "[encoded data removed]",
      "text/plain": [
       "<Figure size 864x504 with 1 Axes>"
      ]
     },
     "metadata": {
      "needs_background": "light"
     },
     "output_type": "display_data"
    }
   ],
   "source": [
    "# Plot the top 10 features having most impact on target variable\n",
    "\n",
    "ax = feats[abs(feats).sort_values(ascending=False).index].head(10).plot(kind='bar', figsize=(12,7), color=\"c\")\n",
    "ax.set_xticklabels(ax.get_xticklabels(),rotation=50,ha='right');\n",
    "\n",
    "# Give the title and labels\n",
    "plt.title(\"Top 10 impacting features:\\nLogisticRegression (GridSearch)\",fontsize=20)\n",
    "plt.xlabel(\"features\",fontsize=15)\n",
    "plt.ylabel(\"Coefficients\",fontsize=15);"
   ]
  },
  {
   "cell_type": "markdown",
   "metadata": {},
   "source": [
    "### Model 3: Logistic Regression with PCA (with GridSearchCV) model"
   ]
  },
  {
   "cell_type": "code",
   "execution_count": 44,
   "metadata": {},
   "outputs": [],
   "source": [
    "# Instantiate the PCA model\n",
    "pca = PCA(random_state=42,n_components=50)"
   ]
  },
  {
   "cell_type": "code",
   "execution_count": 45,
   "metadata": {},
   "outputs": [],
   "source": [
    "\n",
    "# Fit the model\n",
    "pca.fit(X_train_sc)\n",
    "\n",
    "# Transform the data\n",
    "X_train_pca = pca.transform(X_train_sc)\n",
    "X_test_pca = pca.transform(X_test_sc)"
   ]
  },
  {
   "cell_type": "code",
   "execution_count": 46,
   "metadata": {},
   "outputs": [],
   "source": [
    "# Instantiate the model\n",
    "lr_model_pca = LogisticRegression(max_iter = 4000)"
   ]
  },
  {
   "cell_type": "code",
   "execution_count": 47,
   "metadata": {},
   "outputs": [],
   "source": [
    "# Create the params for gridsearch\n",
    "pipe_params ={\n",
    "    'C' : np.logspace(-4, 4, 10),\n",
    "    'penalty' : ['l1','l2'],\n",
    "    #To deal with imbalance class\n",
    "    'class_weight':['balanced']}"
   ]
  },
  {
   "cell_type": "code",
   "execution_count": 48,
   "metadata": {},
   "outputs": [
    {
     "name": "stdout",
     "output_type": "stream",
     "text": [
      "Wall time: 6.17 s\n"
     ]
    },
    {
     "name": "stderr",
     "output_type": "stream",
     "text": [
      "C:\\Anaconda\\lib\\site-packages\\sklearn\\linear_model\\logistic.py:432: FutureWarning: Default solver will be changed to 'lbfgs' in 0.22. Specify a solver to silence this warning.\n",
      "  FutureWarning)\n"
     ]
    },
    {
     "data": {
      "text/plain": [
       "GridSearchCV(cv=5, error_score='raise-deprecating',\n",
       "             estimator=LogisticRegression(C=1.0, class_weight=None, dual=False,\n",
       "                                          fit_intercept=True,\n",
       "                                          intercept_scaling=1, l1_ratio=None,\n",
       "                                          max_iter=4000, multi_class='warn',\n",
       "                                          n_jobs=None, penalty='l2',\n",
       "                                          random_state=None, solver='warn',\n",
       "                                          tol=0.0001, verbose=0,\n",
       "                                          warm_start=False),\n",
       "             iid='warn', n_jobs=-1,\n",
       "             param_grid={'C': array([1.00000000e-04, 7.74263683e-04, 5.99484250e-03, 4.64158883e-02,\n",
       "       3.59381366e-01, 2.78255940e+00, 2.15443469e+01, 1.66810054e+02,\n",
       "       1.29154967e+03, 1.00000000e+04]),\n",
       "                         'class_weight': ['balanced'],\n",
       "                         'penalty': ['l1', 'l2']},\n",
       "             pre_dispatch='2*n_jobs', refit=True, return_train_score=False,\n",
       "             scoring=None, verbose=0)"
      ]
     },
     "execution_count": 48,
     "metadata": {},
     "output_type": "execute_result"
    }
   ],
   "source": [
    "%%time\n",
    "\n",
    "# Grid search the paramaters\n",
    "gs_lr_pca = GridSearchCV(lr_model_pca, param_grid=pipe_params, cv=5, n_jobs=-1)\n",
    "\n",
    "# Fit our X_train & y_train to the model\n",
    "gs_lr_pca.fit(X_train_pca,y_train)"
   ]
  },
  {
   "cell_type": "code",
   "execution_count": 49,
   "metadata": {},
   "outputs": [
    {
     "data": {
      "text/plain": [
       "{'C': 0.0001, 'class_weight': 'balanced', 'penalty': 'l1'}"
      ]
     },
     "execution_count": 49,
     "metadata": {},
     "output_type": "execute_result"
    }
   ],
   "source": [
    "# Print out the best paramaters\n",
    "gs_lr_pca.best_params_"
   ]
  },
  {
   "cell_type": "code",
   "execution_count": 50,
   "metadata": {},
   "outputs": [
    {
     "data": {
      "text/plain": [
       "0.9469055915048946"
      ]
     },
     "execution_count": 50,
     "metadata": {},
     "output_type": "execute_result"
    }
   ],
   "source": [
    "# Print out the best score\n",
    "gs_lr_pca.best_score_"
   ]
  },
  {
   "cell_type": "code",
   "execution_count": 51,
   "metadata": {},
   "outputs": [
    {
     "name": "stdout",
     "output_type": "stream",
     "text": [
      "Accuracy for LogisticRegression with pca (with gridsearch) on training set is: \n",
      "0.9469055915048946\n",
      "\n",
      "Accuracy for LogisticRegression with pca (with gridsearch) on testing set is: \n",
      "0.9469608981804104\n",
      "\n"
     ]
    }
   ],
   "source": [
    "print(\"Accuracy for LogisticRegression with pca (with gridsearch) on training set is: \\n{}\\n\".\n",
    "      format(gs_lr_pca.score(X_train_pca,y_train)))\n",
    "\n",
    "print(\"Accuracy for LogisticRegression with pca (with gridsearch) on testing set is: \\n{}\\n\".\n",
    "      format(gs_lr_pca.score(X_test_pca,y_test)))"
   ]
  },
  {
   "cell_type": "code",
   "execution_count": 52,
   "metadata": {},
   "outputs": [],
   "source": [
    "# Do the predictions\n",
    "predictions = gs_lr_pca.predict(X_test_pca)"
   ]
  },
  {
   "cell_type": "code",
   "execution_count": 53,
   "metadata": {},
   "outputs": [
    {
     "data": {
      "text/html": [
       "<div>\n",
       "<style scoped>\n",
       "    .dataframe tbody tr th:only-of-type {\n",
       "        vertical-align: middle;\n",
       "    }\n",
       "\n",
       "    .dataframe tbody tr th {\n",
       "        vertical-align: top;\n",
       "    }\n",
       "\n",
       "    .dataframe thead th {\n",
       "        text-align: right;\n",
       "    }\n",
       "</style>\n",
       "<table border=\"1\" class=\"dataframe\">\n",
       "  <thead>\n",
       "    <tr style=\"text-align: right;\">\n",
       "      <th></th>\n",
       "      <th>Predicted no_Wnv</th>\n",
       "      <th>Predicted Wnv</th>\n",
       "    </tr>\n",
       "  </thead>\n",
       "  <tbody>\n",
       "    <tr>\n",
       "      <th>Actual No_Wnv</th>\n",
       "      <td>2446</td>\n",
       "      <td>0</td>\n",
       "    </tr>\n",
       "    <tr>\n",
       "      <th>Actual Wnv</th>\n",
       "      <td>137</td>\n",
       "      <td>0</td>\n",
       "    </tr>\n",
       "  </tbody>\n",
       "</table>\n",
       "</div>"
      ],
      "text/plain": [
       "               Predicted no_Wnv  Predicted Wnv\n",
       "Actual No_Wnv              2446              0\n",
       "Actual Wnv                  137              0"
      ]
     },
     "execution_count": 53,
     "metadata": {},
     "output_type": "execute_result"
    }
   ],
   "source": [
    "# Create a dataframe for confusion_matrix\n",
    "pd.DataFrame(confusion_matrix(y_test,predictions),\n",
    "            columns=['Predicted no_Wnv','Predicted Wnv'],\n",
    "            index=['Actual No_Wnv', 'Actual Wnv'])"
   ]
  },
  {
   "cell_type": "code",
   "execution_count": 54,
   "metadata": {},
   "outputs": [
    {
     "name": "stdout",
     "output_type": "stream",
     "text": [
      "True Negatives: 2446\n",
      "False Positives: 0\n",
      "False Negatives: 137\n",
      "True Positives: 0\n"
     ]
    }
   ],
   "source": [
    "# Print the confusion matrix\n",
    "\n",
    "tn, fp, fn, tp = confusion_matrix(y_test, predictions).ravel()\n",
    "\n",
    "print(\"True Negatives: %s\" % tn)\n",
    "print(\"False Positives: %s\" % fp)\n",
    "print(\"False Negatives: %s\" % fn)\n",
    "print(\"True Positives: %s\" % tp)"
   ]
  },
  {
   "cell_type": "code",
   "execution_count": 55,
   "metadata": {},
   "outputs": [
    {
     "name": "stdout",
     "output_type": "stream",
     "text": [
      "Sensitivity/Recall score for this model is: \n",
      "0.0\n",
      "\n",
      "Precision score for this model is: \n",
      "nan\n",
      "\n",
      "Specificity score for this model is: \n",
      "1.0\n",
      "\n",
      "F1_score score for this model is: \n",
      "nan\n"
     ]
    },
    {
     "name": "stderr",
     "output_type": "stream",
     "text": [
      "C:\\Anaconda\\lib\\site-packages\\ipykernel_launcher.py:2: RuntimeWarning: invalid value encountered in longlong_scalars\n",
      "  \n"
     ]
    }
   ],
   "source": [
    "# Calculate senstivity and specificity for the model\n",
    "precision = tp/(tp + fp)\n",
    "recall = tp/(tp+fn)\n",
    "specificity = tn/(tn+fp)\n",
    "f1_score = 2*((precision*recall)/(precision+recall))\n",
    "\n",
    "print(\"Sensitivity/Recall score for this model is: \\n{}\\n\".format(recall))\n",
    "print(\"Precision score for this model is: \\n{}\\n\".format(precision))\n",
    "print(\"Specificity score for this model is: \\n{}\\n\".format(specificity))\n",
    "print(\"F1_score score for this model is: \\n{}\".format(f1_score))"
   ]
  },
  {
   "cell_type": "code",
   "execution_count": 56,
   "metadata": {},
   "outputs": [
    {
     "name": "stdout",
     "output_type": "stream",
     "text": [
      "              precision    recall  f1-score   support\n",
      "\n",
      "         0.0       0.95      1.00      0.97      2446\n",
      "         1.0       0.00      0.00      0.00       137\n",
      "\n",
      "    accuracy                           0.95      2583\n",
      "   macro avg       0.47      0.50      0.49      2583\n",
      "weighted avg       0.90      0.95      0.92      2583\n",
      "\n"
     ]
    },
    {
     "name": "stderr",
     "output_type": "stream",
     "text": [
      "C:\\Anaconda\\lib\\site-packages\\sklearn\\metrics\\classification.py:1437: UndefinedMetricWarning: Precision and F-score are ill-defined and being set to 0.0 in labels with no predicted samples.\n",
      "  'precision', 'predicted', average, warn_for)\n"
     ]
    }
   ],
   "source": [
    "# Display classification report\n",
    "print(classification_report(y_test, predictions))"
   ]
  },
  {
   "cell_type": "code",
   "execution_count": 57,
   "metadata": {},
   "outputs": [],
   "source": [
    "# Generate the probalities of predictions for above model\n",
    "pred_proba = [i[1] for i in gs_lr_pca.predict_proba(X_test_pca)]"
   ]
  },
  {
   "cell_type": "code",
   "execution_count": 58,
   "metadata": {},
   "outputs": [],
   "source": [
    "# Create a dataframe with the true values and probablities\n",
    "pred_df = pd.DataFrame({'true_values': y_test,\n",
    "                        'pred_probs':pred_proba})"
   ]
  },
  {
   "cell_type": "code",
   "execution_count": 59,
   "metadata": {},
   "outputs": [
    {
     "name": "stdout",
     "output_type": "stream",
     "text": [
      "The AUC for model is \n",
      "0.5\n"
     ]
    }
   ],
   "source": [
    "# Calculate roc score\n",
    "roc_score = roc_auc_score(pred_df['true_values'], pred_df['pred_probs'])\n",
    "print(\"The AUC for model is \\n{}\".format(roc_score))"
   ]
  },
  {
   "cell_type": "code",
   "execution_count": 60,
   "metadata": {},
   "outputs": [
    {
     "data": {
      "image/png": "[encoded data removed]",
      "text/plain": [
       "<Figure size 720x504 with 1 Axes>"
      ]
     },
     "metadata": {
      "needs_background": "light"
     },
     "output_type": "display_data"
    }
   ],
   "source": [
    "# Calculate snsitivity & 1-specificity for each threshold between 0 and 1.\n",
    "\n",
    "# Create threshold values. (Dashed red line in image.)\n",
    "thresholds = np.linspace(0, 1, 200)  \n",
    "\n",
    "# Call the function to create trure_positive_rate values\n",
    "tpr_values = [TPR(pred_df, 'true_values', 'pred_probs', prob) for prob in thresholds]\n",
    "\n",
    "# Call the function to create false_positive_rate values\n",
    "fpr_values = [FPR(pred_df, 'true_values', 'pred_probs', prob) for prob in thresholds]\n",
    "\n",
    "# Plot the graph\n",
    "roc_plot(fpr_values,tpr_values,pred_df)"
   ]
  },
  {
   "cell_type": "code",
   "execution_count": 61,
   "metadata": {},
   "outputs": [
    {
     "data": {
      "text/plain": [
       "49    0.0\n",
       "12    0.0\n",
       "22    0.0\n",
       "21    0.0\n",
       "20    0.0\n",
       "dtype: float64"
      ]
     },
     "execution_count": 61,
     "metadata": {},
     "output_type": "execute_result"
    }
   ],
   "source": [
    "# Top 10 features\n",
    "feats = pd.Series(abs(gs_lr_pca.best_estimator_.coef_.T.reshape(-1)))\n",
    "feats[abs(feats).sort_values(ascending=False).index].head()"
   ]
  },
  {
   "cell_type": "code",
   "execution_count": 62,
   "metadata": {},
   "outputs": [
    {
     "data": {
      "text/plain": [
       "tavg            0.356614\n",
       "wet_bulb        0.355999\n",
       "tmin            0.343520\n",
       "dew_point       0.340576\n",
       "cool            0.340348\n",
       "tmax            0.330151\n",
       "depart          0.292421\n",
       "heat            0.266404\n",
       "sea_level       0.213996\n",
       "stn_pressure    0.201356\n",
       "dtype: float64"
      ]
     },
     "execution_count": 62,
     "metadata": {},
     "output_type": "execute_result"
    }
   ],
   "source": [
    "# Printing the features and their coefficients to see which features have the most affect.\n",
    "feats = pd.Series(data=pca.components_[0], index=X.columns)\n",
    "\n",
    "#Top 10 features with highest coeeficients\n",
    "abs(feats[abs(feats).sort_values(ascending=False).index]).head(10)"
   ]
  },
  {
   "cell_type": "code",
   "execution_count": 63,
   "metadata": {
    "scrolled": true
   },
   "outputs": [
    {
     "data": {
      "image/png": "[encoded data removed]",
      "text/plain": [
       "<Figure size 864x504 with 1 Axes>"
      ]
     },
     "metadata": {
      "needs_background": "light"
     },
     "output_type": "display_data"
    }
   ],
   "source": [
    "# Plot the top 10 features having most impact on target variable\n",
    "\n",
    "ax = abs(feats[abs(feats).sort_values(ascending=False).index]).head(10).plot(kind='bar', figsize=(12,7), color=\"c\")\n",
    "ax.set_xticklabels(ax.get_xticklabels(),rotation=50,ha='right');\n",
    "\n",
    "# Give the title and labels\n",
    "plt.title(\"Top 10 impacting features:\\nLogisticRegression-PCA (GridSearch)\",fontsize=20)\n",
    "plt.xlabel(\"features\",fontsize=15)\n",
    "plt.ylabel(\"Coefficients\",fontsize=15);"
   ]
  },
  {
   "cell_type": "code",
   "execution_count": 64,
   "metadata": {},
   "outputs": [],
   "source": [
    "# Storing the scores of this model for future reference\n",
    "training_accuracy.append(round(gs_lr_pca.score(X_train_pca,y_train),4))\n",
    "testing_accuracy.append(round(gs_lr_pca.score(X_test_pca,y_test),4))\n",
    "specificity_score.append(round(specificity,4))\n",
    "precision_score.append(round(precision,4))\n",
    "recall_score.append(round(recall,4))\n",
    "f1.append(round(f1_score,4))\n",
    "roc.append(round(roc_score,4))"
   ]
  },
  {
   "cell_type": "markdown",
   "metadata": {},
   "source": [
    "### Model 4: Random Forest (with GridSearchCV) model"
   ]
  },
  {
   "cell_type": "code",
   "execution_count": 65,
   "metadata": {},
   "outputs": [],
   "source": [
    "# Instantiate the model\n",
    "rf = RandomForestClassifier(random_state=42)"
   ]
  },
  {
   "cell_type": "code",
   "execution_count": 66,
   "metadata": {},
   "outputs": [
    {
     "name": "stderr",
     "output_type": "stream",
     "text": [
      "C:\\Anaconda\\lib\\site-packages\\sklearn\\ensemble\\forest.py:245: FutureWarning: The default value of n_estimators will change from 10 in version 0.20 to 100 in 0.22.\n",
      "  \"10 in version 0.20 to 100 in 0.22.\", FutureWarning)\n",
      "C:\\Anaconda\\lib\\site-packages\\sklearn\\ensemble\\forest.py:245: FutureWarning: The default value of n_estimators will change from 10 in version 0.20 to 100 in 0.22.\n",
      "  \"10 in version 0.20 to 100 in 0.22.\", FutureWarning)\n",
      "C:\\Anaconda\\lib\\site-packages\\sklearn\\ensemble\\forest.py:245: FutureWarning: The default value of n_estimators will change from 10 in version 0.20 to 100 in 0.22.\n",
      "  \"10 in version 0.20 to 100 in 0.22.\", FutureWarning)\n"
     ]
    },
    {
     "data": {
      "text/plain": [
       "0.9387759132386945"
      ]
     },
     "execution_count": 66,
     "metadata": {},
     "output_type": "execute_result"
    }
   ],
   "source": [
    "# Do a quick accuracy check\n",
    "cross_val_score(rf,X_train_sc,y_train,cv=3).mean()"
   ]
  },
  {
   "cell_type": "code",
   "execution_count": 67,
   "metadata": {},
   "outputs": [],
   "source": [
    "# Create the param list for grid search\n",
    "\n",
    "rf_params = {\n",
    "    'class_weight': ['balanced'],\n",
    "    'n_estimators' : [10,20],\n",
    "    'max_depth' : [4,5],\n",
    "    'min_samples_leaf': [3,4],\n",
    "    'min_samples_split': [4,5]\n",
    "}"
   ]
  },
  {
   "cell_type": "code",
   "execution_count": 68,
   "metadata": {},
   "outputs": [
    {
     "name": "stdout",
     "output_type": "stream",
     "text": [
      "Wall time: 2.16 s\n"
     ]
    },
    {
     "data": {
      "text/plain": [
       "GridSearchCV(cv=5, error_score='raise-deprecating',\n",
       "             estimator=RandomForestClassifier(bootstrap=True, class_weight=None,\n",
       "                                              criterion='gini', max_depth=None,\n",
       "                                              max_features='auto',\n",
       "                                              max_leaf_nodes=None,\n",
       "                                              min_impurity_decrease=0.0,\n",
       "                                              min_impurity_split=None,\n",
       "                                              min_samples_leaf=1,\n",
       "                                              min_samples_split=2,\n",
       "                                              min_weight_fraction_leaf=0.0,\n",
       "                                              n_estimators='warn', n_jobs=None,\n",
       "                                              oob_score=False, random_state=42,\n",
       "                                              verbose=0, warm_start=False),\n",
       "             iid='warn', n_jobs=-1,\n",
       "             param_grid={'class_weight': ['balanced'], 'max_depth': [4, 5],\n",
       "                         'min_samples_leaf': [3, 4],\n",
       "                         'min_samples_split': [4, 5],\n",
       "                         'n_estimators': [10, 20]},\n",
       "             pre_dispatch='2*n_jobs', refit=True, return_train_score=False,\n",
       "             scoring=None, verbose=0)"
      ]
     },
     "execution_count": 68,
     "metadata": {},
     "output_type": "execute_result"
    }
   ],
   "source": [
    "%%time\n",
    "\n",
    "# Do the grid search\n",
    "gs_rf = GridSearchCV(rf,param_grid=rf_params,cv=5,n_jobs=-1)\n",
    "gs_rf.fit(X_train_sc, y_train)"
   ]
  },
  {
   "cell_type": "code",
   "execution_count": 69,
   "metadata": {},
   "outputs": [
    {
     "name": "stdout",
     "output_type": "stream",
     "text": [
      "The best score is: \n",
      "0.7066533930645429\n",
      "\n",
      "The best params are: \n",
      "{'class_weight': 'balanced', 'max_depth': 4, 'min_samples_leaf': 3, 'min_samples_split': 4, 'n_estimators': 10}\n"
     ]
    }
   ],
   "source": [
    "print(\"The best score is: \\n{}\".format(gs_rf.best_score_))\n",
    "print(\"\\nThe best params are: \\n{}\".format(gs_rf.best_params_))"
   ]
  },
  {
   "cell_type": "code",
   "execution_count": 70,
   "metadata": {},
   "outputs": [
    {
     "name": "stdout",
     "output_type": "stream",
     "text": [
      "Accuracy for Random Forest (with gridsearch) on training set is: \n",
      "0.6455948232951717\n",
      "\n",
      "Accuracy for Random Forest (with gridsearch) on testing set is: \n",
      "0.6480836236933798\n",
      "\n"
     ]
    }
   ],
   "source": [
    "print(\"Accuracy for Random Forest (with gridsearch) on training set is: \\n{}\\n\".\n",
    "      format(gs_rf.score(X_train_sc, y_train)))\n",
    "\n",
    "print(\"Accuracy for Random Forest (with gridsearch) on testing set is: \\n{}\\n\".\n",
    "      format(gs_rf.score(X_test_sc, y_test)))"
   ]
  },
  {
   "cell_type": "code",
   "execution_count": 71,
   "metadata": {},
   "outputs": [],
   "source": [
    "# Do the predictions\n",
    "predictions = gs_rf.predict(X_test_sc)"
   ]
  },
  {
   "cell_type": "code",
   "execution_count": 72,
   "metadata": {},
   "outputs": [
    {
     "data": {
      "text/html": [
       "<div>\n",
       "<style scoped>\n",
       "    .dataframe tbody tr th:only-of-type {\n",
       "        vertical-align: middle;\n",
       "    }\n",
       "\n",
       "    .dataframe tbody tr th {\n",
       "        vertical-align: top;\n",
       "    }\n",
       "\n",
       "    .dataframe thead th {\n",
       "        text-align: right;\n",
       "    }\n",
       "</style>\n",
       "<table border=\"1\" class=\"dataframe\">\n",
       "  <thead>\n",
       "    <tr style=\"text-align: right;\">\n",
       "      <th></th>\n",
       "      <th>Predicted no_Wnv</th>\n",
       "      <th>Predicted Wnv</th>\n",
       "    </tr>\n",
       "  </thead>\n",
       "  <tbody>\n",
       "    <tr>\n",
       "      <th>Actual No_Wnv</th>\n",
       "      <td>1557</td>\n",
       "      <td>889</td>\n",
       "    </tr>\n",
       "    <tr>\n",
       "      <th>Actual Wnv</th>\n",
       "      <td>20</td>\n",
       "      <td>117</td>\n",
       "    </tr>\n",
       "  </tbody>\n",
       "</table>\n",
       "</div>"
      ],
      "text/plain": [
       "               Predicted no_Wnv  Predicted Wnv\n",
       "Actual No_Wnv              1557            889\n",
       "Actual Wnv                   20            117"
      ]
     },
     "execution_count": 72,
     "metadata": {},
     "output_type": "execute_result"
    }
   ],
   "source": [
    "# Create a dataframe for confusion matrix\n",
    "pd.DataFrame(confusion_matrix(y_test,predictions),\n",
    "            columns=['Predicted no_Wnv','Predicted Wnv'],\n",
    "            index=['Actual No_Wnv', 'Actual Wnv'])"
   ]
  },
  {
   "cell_type": "code",
   "execution_count": 73,
   "metadata": {},
   "outputs": [
    {
     "name": "stdout",
     "output_type": "stream",
     "text": [
      "True Negatives: 1557\n",
      "False Positives: 889\n",
      "False Negatives: 20\n",
      "True Positives: 117\n"
     ]
    }
   ],
   "source": [
    "# Print the confusion matrix\n",
    "\n",
    "tn, fp, fn, tp = confusion_matrix(y_test, predictions).ravel()\n",
    "\n",
    "print(\"True Negatives: %s\" % tn)\n",
    "print(\"False Positives: %s\" % fp)\n",
    "print(\"False Negatives: %s\" % fn)\n",
    "print(\"True Positives: %s\" % tp)"
   ]
  },
  {
   "cell_type": "code",
   "execution_count": 74,
   "metadata": {},
   "outputs": [
    {
     "name": "stdout",
     "output_type": "stream",
     "text": [
      "Sensitivity/Recall score for this model is: \n",
      "0.8540145985401459\n",
      "\n",
      "Precision score for this model is: \n",
      "0.11630218687872763\n",
      "\n",
      "Specificity score for this model is: \n",
      "0.6365494685200327\n",
      "\n",
      "F1_score score for this model is: \n",
      "0.20472440944881892\n"
     ]
    }
   ],
   "source": [
    "# Calculate senstivity and specificity for the model\n",
    "precision = tp/(tp + fp)\n",
    "recall = tp/(tp+fn)\n",
    "specificity = tn/(tn+fp)\n",
    "f1_score = 2*((precision*recall)/(precision+recall))\n",
    "\n",
    "print(\"Sensitivity/Recall score for this model is: \\n{}\\n\".format(recall))\n",
    "print(\"Precision score for this model is: \\n{}\\n\".format(precision))\n",
    "print(\"Specificity score for this model is: \\n{}\\n\".format(specificity))\n",
    "print(\"F1_score score for this model is: \\n{}\".format(f1_score))"
   ]
  },
  {
   "cell_type": "code",
   "execution_count": 75,
   "metadata": {},
   "outputs": [
    {
     "name": "stdout",
     "output_type": "stream",
     "text": [
      "              precision    recall  f1-score   support\n",
      "\n",
      "         0.0       0.99      0.64      0.77      2446\n",
      "         1.0       0.12      0.85      0.20       137\n",
      "\n",
      "    accuracy                           0.65      2583\n",
      "   macro avg       0.55      0.75      0.49      2583\n",
      "weighted avg       0.94      0.65      0.74      2583\n",
      "\n"
     ]
    }
   ],
   "source": [
    "print(classification_report(y_test, predictions))"
   ]
  },
  {
   "cell_type": "code",
   "execution_count": 76,
   "metadata": {},
   "outputs": [
    {
     "name": "stdout",
     "output_type": "stream",
     "text": [
      "The AUC for model is \n",
      "0.8112947699506419\n"
     ]
    }
   ],
   "source": [
    "# Generate the probalities of predictions for above model\n",
    "pred_proba = [i[1] for i in gs_rf.predict_proba(X_test_sc)]\n",
    "\n",
    "# Create a dataframe with the true values and probablities\n",
    "pred_df = pd.DataFrame({'true_values': y_test,\n",
    "                        'pred_probs':pred_proba})\n",
    "\n",
    "# Calculate roc score\n",
    "roc_score = roc_auc_score(pred_df['true_values'], pred_df['pred_probs'])\n",
    "print(\"The AUC for model is \\n{}\".format(roc_score))"
   ]
  },
  {
   "cell_type": "code",
   "execution_count": 77,
   "metadata": {
    "scrolled": true
   },
   "outputs": [
    {
     "data": {
      "image/png": "[encoded data removed]",
      "text/plain": [
       "<Figure size 720x504 with 1 Axes>"
      ]
     },
     "metadata": {
      "needs_background": "light"
     },
     "output_type": "display_data"
    }
   ],
   "source": [
    "# Calculate snsitivity & 1-specificity for each threshold between 0 and 1.\n",
    "\n",
    "# Create threshold values. (Dashed red line in image.)\n",
    "thresholds = np.linspace(0, 1, 200)  \n",
    "\n",
    "# Call the function to create trure_positive_rate values\n",
    "tpr_values = [TPR(pred_df, 'true_values', 'pred_probs', prob) for prob in thresholds]\n",
    "\n",
    "# Call the function to create false_positive_rate values\n",
    "fpr_values = [FPR(pred_df, 'true_values', 'pred_probs', prob) for prob in thresholds]\n",
    "\n",
    "# Plot the graph\n",
    "roc_plot(fpr_values,tpr_values,pred_df)"
   ]
  },
  {
   "cell_type": "code",
   "execution_count": 78,
   "metadata": {},
   "outputs": [
    {
     "data": {
      "text/plain": [
       "daylight          0.220132\n",
       "depart            0.086750\n",
       "cool              0.081773\n",
       "Longitude         0.081543\n",
       "culex_restuans    0.080091\n",
       "stn_pressure      0.068715\n",
       "tmin              0.066308\n",
       "tavg              0.062205\n",
       "tmax              0.049422\n",
       "sea_level         0.040694\n",
       "dtype: float64"
      ]
     },
     "execution_count": 78,
     "metadata": {},
     "output_type": "execute_result"
    }
   ],
   "source": [
    "# Printing the features and their coefficients to see which features have the most affect.\n",
    "feats = pd.Series(gs_rf.best_estimator_.feature_importances_, index=X.columns).sort_values(ascending=False)\n",
    "\n",
    "#Top 10 features with highest coeeficients\n",
    "feats[abs(feats).sort_values(ascending=False).index].head(10)"
   ]
  },
  {
   "cell_type": "code",
   "execution_count": 79,
   "metadata": {},
   "outputs": [
    {
     "data": {
      "image/png": "[encoded data removed]",
      "text/plain": [
       "<Figure size 864x504 with 1 Axes>"
      ]
     },
     "metadata": {
      "needs_background": "light"
     },
     "output_type": "display_data"
    }
   ],
   "source": [
    "# Plot the top 10 features having most impact on target variable\n",
    "\n",
    "ax = feats[abs(feats).sort_values(ascending=False).index].head(10).plot(kind='bar', figsize=(12,7), color=\"c\")\n",
    "ax.set_xticklabels(ax.get_xticklabels(),rotation=50,ha='right');\n",
    "\n",
    "# Give the title and labels\n",
    "plt.title(\"Top 10 impacting features:\\nRandom Forest (GridSearch)\",fontsize=20)\n",
    "plt.xlabel(\"features\",fontsize=15)\n",
    "plt.ylabel(\"Coefficients\",fontsize=15);"
   ]
  },
  {
   "cell_type": "code",
   "execution_count": 80,
   "metadata": {},
   "outputs": [],
   "source": [
    "# Storing the scores of this model for future reference\n",
    "training_accuracy.append(round(gs_rf.score(X_train_sc,y_train),4))\n",
    "testing_accuracy.append(round(gs_rf.score(X_test_sc,y_test),4))\n",
    "specificity_score.append(round(specificity,4))\n",
    "precision_score.append(round(precision,4))\n",
    "recall_score.append(round(recall,4))\n",
    "f1.append(round(f1_score,4))\n",
    "roc.append(round(roc_score,4))"
   ]
  },
  {
   "cell_type": "markdown",
   "metadata": {},
   "source": [
    "### Model 5: XgBoost (with GridSearchCV)"
   ]
  },
  {
   "cell_type": "code",
   "execution_count": 81,
   "metadata": {},
   "outputs": [],
   "source": [
    "#Instantiate the model\n",
    "xgb = XGBClassifier(random_state=42)"
   ]
  },
  {
   "cell_type": "code",
   "execution_count": 82,
   "metadata": {},
   "outputs": [],
   "source": [
    "# Create the grid-search parameters\n",
    "parameters = { 'scale_pos_weight':[1, 2, 3],\n",
    "              'max_depth':[5],\n",
    "             }"
   ]
  },
  {
   "cell_type": "code",
   "execution_count": 83,
   "metadata": {},
   "outputs": [
    {
     "name": "stdout",
     "output_type": "stream",
     "text": [
      "Wall time: 25.3 s\n"
     ]
    },
    {
     "data": {
      "text/plain": [
       "GridSearchCV(cv=5, error_score='raise-deprecating',\n",
       "             estimator=XGBClassifier(base_score=None, booster=None,\n",
       "                                     colsample_bylevel=None,\n",
       "                                     colsample_bynode=None,\n",
       "                                     colsample_bytree=None, gamma=None,\n",
       "                                     gpu_id=None, importance_type='gain',\n",
       "                                     interaction_constraints=None,\n",
       "                                     learning_rate=None, max_delta_step=None,\n",
       "                                     max_depth=None, min_child_weight=None,\n",
       "                                     missing=nan, monotone_constrai...\n",
       "                                     num_parallel_tree=None,\n",
       "                                     objective='binary:logistic',\n",
       "                                     random_state=42, reg_alpha=None,\n",
       "                                     reg_lambda=None, scale_pos_weight=None,\n",
       "                                     subsample=None, tree_method=None,\n",
       "                                     validate_parameters=False,\n",
       "                                     verbosity=None),\n",
       "             iid='warn', n_jobs=-1,\n",
       "             param_grid={'max_depth': [5], 'scale_pos_weight': [1, 2, 3]},\n",
       "             pre_dispatch='2*n_jobs', refit=True, return_train_score=False,\n",
       "             scoring=None, verbose=0)"
      ]
     },
     "execution_count": 83,
     "metadata": {},
     "output_type": "execute_result"
    }
   ],
   "source": [
    "%%time\n",
    "\n",
    "# Gridsearch for best result\n",
    "gs_xgb = GridSearchCV(xgb, param_grid=parameters, cv=5,n_jobs=-1)\n",
    "\n",
    "# Fit the model on optimized params\n",
    "gs_xgb.fit(X_train_sc, y_train)"
   ]
  },
  {
   "cell_type": "code",
   "execution_count": 84,
   "metadata": {},
   "outputs": [
    {
     "name": "stdout",
     "output_type": "stream",
     "text": [
      "The best params for gridsearch are: \n",
      "{'max_depth': 5, 'scale_pos_weight': 1}\n",
      "\n",
      "The best score for gridsearch are: \n",
      "0.9392732702837232\n"
     ]
    }
   ],
   "source": [
    "print(\"The best params for gridsearch are: \\n{}\".format(gs_xgb.best_params_))\n",
    "print(\"\\nThe best score for gridsearch are: \\n{}\".format(gs_xgb.best_score_))"
   ]
  },
  {
   "cell_type": "code",
   "execution_count": 85,
   "metadata": {
    "scrolled": true
   },
   "outputs": [
    {
     "name": "stdout",
     "output_type": "stream",
     "text": [
      "The accuracy for XGB model (with gridsearch) for training set is: \n",
      "0.959349593495935\n",
      "\n",
      "The accuracy for XGB model (with gridsearch) for testing set is: \n",
      "0.9399922570654278\n"
     ]
    }
   ],
   "source": [
    "print(\"The accuracy for XGB model (with gridsearch) for training set is: \\n{}\".\n",
    "      format(gs_xgb.score(X_train_sc,y_train)))\n",
    "\n",
    "print(\"\\nThe accuracy for XGB model (with gridsearch) for testing set is: \\n{}\".\n",
    "      format(gs_xgb.score(X_test_sc,y_test)))"
   ]
  },
  {
   "cell_type": "code",
   "execution_count": 86,
   "metadata": {},
   "outputs": [],
   "source": [
    "# Do the predictions\n",
    "predictions = gs_xgb.predict(X_test_sc)"
   ]
  },
  {
   "cell_type": "code",
   "execution_count": 87,
   "metadata": {},
   "outputs": [
    {
     "data": {
      "text/html": [
       "<div>\n",
       "<style scoped>\n",
       "    .dataframe tbody tr th:only-of-type {\n",
       "        vertical-align: middle;\n",
       "    }\n",
       "\n",
       "    .dataframe tbody tr th {\n",
       "        vertical-align: top;\n",
       "    }\n",
       "\n",
       "    .dataframe thead th {\n",
       "        text-align: right;\n",
       "    }\n",
       "</style>\n",
       "<table border=\"1\" class=\"dataframe\">\n",
       "  <thead>\n",
       "    <tr style=\"text-align: right;\">\n",
       "      <th></th>\n",
       "      <th>Predicted no_Wnv</th>\n",
       "      <th>Predicted Wnv</th>\n",
       "    </tr>\n",
       "  </thead>\n",
       "  <tbody>\n",
       "    <tr>\n",
       "      <th>Actual No_Wnv</th>\n",
       "      <td>2417</td>\n",
       "      <td>29</td>\n",
       "    </tr>\n",
       "    <tr>\n",
       "      <th>Actual Wnv</th>\n",
       "      <td>126</td>\n",
       "      <td>11</td>\n",
       "    </tr>\n",
       "  </tbody>\n",
       "</table>\n",
       "</div>"
      ],
      "text/plain": [
       "               Predicted no_Wnv  Predicted Wnv\n",
       "Actual No_Wnv              2417             29\n",
       "Actual Wnv                  126             11"
      ]
     },
     "execution_count": 87,
     "metadata": {},
     "output_type": "execute_result"
    }
   ],
   "source": [
    "# Create a dataframe for confusion matrix\n",
    "pd.DataFrame(confusion_matrix(y_test,predictions),\n",
    "            columns=['Predicted no_Wnv','Predicted Wnv'],\n",
    "            index=['Actual No_Wnv', 'Actual Wnv'])"
   ]
  },
  {
   "cell_type": "code",
   "execution_count": 88,
   "metadata": {},
   "outputs": [
    {
     "name": "stdout",
     "output_type": "stream",
     "text": [
      "True Negatives: 2417\n",
      "False Positives: 29\n",
      "False Negatives: 126\n",
      "True Positives: 11\n"
     ]
    }
   ],
   "source": [
    "# Print the confusion matrix\n",
    "\n",
    "tn, fp, fn, tp = confusion_matrix(y_test, predictions).ravel()\n",
    "\n",
    "print(\"True Negatives: %s\" % tn)\n",
    "print(\"False Positives: %s\" % fp)\n",
    "print(\"False Negatives: %s\" % fn)\n",
    "print(\"True Positives: %s\" % tp)"
   ]
  },
  {
   "cell_type": "code",
   "execution_count": 89,
   "metadata": {},
   "outputs": [
    {
     "name": "stdout",
     "output_type": "stream",
     "text": [
      "Sensitivity/Recall score for this model is: \n",
      "0.08029197080291971\n",
      "\n",
      "Precision score for this model is: \n",
      "0.275\n",
      "\n",
      "Specificity score for this model is: \n",
      "0.9881439084219134\n",
      "\n",
      "F1_score score for this model is: \n",
      "0.12429378531073447\n"
     ]
    }
   ],
   "source": [
    "# Calculate senstivity and specificity for the model\n",
    "precision = tp/(tp + fp)\n",
    "recall = tp/(tp+fn)\n",
    "specificity = tn/(tn+fp)\n",
    "f1_score = 2*((precision*recall)/(precision+recall))\n",
    "\n",
    "print(\"Sensitivity/Recall score for this model is: \\n{}\\n\".format(recall))\n",
    "print(\"Precision score for this model is: \\n{}\\n\".format(precision))\n",
    "print(\"Specificity score for this model is: \\n{}\\n\".format(specificity))\n",
    "print(\"F1_score score for this model is: \\n{}\".format(f1_score))"
   ]
  },
  {
   "cell_type": "code",
   "execution_count": 90,
   "metadata": {},
   "outputs": [
    {
     "name": "stdout",
     "output_type": "stream",
     "text": [
      "              precision    recall  f1-score   support\n",
      "\n",
      "         0.0       0.95      0.99      0.97      2446\n",
      "         1.0       0.28      0.08      0.12       137\n",
      "\n",
      "    accuracy                           0.94      2583\n",
      "   macro avg       0.61      0.53      0.55      2583\n",
      "weighted avg       0.91      0.94      0.92      2583\n",
      "\n"
     ]
    }
   ],
   "source": [
    "print(classification_report(y_test, predictions))"
   ]
  },
  {
   "cell_type": "code",
   "execution_count": 91,
   "metadata": {},
   "outputs": [
    {
     "name": "stdout",
     "output_type": "stream",
     "text": [
      "The AUC for model is \n",
      "0.847683690339061\n"
     ]
    }
   ],
   "source": [
    "# Generate the probalities of predictions for above model\n",
    "pred_proba = [i[1] for i in gs_xgb.predict_proba(X_test_sc)]\n",
    "\n",
    "# Create a dataframe with the true values and probablities\n",
    "pred_df = pd.DataFrame({'true_values': y_test,\n",
    "                        'pred_probs':pred_proba})\n",
    "\n",
    "# Calculate roc score\n",
    "roc_score = roc_auc_score(pred_df['true_values'], pred_df['pred_probs'])\n",
    "print(\"The AUC for model is \\n{}\".format(roc_score))"
   ]
  },
  {
   "cell_type": "code",
   "execution_count": 92,
   "metadata": {
    "scrolled": true
   },
   "outputs": [
    {
     "data": {
      "image/png": "[encoded data removed]",
      "text/plain": [
       "<Figure size 720x504 with 1 Axes>"
      ]
     },
     "metadata": {
      "needs_background": "light"
     },
     "output_type": "display_data"
    }
   ],
   "source": [
    "# Calculate sensitivity & 1-specificity for each threshold between 0 and 1.\n",
    "\n",
    "# Create threshold values. (Dashed red line in image.)\n",
    "thresholds = np.linspace(0, 1, 200)  \n",
    "\n",
    "# Call the function to create trure_positive_rate values\n",
    "tpr_values = [TPR(pred_df, 'true_values', 'pred_probs', prob) for prob in thresholds]\n",
    "\n",
    "# Call the function to create false_positive_rate values\n",
    "fpr_values = [FPR(pred_df, 'true_values', 'pred_probs', prob) for prob in thresholds]\n",
    "\n",
    "# Plot the graph\n",
    "roc_plot(fpr_values,tpr_values,pred_df)"
   ]
  },
  {
   "cell_type": "code",
   "execution_count": 93,
   "metadata": {},
   "outputs": [
    {
     "data": {
      "text/plain": [
       "daylight           0.059240\n",
       "cool               0.046725\n",
       "028                0.031675\n",
       "011                0.025947\n",
       "223                0.024980\n",
       "006                0.022153\n",
       "003                0.021298\n",
       "culex_territans    0.020758\n",
       "086                0.020386\n",
       "culex_restuans     0.019775\n",
       "dtype: float32"
      ]
     },
     "execution_count": 93,
     "metadata": {},
     "output_type": "execute_result"
    }
   ],
   "source": [
    "# Printing the features and their coefficients to see which features have the most affect.\n",
    "feats = pd.Series(gs_xgb.best_estimator_.feature_importances_, index=X.columns).sort_values(ascending=False)\n",
    "\n",
    "#Top 10 features with highest coeeficients\n",
    "feats[abs(feats).sort_values(ascending=False).index].head(10)"
   ]
  },
  {
   "cell_type": "code",
   "execution_count": 94,
   "metadata": {},
   "outputs": [
    {
     "data": {
      "image/png": "[encoded data removed]",
      "text/plain": [
       "<Figure size 864x504 with 1 Axes>"
      ]
     },
     "metadata": {
      "needs_background": "light"
     },
     "output_type": "display_data"
    }
   ],
   "source": [
    "# Plot the top 10 features having most impact on target variable\n",
    "\n",
    "ax = feats[abs(feats).sort_values(ascending=False).index].head(10).plot(kind='bar', figsize=(12,7), color=\"c\")\n",
    "ax.set_xticklabels(ax.get_xticklabels(),rotation=50,ha='right');\n",
    "\n",
    "# Give the title and labels\n",
    "plt.title(\"Top 10 impacting features:\\nXGBoost (GridSearch)\",fontsize=20)\n",
    "plt.xlabel(\"features\",fontsize=15)\n",
    "plt.ylabel(\"Coefficients\",fontsize=15);"
   ]
  },
  {
   "cell_type": "code",
   "execution_count": 95,
   "metadata": {
    "scrolled": true
   },
   "outputs": [],
   "source": [
    "# Storing the scores of this model for future reference\n",
    "training_accuracy.append(round(gs_rf.score(X_train_sc,y_train),4))\n",
    "testing_accuracy.append(round(gs_rf.score(X_test_sc,y_test),4))\n",
    "specificity_score.append(round(specificity,4))\n",
    "precision_score.append(round(precision,4))\n",
    "recall_score.append(round(recall,4))\n",
    "f1.append(round(f1_score,4))\n",
    "roc.append(round(roc_score,4))"
   ]
  },
  {
   "cell_type": "code",
   "execution_count": 96,
   "metadata": {},
   "outputs": [],
   "source": [
    "# Create a dataframe for scores and metrics from all models\n",
    "\n",
    "final_scores = pd.DataFrame({'train_acc':training_accuracy,\n",
    "                             'test_acc':testing_accuracy,\n",
    "                             'specificity':specificity_score,\n",
    "                             'precision':precision_score,\n",
    "                             'recall_sensitivity': recall_score,\n",
    "                             'f1_score':f1,\n",
    "                             'roc_score': roc\n",
    "                            },\n",
    "                           index=['lr', 'gs_lr', 'gs_lr_pca', 'gs_rf', 'gs_xgboost'])"
   ]
  },
  {
   "cell_type": "code",
   "execution_count": 97,
   "metadata": {},
   "outputs": [],
   "source": [
    "# save the file\n",
    "final_scores.to_csv('../results/final_scores.csv')"
   ]
  },
  {
   "cell_type": "markdown",
   "metadata": {},
   "source": [
    "### Now, we will train the whole the selected model on whole training set and do predictions on the test set."
   ]
  },
  {
   "cell_type": "code",
   "execution_count": 98,
   "metadata": {},
   "outputs": [],
   "source": [
    "# Create list of columns without Id for testing set\n",
    "columns = [col for col in test_split.columns if col!='Id']"
   ]
  },
  {
   "cell_type": "code",
   "execution_count": 99,
   "metadata": {},
   "outputs": [],
   "source": [
    "# Final X_train\n",
    "X_train_final = train_split[features]\n",
    "\n",
    "# Final y_train\n",
    "y_train_final  = train_split['WnvPresent']\n",
    "\n",
    "# Final X_test\n",
    "X_test_final = test_split[columns]"
   ]
  },
  {
   "cell_type": "code",
   "execution_count": 100,
   "metadata": {},
   "outputs": [],
   "source": [
    "#Instantiate a StandardScaler object\n",
    "ss1 = StandardScaler()\n",
    "\n",
    "#Fit & transform the X_train_final data into StandardScaler object\n",
    "X_train_final_ss = ss1.fit_transform(X_train_final)\n",
    "\n",
    "#Apply the fit method to X_test_final\n",
    "X_test_final_ss = ss1.transform(X_test_final)"
   ]
  },
  {
   "cell_type": "markdown",
   "metadata": {},
   "source": [
    "### Fit the training data and predict for \"test\" : LogisticRegression (with gridsearch)"
   ]
  },
  {
   "cell_type": "code",
   "execution_count": null,
   "metadata": {},
   "outputs": [],
   "source": [
    "# Fit the model\n",
    "gs_lr.fit(X_train_final,y_train_final)\n",
    "\n",
    "# Do the predictions\n",
    "predictions_gs_lr = gs_lr.predict(X_test_final)\n",
    "\n",
    "# Create dataframe for scores\n",
    "predict_gs_lr = pd.DataFrame(test_split['Id'])\n",
    "predict_gs_lr['WnvPresent'] = predictions_gs_lr\n",
    "\n",
    "# Change the type to int\n",
    "predict_gs_lr = predict_gs_lr.astype('int')\n",
    "\n",
    "# Store the file\n",
    "predict_gs_lr.to_csv('../results/predict_gs_lr.csv',index=False)"
   ]
  },
  {
   "cell_type": "markdown",
   "metadata": {},
   "source": [
    "### Fit the training data and predict for \"test\" data : RandomForest (with gridsearch)"
   ]
  },
  {
   "cell_type": "code",
   "execution_count": null,
   "metadata": {},
   "outputs": [],
   "source": [
    "# Fit the model\n",
    "gs_rf.fit(X_train_final,y_train_final)\n",
    "\n",
    "# Do the predictions\n",
    "predictions_gs_rf = gs_rf.predict(X_test_final)\n",
    "\n",
    "# Create dataframe for scores\n",
    "pred_gs_rf = pd.DataFrame(test_split['Id'])\n",
    "pred_gs_rf['WnvPresent'] = predictions_gs_rf\n",
    "\n",
    "# Change the type to int\n",
    "pred_gs_rf = pred_gs_rf.astype('int')\n",
    "\n",
    "# Store the file\n",
    "pred_gs_rf.to_csv('../results/pred_gs_rf.csv',index=False)"
   ]
  },
  {
   "cell_type": "markdown",
   "metadata": {},
   "source": [
    "## Model Comparison"
   ]
  },
  {
   "cell_type": "code",
   "execution_count": null,
   "metadata": {
    "scrolled": false
   },
   "outputs": [],
   "source": [
    "# Print the scores\n",
    "scores = pd.read_csv('../results/final_scores_1.csv',index_col=0)\n",
    "scores"
   ]
  },
  {
   "cell_type": "markdown",
   "metadata": {},
   "source": [
    "From above we can see that, the best performing models are:\n",
    "1. Logistic Regression (with GridSearch)\n",
    "2. Random Forest (with GridSearch)\n",
    "\n",
    "We selected Random Forest as our final model:\n",
    "- it has higher recall score\n",
    "- ROC score is high\n",
    "- Random forest perform well with imbalanced classes\n",
    "- reduces variance"
   ]
  },
  {
   "cell_type": "markdown",
   "metadata": {},
   "source": [
    "#### Kaggle score\n",
    "\n",
    "\n",
    "![](./data/Project4_kaggle_score.png)"
   ]
  },
  {
   "attachments": {
    "Project4_kaggle_score.png": {
     "image/png": "[encoded data removed]"
    }
   },
   "cell_type": "markdown",
   "metadata": {},
   "source": [
    "![Project4_kaggle_score.png](attachment:Project4_kaggle_score.png)"
   ]
  }
 ],
 "metadata": {
  "kernelspec": {
   "display_name": "Python 3",
   "language": "python",
   "name": "python3"
  },
  "language_info": {
   "codemirror_mode": {
    "name": "ipython",
    "version": 3
   },
   "file_extension": ".py",
   "mimetype": "text/x-python",
   "name": "python",
   "nbconvert_exporter": "python",
   "pygments_lexer": "ipython3",
   "version": "3.7.4"
  }
 },
 "nbformat": 4,
 "nbformat_minor": 2
}
