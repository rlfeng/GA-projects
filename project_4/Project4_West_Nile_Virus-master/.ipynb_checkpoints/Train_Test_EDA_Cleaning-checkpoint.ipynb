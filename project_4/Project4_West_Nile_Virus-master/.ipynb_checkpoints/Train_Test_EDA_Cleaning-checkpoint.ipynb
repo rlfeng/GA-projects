{
 "cells": [
  {
   "cell_type": "markdown",
   "metadata": {},
   "source": [
    "### Importing of Libraries"
   ]
  },
  {
   "cell_type": "markdown",
   "metadata": {},
   "source": [
<<<<<<< HEAD
    "Testing.. (Jason)"
=======
    "testing branching (Jason)"
>>>>>>> 626d2f102231063cdb85bef9fda6402ec69393dc
   ]
  },
  {
   "cell_type": "code",
   "execution_count": 6,
   "metadata": {},
   "outputs": [],
   "source": [
    "# importing essential libraries\n",
    "import numpy as np\n",
    "import pandas as pd\n",
    "import seaborn as sns\n",
    "import matplotlib.pyplot as plt"
   ]
  },
  {
   "cell_type": "code",
   "execution_count": 7,
   "metadata": {},
   "outputs": [],
   "source": [
    "# Data download\n",
    "train = pd.read_csv('data/train.csv')\n",
    "test = pd.read_csv('data/test.csv')\n",
    "spray = pd.read_csv('data/spray.csv')\n",
    "weather = pd.read_csv('data/weather.csv')"
   ]
  },
  {
   "cell_type": "code",
   "execution_count": 8,
   "metadata": {},
   "outputs": [
    {
     "data": {
      "text/plain": [
       "08    3751\n",
       "07    2606\n",
       "09    2218\n",
       "06    1571\n",
       "10     276\n",
       "05      84\n",
       "Name: Month, dtype: int64"
      ]
     },
     "execution_count": 8,
     "metadata": {},
     "output_type": "execute_result"
    }
   ],
   "source": [
    "pd.DataFrame([item for item in train.Date.str.split('-')] ,columns = [\"Year\", \"Month\", \"Day\"]).Month.value_counts()"
   ]
  },
  {
   "cell_type": "markdown",
   "metadata": {},
   "source": [
    "### Data Cleaning and EDA"
   ]
  },
  {
   "cell_type": "code",
   "execution_count": 9,
   "metadata": {},
   "outputs": [
    {
     "name": "stdout",
     "output_type": "stream",
     "text": [
      "Checking for null values in the four datasets:\n",
      "\n",
      "TRAIN DATA\n",
      "Date                      0\n",
      "Address                   0\n",
      "Species                   0\n",
      "Block                     0\n",
      "Street                    0\n",
      "Trap                      0\n",
      "AddressNumberAndStreet    0\n",
      "Latitude                  0\n",
      "Longitude                 0\n",
      "AddressAccuracy           0\n",
      "NumMosquitos              0\n",
      "WnvPresent                0\n",
      "dtype: int64\n",
      "\n",
      "TEST DATA\n",
      "Id                        0\n",
      "Date                      0\n",
      "Address                   0\n",
      "Species                   0\n",
      "Block                     0\n",
      "Street                    0\n",
      "Trap                      0\n",
      "AddressNumberAndStreet    0\n",
      "Latitude                  0\n",
      "Longitude                 0\n",
      "AddressAccuracy           0\n",
      "dtype: int64\n",
      "\n"
     ]
    }
   ],
   "source": [
    "#Checking for null values in the train and test datasets provided\n",
    "print('Checking for null values in the four datasets:\\n\\nTRAIN DATA\\n{}\\n\\nTEST DATA\\n{}\\n'.format(train.isnull().sum(),test.isnull().sum()))"
   ]
  },
  {
   "cell_type": "code",
   "execution_count": 10,
   "metadata": {},
   "outputs": [
    {
     "name": "stdout",
     "output_type": "stream",
     "text": [
      "<class 'pandas.core.frame.DataFrame'>\n",
      "RangeIndex: 10506 entries, 0 to 10505\n",
      "Data columns (total 12 columns):\n",
      " #   Column                  Non-Null Count  Dtype  \n",
      "---  ------                  --------------  -----  \n",
      " 0   Date                    10506 non-null  object \n",
      " 1   Address                 10506 non-null  object \n",
      " 2   Species                 10506 non-null  object \n",
      " 3   Block                   10506 non-null  int64  \n",
      " 4   Street                  10506 non-null  object \n",
      " 5   Trap                    10506 non-null  object \n",
      " 6   AddressNumberAndStreet  10506 non-null  object \n",
      " 7   Latitude                10506 non-null  float64\n",
      " 8   Longitude               10506 non-null  float64\n",
      " 9   AddressAccuracy         10506 non-null  int64  \n",
      " 10  NumMosquitos            10506 non-null  int64  \n",
      " 11  WnvPresent              10506 non-null  int64  \n",
      "dtypes: float64(2), int64(4), object(6)\n",
      "memory usage: 985.1+ KB\n"
     ]
    }
   ],
   "source": [
    "# Now that there is no more null data in our datasets, lets proceed to look deeper into the datasets\n",
    "train.info()"
   ]
  },
  {
   "cell_type": "code",
   "execution_count": 11,
   "metadata": {},
   "outputs": [
    {
     "name": "stdout",
     "output_type": "stream",
     "text": [
      "<class 'pandas.core.frame.DataFrame'>\n",
      "RangeIndex: 116293 entries, 0 to 116292\n",
      "Data columns (total 11 columns):\n",
      " #   Column                  Non-Null Count   Dtype  \n",
      "---  ------                  --------------   -----  \n",
      " 0   Id                      116293 non-null  int64  \n",
      " 1   Date                    116293 non-null  object \n",
      " 2   Address                 116293 non-null  object \n",
      " 3   Species                 116293 non-null  object \n",
      " 4   Block                   116293 non-null  int64  \n",
      " 5   Street                  116293 non-null  object \n",
      " 6   Trap                    116293 non-null  object \n",
      " 7   AddressNumberAndStreet  116293 non-null  object \n",
      " 8   Latitude                116293 non-null  float64\n",
      " 9   Longitude               116293 non-null  float64\n",
      " 10  AddressAccuracy         116293 non-null  int64  \n",
      "dtypes: float64(2), int64(3), object(6)\n",
      "memory usage: 9.8+ MB\n"
     ]
    }
   ],
   "source": [
    "test.info()"
   ]
  },
  {
   "cell_type": "markdown",
   "metadata": {},
   "source": [
    " As a overview the following can be deduced from the .info() function of the dataframes:\n",
    " - The train set has 10506 records and test set has 116293 records thus indicating a heavily imbalanced dataset\n",
    " - WnvPresent is the target variable thus not found in the test set and Id is only in the test set as it is meant for Kaggle submission\n",
    " - As NumMosquitos is only found in the train set, it will be removed for the modelling processing but will still be used for the initial EDA\n",
    " - From a visual inspection it is observed that several columns are related to the location and thus may potentially have high correlation(Address, Street, AddressNumberAndStreet , Latitude , Longitude and AddressAccuracy)"
   ]
  },
  {
   "cell_type": "code",
   "execution_count": 12,
   "metadata": {},
   "outputs": [
    {
     "name": "stderr",
     "output_type": "stream",
     "text": [
      "C:\\Anaconda\\lib\\site-packages\\seaborn\\categorical.py:3666: UserWarning: The `factorplot` function has been renamed to `catplot`. The original name will be removed in a future release. Please update your code. Note that the default `kind` in `factorplot` (`'point'`) has changed `'strip'` in `catplot`.\n",
      "  warnings.warn(msg)\n"
     ]
    },
    {
     "data": {
      "text/plain": [
       "<seaborn.axisgrid.FacetGrid at 0x1a21c789fc8>"
      ]
     },
     "execution_count": 12,
     "metadata": {},
     "output_type": "execute_result"
    },
    {
     "data": {
      "image/png": "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\n",
      "text/plain": [
       "<Figure size 270x360 with 1 Axes>"
      ]
     },
     "metadata": {
      "needs_background": "light"
     },
     "output_type": "display_data"
    }
   ],
   "source": [
    "# The below histogram clearly depicts the imbalance in the predicted variable.\n",
    "sns.factorplot(\"WnvPresent\", data=train, aspect=0.75,\n",
    "                       kind=\"count\", color='green',)"
   ]
  },
  {
   "cell_type": "markdown",
   "metadata": {},
   "source": [
    "This imbalance can be handled at the point of train-test split prior to modelling by stratifying the data. It will ensure the split will take into account the imbalance."
   ]
  },
  {
   "cell_type": "code",
   "execution_count": 13,
   "metadata": {},
   "outputs": [
    {
     "data": {
      "text/plain": [
       "<matplotlib.axes._subplots.AxesSubplot at 0x1a21ca60d88>"
      ]
     },
     "execution_count": 13,
     "metadata": {},
     "output_type": "execute_result"
    },
    {
     "data": {
      "image/png": "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\n",
      "text/plain": [
       "<Figure size 720x1080 with 2 Axes>"
      ]
     },
     "metadata": {
      "needs_background": "light"
     },
     "output_type": "display_data"
    }
   ],
   "source": [
    "# An overview of datasets correlation with target variable,WnvPresent. \n",
    "fig = plt.figure(figsize=(10,15))\n",
    "fig.set_title = ('Heatmap for Correlation of features with WnvPresent')\n",
    "sns.heatmap(abs(train.corr())[['WnvPresent']].sort_values('WnvPresent', ascending = False),annot = True,cmap='Accent')"
   ]
  },
  {
   "cell_type": "markdown",
   "metadata": {},
   "source": [
    "- The NumMosquitos column has the highest correlation with the target variable which clearly indicates that a reduction in the number of mosquitoes will affect the presence of the virus.\n",
    "- However the other variables in the heatmap which are related to location have an extremely low correlation(less than 0.06) with the target variable thus these can possibly be dropped from the dataset prior to modelling."
   ]
  },
  {
   "cell_type": "code",
   "execution_count": 14,
   "metadata": {},
   "outputs": [
    {
     "data": {
      "text/plain": [
       "0"
      ]
     },
     "execution_count": 14,
     "metadata": {},
     "output_type": "execute_result"
    }
   ],
   "source": [
    "# Another consideration to eliminate the address related columns is because all the address data essentially point to the\n",
    "# location of the traps as per kaggle description. The unique counts of the Trap and Address columns were counted and \n",
    "# the comparison aided in determining if there is any differences.\n",
    "Trap_Series = pd.DataFrame(train.Trap.value_counts().sort_values(ascending = False))\n",
    "Address_series = pd.DataFrame(train.Address.value_counts().sort_values(ascending = False))\n",
    "(Address_series.Address - Trap_Series.Trap).notnull().sum()"
   ]
  },
  {
   "cell_type": "markdown",
   "metadata": {},
   "source": [
    " As the difference is 0 it is clear that all data that can be represented by Data can actually be represented by the Trap column. Therefore when we clean we can drop the columns related to address and also proceed to Dummify the trap column as numeric data will be the optimal for our classification based models. For the trap names, the names with an alphabet suffix are satellite traps and are additional traps in the same vicinity as the trap name without the suffix. Therefore prior to dummifying the column we shall also remove those suffixes under the assumption that the distance between these traps are negligible."
   ]
  },
  {
   "cell_type": "markdown",
   "metadata": {},
   "source": [
    "Merging the datasets for cleaning"
   ]
  },
  {
   "cell_type": "code",
   "execution_count": 15,
   "metadata": {},
   "outputs": [],
   "source": [
    "train_test = pd.concat([train,test],axis = 0)"
   ]
  },
  {
   "cell_type": "markdown",
   "metadata": {},
   "source": [
    "As the test data does not have NumMosquitos column(Number of Mosquitoes), they shall be removed from the merged train_test dataset"
   ]
  },
  {
   "cell_type": "code",
   "execution_count": 16,
   "metadata": {},
   "outputs": [],
   "source": [
    "train_test.drop(['NumMosquitos'],axis = 1,inplace =True)"
   ]
  },
  {
   "cell_type": "markdown",
   "metadata": {},
   "source": [
    "We shall now remove the duplicate rows. The majority of duplicates is because there is one record for every 50 mosquitoes, however these can be dropped as we are dropping the number of mosquitoes column itself"
   ]
  },
  {
   "cell_type": "code",
   "execution_count": 17,
   "metadata": {},
   "outputs": [],
   "source": [
    "train_test.drop_duplicates(inplace=True)"
   ]
  },
  {
   "cell_type": "markdown",
   "metadata": {},
   "source": [
    " We will be using longitude and latitude as an indication of the exact location of address and as discussed earlier we will be dropping all other columns relevant to address as the Trap column carries all required information."
   ]
  },
  {
   "cell_type": "code",
   "execution_count": 18,
   "metadata": {},
   "outputs": [],
   "source": [
    "train_test.drop(['Address', 'Block', 'Street', 'AddressNumberAndStreet','AddressAccuracy'],axis = 1, inplace=True)"
   ]
  },
  {
   "cell_type": "markdown",
   "metadata": {},
   "source": [
    "As discussed earlier we will now be removing the alphabetic suffixes from the trap labels and then creating dummy columns"
   ]
  },
  {
   "cell_type": "code",
   "execution_count": 19,
   "metadata": {},
   "outputs": [],
   "source": [
    "#Removal of alphabetic suffixes\n",
    "train_test.Trap = train_test.Trap.str.extract('(\\d+)')\n",
    "# Creation of dummy columns for the Trap Column\n",
    "train_test = pd.concat([train_test, pd.get_dummies(train_test.Trap)], axis=1)\n",
    "train_test.drop(['Trap'],axis =1, inplace =True)"
   ]
  },
  {
   "cell_type": "markdown",
   "metadata": {},
   "source": [
    "We shall proceed to study the Species column"
   ]
  },
  {
   "cell_type": "code",
   "execution_count": 20,
   "metadata": {},
   "outputs": [
    {
     "data": {
      "text/plain": [
       "<seaborn.axisgrid.FacetGrid at 0x1a21c226748>"
      ]
     },
     "execution_count": 20,
     "metadata": {},
     "output_type": "execute_result"
    },
    {
     "data": {
      "image/png": "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\n",
      "text/plain": [
       "<Figure size 1080x360 with 1 Axes>"
      ]
     },
     "metadata": {
      "needs_background": "light"
     },
     "output_type": "display_data"
    }
   ],
   "source": [
    "# Species Data for train dataset\n",
    "g = sns.factorplot(\"Species\", data=train, aspect=3,\n",
    "                       kind=\"count\", color='green')\n",
    "g.set_xticklabels(rotation=30)"
   ]
  },
  {
   "cell_type": "code",
   "execution_count": 21,
   "metadata": {},
   "outputs": [
    {
     "data": {
      "text/plain": [
       "<seaborn.axisgrid.FacetGrid at 0x1a21c2d4808>"
      ]
     },
     "execution_count": 21,
     "metadata": {},
     "output_type": "execute_result"
    },
    {
     "data": {
      "image/png": "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\n",
      "text/plain": [
       "<Figure size 1080x360 with 1 Axes>"
      ]
     },
     "metadata": {
      "needs_background": "light"
     },
     "output_type": "display_data"
    }
   ],
   "source": [
    "# Species Data for test dataset\n",
    "g = sns.factorplot(\"Species\", data=test, aspect=3,\n",
    "                       kind=\"count\", color='red')\n",
    "g.set_xticklabels(rotation=30)"
   ]
  },
  {
   "cell_type": "markdown",
   "metadata": {},
   "source": [
    "The test dataset has an additional column for Unspecified Culex Species and the distriution of the records in test set is evenly spead across the different species. Fot the train set, the records are skewed towards the CULEX PIPENS/RESTUANS species. For future datasets it will be ideal to get a train and test datasets that are evenly distributed."
   ]
  },
  {
   "cell_type": "code",
   "execution_count": 22,
   "metadata": {},
   "outputs": [
    {
     "data": {
      "image/png": "iVBORw0KGgoAAAANSUhEUgAAAYgAAAF/CAYAAABT1F6HAAAABHNCSVQICAgIfAhkiAAAAAlwSFlzAAALEgAACxIB0t1+/AAAADh0RVh0U29mdHdhcmUAbWF0cGxvdGxpYiB2ZXJzaW9uMy4xLjMsIGh0dHA6Ly9tYXRwbG90bGliLm9yZy+AADFEAAAgAElEQVR4nOzdd3xcd5Xw/8+ZptGoy5Kr3GucxGlOb3YKxJAQyLKQsJRlgWwgQOiE3f2x7G+fzQNLSaGFAMuSZZcAgV0CmwJJpDhxCrETx3FiSbblbtkayeq9nOePGQVZGkkzkqbde96vl16ZmXuvfI79jY7u/TZRVYwxxpjRPOkOwBhjTGayAmGMMSYmKxDGGGNisgJhjDEmJisQxhhjYrICYYwxJiZfugOYSWVlZbpkyZJ0h2GMMVlj27ZtjapaHuuYowrEkiVL2Lp1a7rDMMaYrCEiB8Y7Zo+YjDHGxGQFwhhjTExWIIwxxsSU1AIhIteISI2I7BGR22McXyMiz4lIr4h8LpFrjTHGJFfSCoSIeIHvApuAtcBNIrJ21GkngE8C35jCtcYYY5IomXcQ5wF7VLVOVfuAB4DrR56gqg2q+iLQn+i1xhhjkiuZBWIBcGjE+8PRz5J9rTHGmBmQzAIhMT6Ld/OJuK8VkZtFZKuIbA2Hw3EH51SDQ8rgkO3xYYyZvmQWiMPAwhHvK4CjM32tqt6nqutVdX15eczJgK7S1NlLdX0bthGUMWa6klkgXgRWishSEQkANwIPpeBad1PY39TJ8daedEdijMlySVtqQ1UHROTjwGOAF/g3VX1NRG6JHr9XROYCW4FCYEhEPgWsVdW2WNcmK1anCfq91BxvpygUIDfgTXc4xpgsldS1mFT1YeDhUZ/dO+L1MSKPj+K61sTH6xF8Hg+1x9s5fUERHk+sLh1jjJmYzaR2qMJcP02dvRxt7U53KMaYLGUFwsFKQznsaeigs3cg3aEYY7KQFQgH83qEHJ+X6mNtDNnQV2NMgqxAOFx+jo/2ngEON3elOxRjTJaxAuECxbkB9oY7ae8ZvaKJMcaMzwqEC3g9QijgZVd9m82yNsbEzQqES4QCPrr6BjnQ1JnuUIwxWcIKhIuUhALsb+qitcseNRljJmcFwkU8IhTk+NhV30r/4FC6wzHGZDgrEC4T9HvpGRhiX2NHukMxxmQ4KxAuVBoKcKi5mxOdfekOxRiTwaxAuJCIUBT0s6u+jb4Be9RkjInNCoRL5fi8DA0pe8P2qMkYE5sVCBcryvVzrLWbcLvtHWGMGcsKhIuJCEW5AaqPtdPTP5jucIwxGcYKhMv5vR48IuxpaLdtSo0xJ7EC4SCt3f3c8fAumjp6E7quMOgn3N5n25QaY05iBcJBHnm1nv/ZfpTvVe1NeCJcUa6fmuPtdPfZoyZjTIQVCAepqgkT9HvYG+7kp8/uT+hav9eD3xvZptT2jjDGgBUIx+gbGOKZPY1sOnUuV50ym9++cpTn9jYm9D0KgrZNqTHmz3zpDsDMjK0HTtDRO8BFK8ooDvk50NTF3U/sZmlZPnOLgnF/n+FtSktCAfJyrHkY42Z2B+EQT9WE8XuF9YtL8Hs9fPGaNSDw1Ud3JTRb2rYpNcYMswLhEJU1DZy3tPSN3/rnFAb59FWr2Bvu5Mdb9iX0vWybUmMMWIFwhCMt3dQe72Dj6tknfX7+0lm846wFPPxqPU/vDif0PW2bUmOMFQgHqKppAGDD6vIxx95/wWJOmVvAt5/cw5Hm+DufbZtSY4wVCAeorA5TUZLL8vL8Mcd8Xg9fuGYNPq/w1Ud30TsQ/zwH26bUGHezApHlegcGeXZvIxtWlyMiMc8py8/hs1evZn9TFz/YXJfQ97dtSo1xLysQWe7Ffc109Q2O6X8Y7ZzFJbxr/UL++Ppxnqw+Hvf3H96m9HXbptQY17ECkeUqaxoI+DxcuHzWpOe+57xFnL6giO9V7U3osVHQ76XPtik1xnWsQGS5qpoGzl9aSigw+aQ2r0f43JtWkxvw8rVHqxNad6kkFOCwbVNqjKtYgchiB5u62BvunPTx0kileQE+/6bVHGnp5ntVe+Je4ltEKLRtSo1xlaQWCBG5RkRqRGSPiNwe47iIyD3R4ztE5OwRxz4tIq+JyE4R+bmIxL9ehEtU1UaGt25cE3+BAFhXUcxN5y2iqjbMH16Pvz/Ctik1xl2SViBExAt8F9gErAVuEpG1o07bBKyMft0MfD967QLgk8B6VT0N8AI3JivWbFVVE2bxrBBLy/ISvvZd6xdy1sJifrB5L3UJ/MC3bUqNcY9k3kGcB+xR1TpV7QMeAK4fdc71wP0a8TxQLCLzosd8QK6I+IAQcDSJsWadnv7I8NZEHi+N5BHhs29aTWHQz1cfraarbyCu62ybUmPcI5kFYgFwaMT7w9HPJj1HVY8A3wAOAvVAq6r+IYmxZp3n65ro6R/i8hizp+NVlOvn829ezfG2Hu55Mv7+CNum1Bh3SGaBiDVra/RPk5jniEgJkbuLpcB8IE9E3hvzDxG5WUS2isjWcDix9YayWVVNmByfhwuXTT68dSKnzi/iAxcuYcueRv731fq4r7NtSo1xvmQWiMPAwhHvKxj7mGi8c64C9qlqWFX7gd8AF8X6Q1T1PlVdr6rry8un/tt0tqmqaeCi5bMI+r3T/l5vP2sB5y4p4cfP7KP2eHvc19k2pcY4WzILxIvAShFZKiIBIp3MD4065yHg/dHRTBcQeZRUT+TR0gUiEpLI+hFXAruSGGtW2dfYyf6mLjZMsf9hNI8In75qFSV5Ab72aDUdPfH1RwxvU1pj25Qa40hJKxCqOgB8HHiMyA/3X6rqayJyi4jcEj3tYaAO2AP8EPhY9NoXgAeBl4BXo3Hel6xYs83w6q1T7aCOpSDo54tvXsOJzj7ueqI27r6FgqCf5i7bptQYJ0rqnpKq+jCRIjDys3tHvFbg1nGu/UfgH5MZX7aqrAmzrDyPRbNCY46JCENT7DhePbeAD168lB8+Xcf/bD/CO86qiOu6ktwcdh+3bUqNcRqbSZ1luvsGeb6uiQ2rYt89lOYFKC/IoaVraktiXLduHhctn8W/P7uf1+vb4rrG6xGCftum1BinsQKRZZ6ra6RvYIiNa2J3yHs9wpq5heQGvFPaDU5E+OQVK5lTGORfH62mtTu+72HblBrjPFYgskxldZhcv5fzlpaOe47f6+G0BUUgxD0BbqS8HB9fePMa2nr6+dYfa+J+ZDW8TWmbbVNqjCNYgcgiqkplTQMXr5hFjm/i4a1Bv5d1FcX09A8mtIvcsBWz8/nIpct46WALD247HNc1w9uUVte3MWB7RxiT9axAZJG94U4ON3fHPbw1P8fHGQuLaevpn9IP7GtOncvlq8r5zxcO8OrhlriuGd6m9OAJe9RkTLazApFFhoe3bkhgeY3iUIBT5xVxoquPwQQ7kEWEWzesYH5xLl//Qw3Nce4FYduUGuMMViCySFVNmJWz86koGTu8dSJzioKsKM/nRGdfwmsn5Qa83H7NGjr7BvnGH2riKjK2TakxzmAFIkt09g7wwr6mhPd+GLZoVogFJUGaprAj3OJZeXz08uXsONLKz188GNc1tk2pMdnPCkSW2LKnkf5BZcOqqa03JSKsmF1AWUGA5inMkbjqlDlcdcpsfvniIV462BzXNbZNqTHZzQpElqiqDZMX8LJ+yfjDWyczPEciNMU5En972XIWlYb45h9qaOronfR826bUmOxmBSILqCpV1Q1csrKMgG96/2TTmSMR9Hu5fdMa+geVf32sJq6RUbZNqTHZywpEFtjd0MHR1p4ZW711eI5E70DicyQqSkLcunEFr9e38bMXDsR1jW1Takx2sgKRBSqrEx/eOpn8HB/rKopp7xlIeI7E5avK2XTaXH790hH+tO/EpOfbNqXGZCcrEFmgsqaBNXMLmFeUO6PftzgUYO28Qk50Jz5H4sOXLGNZeR53Pl5LQ9vkdwbD25Tutm1KjckaViAyXHtPP1v3N8/Y46XR5hQFWVmeT3NXYnMkAj4Pt1+zhiFVvvZYdVzzHQqDfhptm1JjsoYViAy3ZU8jA0PKxhl8vDTawtKpzZGYV5TLbVeupPZ4B//+7P64rrFtSo3JHlYgMlxldZiCHB9nLy5J2p8hIqwon9ociYuWl/G2M+bz0CtH2bKncdLzbZtSY7KHFYgMpqpU1TZw6aoy/N7k/lN5RsyRaItzD4hhf33RElbNyeeeJ3dTH8fWo7ZNqTHZwQpEBttV387xtt6k9T+MNjxHQjyJzZHwez188c1r8Ijw1Uer45oUN7xNaWdv4vtVGGNSwwpEBqscXr11istrTEXQ7+WMKcyRmF0Y5NNXraIu3MmPnqmb9PyR25QmOoLKGJMaViAy2FM1YU6dX8jswmBK/9y8EXMkElmN9bylpfzF2RU8svPYG0uTT+SNbUpt7whjMpIViAzV2t3PtoPNbEzR46XRikMBTp1fSHOCcyTed8Fi1s4r5LtVezgUx/7UxbkB6hptm1JjMpEViAz1zO5GBod0RmdPJ2p2YeJzJLwe4QtvXk3A6+Frj1RPOnPatik1JnNZgchQlTUNFOX6OXNhcVrjmMociVn5OXz2Tas5eKKLH2zeO+n5tk2pMZnJCkQGGhpSqmrCXLqyDF+Sh7dOZqpzJM5eVMK7z13I47saePz145Oeb9uUGpN5rEBkoNfr22js6E1b/8Now3Mk8nIS20fixnMXsa6iiO9v3sv+xs6J/wzbptSYjGMFIgMNr956eRr7H0bzez2cOr8ISWAfCa9H+NzVq8kLePnqo9WTXmfblBqTWeIqECLyH/F8ZmZGZU0D6yqKKMvPSXcoJ5nKPhIleQE+/6bV1Ld2893KvZN2dts2pcZkjnjvIE4d+UZEvMA5Mx+Oae7sY/uhlpTNnk5UXo6PMypKEpojcXpFMX91/mI27w7z6GvHJjx3eJvS1+tbbZtSY9JswgIhIl8SkXZgnYi0Rb/agQbgtymJ0GU27w4zpCR19dbpKgr5E54j8c5zKjh7UQn3ba5jT8PEj5ByfF50CNum1Jg0m7BAqOr/VdUC4OuqWhj9KlDVWar6pRTF6CpVNWFKQn7WVaR3eOtkZhcGWTW7gBNdvXHNkfCI8JmrV1Ec8vO1R6snXYPJtik1Jv3iesSkql8SkQUicpGIXDb8Ndl1InKNiNSIyB4RuT3GcRGRe6LHd4jI2SOOFYvIgyJSLSK7ROTCxFLLPkNDylO1YS5fVY7XI+kOZ1IVJbksKglxIs7hr0W5fr7w5jWEO3q5+4ndExaWyKOmADXH2+1RkzFpEm8n9VeBLcA/AJ+Pfn1ukmu8wHeBTcBa4CYRWTvqtE3AyujXzcD3Rxy7G3hUVdcAZwC74ok1m+040sqJzj42rsnM/ofRRIRl5fmU5+dworM3rmtOmVfIBy5czHN1Tfxux9EJzw34PAwNQZ2NajImLXxxnvcOYLWqxvdTIOI8YI+q1gGIyAPA9cDrI865HrhfI79KPh+9a5gHdAKXAX8NoKp9gOOHtVTVNCACl67M3P6H0TweYfXcAnoOD9LW009h0D/pNW8/cwGvHW3jJ1v2s3pOIavnFox7bnGunyMt3cwtDFIcCsxk6MaYScQ7iqkOmPz//JMtAA6NeH84+lk85ywDwsBPRORlEfmRiOTF+kNE5GYR2SoiW8PhcIIhZpbKmjBnLiymNC+7fhD6onMkvHHOkRARPnXlKkrzAnztseoJJ9+JCIU5fnbZWk3GpFy8BaIL2C4iP4j2GdwjIvdMck2sh+ijHzqPd44POBv4vqqeReSOYkwfBoCq3qeq61V1fXl59vzmPVpTRy87DrewYVV2PF4aLej3cnpFMX0DQ5Mu0AeQH/TxxWvW0NzZx52P1zI0QX/E8AQ6W6vJmNSKt0A8BPwz8CywbcTXRA4DC0e8rwBGP3Qe75zDwGFVfSH6+YNECoZjbd4dRhU2rsneIje8j0RHb3xzJFbNKeBDlyzlxf3N/PfLRyY8tzgUYL8tC25MSsU7iumnwC+B51X1p8Nfk1z2IrBSRJaKSAC4kUihGekh4P3R0UwXAK2qWq+qx4BDIrI6et6VnNx34TiV1WHK8gOcNr8o3aFMy/AciZY450i89fR5XLyijPuf289rR1vHPc8jQl6Oj9r6dtuBzpgUiXcU03XAduDR6PszRWT0D/uTqOoA8HHgMSIjkH6pqq+JyC0ickv0tIeJ9G/sAX4IfGzEt/gE8J8isgM4E7gj7qyyzOCQsnl3mMtWlePJguGtk5ldGGRlnHMkRIRPXrGCOYVB/vWxGlq7x79DCAV8tPcOcCSOjYiMMdMX7yOmrxAZldQCoKrbgaWTXaSqD6vqKlVdrqr/Ev3sXlW9N/paVfXW6PHTVXXriGu3R/sW1qnq21W1OcHcssb2Qy20dPVnzOqtM2F4jkQ8+0iEAj6+tGkN7T39fPMPNRPeIZSEAuwNd0460c4YM33xFogBVR19/2/3+TOkqqYBj8BlWTS8dTLDcyRmF8Q3R2JpWT5/e9lyXj7Uwq+2HRr3PK9HCPq91B5vZ8geNRmTVPEWiJ0i8h7AKyIrReTbRDqszQyorGng7EUlFIUSHUmc2YbnSOQHfXF1Lr9p7Rw2rC7nv144yCuHWsY9Lz/HR3NXH8dabRkOY5Ip3gLxCSIruvYCPwfagE8lKyg3aWjvYeeRtqyZPZ0on9fDaQuK8Hpk0sdCIsLHLl9BRUku3/hDzYRLfpfkBtjd0B7XkFpjzNTEO4qpS1X/XlXPBc4Hvqaq9uvbDHiqJjK5b0MGr946XTk+L+sqiugfnHyORG7Ay+2bTqG7f5BvTNAf4fN68Ho87G5oj2uxQGNM4uIdxfRfIlIYnc38GlAjIp9PbmjuUFUbZnZBDmvnFaY7lKQKBeKfI7GoNMQtly/n1SOt/Hb7+PMjinL9NLb3Em5PZAUYY0y84n3EtFZV24C3Exmaugh4X9KicomBwSE214bZsLockewf3jqZopCf0xYU0tw1+RyJK9fM5sJls/iP5w9woGn8/ayLciMrvsa7w50xJn7xFgi/iPiJFIjfqmo/Nopp2l462EJ7z0DG7h6XDOUFQVbNKaB5kjkSIsKtG1eQn+PjW3+sHfeuw++NNOG68PhFxBgzNfEWiB8A+4E8YLOILCbSUW2moaqmAa9HuGRlWbpDSamKklwWxjFHoijXz60bV1DX2MkDL44/9LUo6Odoi+1jbcxMi7eT+h5VXaCqb4lObjsAbExybI5XWRNm/eKSuJbIdpKRcySaJpkjccGyWVx1ymwe3HaI6mOxfycREYpy/VQfa4t7n2xjzOTi7aSeIyI/FpFHou/XAh9IamQOd6y1h131ba56vDTS8ByJwjjmSHzk0mWU5edw5x9rxx0FlePz0j8wxIFGe9RkzEyJ9xHTvxNZU2l+9H0tNg9iWp6qbQCye/XW6fJ5PZwaxxyJUMDHbVeu5GhrDz99dv+45xWHAhxs7qa1y1Z8NWYmxFsgylT1l8AQvLEQnw0bmYbK6jDzioKsnjP+bmpu8MYciaGJ50isqyjmbWfM5/ev1vPywdjLcnlEyA/4qD7WZiu+GjMD4i0QnSIyi+jIpeGluZMWlcP1DQzxzJ5G1wxvnUy8cyTef+FiKkpyufuJ3XSMc8eRG/DS3T/IYdtcyJhpi7dAfIbI3g3LRWQLcD+R5TfMFGw70ExHr7uGt06mKHfyORI5Pi+fuWoVzV193Ld577jfqzg3QF1j57hFxBgTn0kLhIh4gCBwOXAR8LfAqaq6I8mxOVZVTQN+r3DxCncNb51MeUGQ1XMLONE5/hyJlXMKePf6hVTWhNmypzHmOV6PkOv3Un2szVZ8NWYaJi0QqjoEfFNVB1T1NVXdGZ0oZ6aoqibMuUtKyc/xpTuUjFNREmLRrLwJ50i8a/1CVpTn892qPTSPc15ejo/27gGOtnYnK1RjHC/eR0x/EJG/EHtgPm1HWrqpOd7uqM2BZtqysjzmFOZwoiv2HAmf18Nnrl5FT/8g36ncM+7dxvDmQl199qjJmKlIpA/iV0CviLSJSLuI2EzqKaiqiQxvdfLqrdPl8Qir5hSQn+OjfZw5EgtLQ3zgwiX8af8JntjVEPMcr0fwe4TdxztsxVdjpiDemdQFqupR1YCqFkbfO3v50SSpqgmzoDiXFbPz0x1KRvN5PaydV8TA0NC4I5uuO2M+py8o4r6n6zjeFnv1+YKgn6bOPo7b5kLGJGzCAiEis0XkLhH5vYjcISJWFKahd2CQLXsa2bjGhrfGIzfgZc3cQlq6+2LeAXhEuO3KlQDc9XgtQ+PcJRTn+tnd0GGbCxmToMnuIO4HOoFvAwXAPUmPyMFe3NdMV98gG1ZZ/0O8ZhcGmV+cS3NX7M7oOYVBbr50GTuPtvHQK0djnuP3evB4hLpwRzJDNcZxJisQc6M7yT2mqp8A1qUiKKeqqmkg4PVw0YpZ6Q4lqywvzyfH56G7L/YdwJWnzOb8paXc/9x+Do4zQa4w6Od4Ww+N7faoyZh4TVYgRERKRKRUREoB76j3JgGVNQ2cv6yUUMCGtybC7/VwyvwiOvr6Y06iG947Itfv5c4/1jIwTp9FYTBA9fF2+gZsxVdj4jFZgSgCto34KgReir7emtzQnOXQiS72hjtt9vQUFeX6WVGeP+6jppJQgI9tWMGecAe/3Bp774iAz8PQEOxvskdNxsRjwl9lVXVJiuJwvOHhrRtteOuUVUQ3GWrv6acgxh4aF68oY+Pqcn6x9RDrl5SyKsZCiMW5fg43dzO7IEhxKJCKsI3JWvHuB/FbEblJRPKSHZBTVdaEWVQaYmmZ/RVOlccjrJlbOOHQ15svW05pXoA7H6+NuU+1iFCQ46f6WPu4j6KMMRHxTpT7FnAp8LqI/EpE3ikiwSTG5Sg9/YM8u7eRjbZ667QND31tHWfoa36Oj9uuXMXh5m7uf+5AzO8R9Hvp7R8ct0PbGBMR70S5p1T1Y8Ay4D7gXUDs6atmjBf2naCnf4gNa6z/YSbMLgwyrziXlu7Ys6zPXFjMtafP46FXjrLjcEvMc4pDAQ40dU66m50xbhbvHQQikgv8BXALcC7w02QF5TSV1Q3k+DxcuMyGt86U5eX5BLwy7tDXD1y0hAXFudz1xO6Yu9V5RAgFfNTWt9vmQsaMI94+iF8Au4ArgO8Cy6PzIkwcnqoNc+HyWQT93nSH4hjDQ187xxn6GvR7+fRVq2jq6OWHT9fF/B6hgI/23gGONNujJmNiifcO4idEisItqvpkdAnwSYnINSJSIyJ7ROT2GMdFRO6JHt8hImePOu4VkZdF5Pdxxplx9jV2sq+x01ZvTYKiXD/LysYf+rp6bgHvPGchT1Q38HxdU8xzhld8nWhPbGPcKt4+iEeB80XkPSLy/uGvia4RES+Ru41NwFrgJhFZO+q0TcDK6NfNwPdHHb+NyJ1L1rLVW5NrYWmI4pB/3FVfbzx3IcvK8vhO5R5aYhQSr0cI+rzUHm+3zYWMGSXeR0z/AXwDuIRI/8O5wPpJLjsP2KOqdaraBzwAXD/qnOuB+zXieaBYROZF/8wK4K3Aj+JNJhNV1YRZVpbH4lk2vDUZJhv66o/uHdHZO8D3qvbGHvkU9NHc1TfuirDGuFW8az6sB9ZqYovqLwBGTmk9DJwfxzkLgHrgLuALRBYJzErdfYM8V9fEe89fnO5QHG146OtrR1uZlZczZijx4ll5vO+Cxfzk2f1U1jRwxZo5Y75HSW6A2uPtlOQFrK/ImKh4+yB2AnMT/N6xBvyPLjAxzxGRa4EGVd026R8icrOIbBWRreFwOMEQk+u5ukb6Bobs8VIKzC4MMrdo/KGv15+5gFPnF/KDzXWE28fuVOfzevB6POxuaLfNhYyJirdAlBGZJPeYiDw0/DXJNYeBhSPeVwCj12Me75yLgbeJyH4ij6auEJGfxfpDVPU+VV2vquvLyzPrB3FVTZhcv5fzltq6hqmwYnY+fq/E3PfB6xE+deUqhlS5+4nYe0cU5fppbO+NWUCMcaPJNgz6lIicC/wL8HbgDuCbI74m8iKwUkSWikgAuBEYXVQeAt4fHc10AdCqqvWq+iVVrYiuBXUj8KSqvjfR5NJJVXmyuoGLbHhryvi9HtbOL6KjN/bQ17lFQT58yTJeOdzK/+6oj/k9iqKPmmIt02GM20x2B1EB3E1kP+p/At4M5AOvqupTE12oqgPAx4HHiIxE+qWqviYit4jILdHTHgbqgD3AD4GPTTWRTLM33Mnh5m6bPZ1iw0NfW7pjD31909o5rF9cwr8/u5/DMeY/+L0eFKgLdyY5UmMy34QFQlU/p6oXAXOAvwNOAH8D7BSR1yf75qr6sKquUtXlqvov0c/uVdV7o69VVW+NHj9dVccsIa6qVap67RRyS6s3hreuyqzHXm6wsDREUW7soa8iwieuWEmOz8Odj9fGvNMoCvo52tLNic7YRcYYt4i3DyKXyF4QRdGvo8ALyQrKCapqwqyYnc/C0lC6Q3GdyYa+luYF+OiG5dQe7+DBbWP3jhARinL9VB9rG3fVWGPcYLI+iPtEZAvwC+BC4FngL6Odwh9MRYDZqLN3gD/tO2F7P6TR8NDXlq7Yq75eurKcy1aW8/MXD7GnYewGQjk+L30DQxxotEdNxr0mu4NYBOQAx4AjREYdxV4e07zh2b1N9A0O2fIaaTbZqq+3XL6Molw/33q8NuY2pCWhAAebu2kd53pjnG6yPohriMya/kb0o88CL4rIH0Tkn5IdXLaqrGkgL+Bl/RIb3ppuEw19LQj6ue2KlRw60cV/PD927wiPCPkBH9X1bbbiq3GlSfsgoh3JO4mMOHoE2AIsJ7JOkhlFVXmqJszFK8oI+OJeTd0kyfDQ1/ae2ENfz15cwqbT5vLb7UfYeaR1zPHcgJfu/kEO2+ZCxoUm64P4pIg8ICKHgM3AtUANcANgvx7HsLuhgyMt3Wywx0sZoyjXz/Ly8Ye+fvCipcwtCnLn47V09Y1d1bU4N0BdYycdtuKrcZnJfsVdAjwInKeqy1T1far6PVV9Jd4lv92mstpWb81EEw19zQ14+dRVq2js6OXHz+wbc9zrEXL9XmqOtdmKrwrzfTcAACAASURBVMZVJuuD+IyqPqiqsaedmjGqasKsmVvA/OLcdIdiRhge+to/GHvo69p5hdxwVgV/eP04L+4/MeZ4Xo6Ptu4BjrZ2pyJcYzKCPSSfQe09/by4/wSX291DRsoNeDll3vhDX99z/iKWzApxz5O7Y45cKgkF2NPQEfMxlDFOZAViBm3Z08jAkNrw1gw20dDX4b0jOnoG+H7VnjFFxOsRAl4Pu4932IqvxhWsQMygqpowBTk+zllcku5QzASWl48/9HVpWT7vOX8RW/Y28VTt2OXjC4J+mjr7ON5qmwsZ57MCMUNUlaqaMJesLMPvtb/WTBbweVg7b/yhrzecVcEpcwu4d/NemjrGLv1dnOtnd0NHzAJjjJPYT7IZUn2snWNtPfZ4KUsUhcYf+ur1CJ+6ahUDg8rdT+we8zjJ7/UgAnXhsUt0GOMkViBmSGV09VbroM4eC0tDFAZ9dPSM7XSeX5zL31y8lJcPtfDIzmNjjhflBjje1kNjuz1qMs5lBWKGVFWHWTuvkDmFwXSHYuLk8QinzCuib3Aw5tDXTafN5exFxfzbln0cbRk7vLUwGKD6eHvMdZyMcQIrEDOgtbufbQeb2bjG7h6yzURDX0WET16xEp9XYu4dEfB5GBqC/U32qMk4kxWIGfDM7kYGh9SW18hS5QU5zCvOjTn3YVZ+Dh+9fAXVx9r5zUuHxxwvzvVzuLmbli7bXMg4jxWIGVBZ00Bh0MdZC4vTHYqZAhFheXk+3nGGvl62soyLV5TxX386yL7GjjHXFuT4qT7WzoBtLmQcxgrENA0NKU/VhrlsVTk+G96atQI+D6eOM/RVRPjo5cspCPr41h9rx/RXBP1eevsHOWgrvhqHsZ9o0/R6fRvh9l57vOQAEw19Lcr184krVrK/qYv/fOHgmOPFoQAHmjppi7EYoDHZygrENA2v3nr5KuugdoKFpSEKxhn6eu6SUt68dg6/eekwr9e3nXTMI0Io4KO2vt02FzKOYQVimqpqw6yrKKK8ICfdoZgZEBn6Wjju0Ne/uWQpswtzuOvxWrr7Tu6vCAV8dPQNcKTZHjUZZ7ACMQ0tXX28fLCZDXb34CihgI9T5hXS2j126Gso4ONTV67iWGsPP3l27N4RxbkB9oY76bTNhYwDWIGYhs27GxlS2LDG+h+cprwgh7lFsYe+nragiLeftYBHdh5j64GT947weoSgz0vt8XbbXMhkPSsQ01BV3UBJyM8ZFTa81WkmG/r63vMXs6g0xLef2DNml7r8oI+Wrn6Ot9kyHCa7WYGYopHDW70eSXc4JglGDn0d0rGzqD9z9Spae/q596m6MdcW5/qpPd5uK76arGYFYopePdJKU2efrd7qcEUhP8vK8zjROXbo6/LyfG46dyGbd4d5evfJe0f4vB68Hg97GtptcyGTtaxATFFlTQMicJl1UDveotI8CnNjD3195zkLWTUnn+9Xjd07oijXT7i9l3D72D0ljMkGViCmqLImzBkVxZTmBdIdikmyiYa+ej3Cp69aRe/gEN+uHLtNaVFugNrj7fQO2KMmk32sQExBU0cvOw632OMlFwkFfKyZG3voa0VJiL++cAnbDjTz2GvHTzrm93pQoC7caY+aTNaxAjEFm3eHUYUNtjmQq8wuHH/o61vXzeOMiiJ+vKWOY6P2qy4K+qlv7aHmuM2yNtklqQVCRK4RkRoR2SMit8c4LiJyT/T4DhE5O/r5QhGpFJFdIvKaiNyWzDgTVVkdZlZegNMXFKU7FJNCEw199Yhw25Wr8MrYvSNEhLK8AMdae3i9vjXmDG1jMlHSCoSIeIHvApuAtcBNIrJ21GmbgJXRr5uB70c/HwA+q6qnABcAt8a4Ni0Gh5TNu8Ncvrocjw1vdZ2Jhr6WF+Rw82XLeb2+jd9uP3LSMRFhVl4OzZ39vHKoxYa/mqyQzDuI84A9qlqnqn3AA8D1o865HrhfI54HikVknqrWq+pLAKraDuwCFiQx1rhtP9RCS1e/rd7qYkUhP0vHGfq6cXU5Fy6bxX88f4D9jZ1jjpeEAvT2D/HywWZbjsNkvGQWiAXAoRHvDzP2h/yk54jIEuAs4IUZj3AKqmoa8EhkExnjXuMNfRURbt24gvwcH3c+PnbvCIDCXD8eEV460Exrly0PbjJXMgtErOcvo3voJjxHRPKBXwOfUtW2GOciIjeLyFYR2RoOh2OdMqOqasKctaiE4pANb3Uz7wRDX4ty/dy6cQV1jZ088OKhmNeHAj6Cfi8vHWwm3G5LcpjMlMwCcRhYOOJ9BXA03nNExE+kOPynqv5mvD9EVe9T1fWqur68PLmjihrae3j1SCsbbfSSIfJDfvWcgphDXy9YNourTpnNg9sOUX0s5u82BP1einL97DjcymFbItxkoGQWiBeBlSKyVEQCwI3AQ6POeQh4f3Q00wVAq6rWi4gAPwZ2qeq3khhjQjbXNgJY/4N5w5yiIHMKgzGHvn7k0mWU5edw5x9rx+2U9ns9zMrLofZYO3vDHTZXwmSUpBUIVR0APg48RqST+Zeq+pqI3CIit0RPexioA/YAPwQ+Fv38YuB9wBUisj369ZZkxRqvypoGygtyOHV+YbpDMRlCRFgxuyDm0NdQwMdtV67kaGsPdz2xe8wGQ8O8HmFWfg4HT3RSfczmSpjM4UvmN1fVh4kUgZGf3TvitQK3xrjuGWL3T6TNwOAQT9eGefOpc4nc4BgTMTz0dduBEwR8Hjwj2se6imI+cOES7n9uP3XhDj5z9SrWzB37C4ZHhLK8IMfbeugbGOKUeYUEfDaP1aSXtcA4vXyohbaeATba5kAmhomGvr7znArueMfpDA4pX/z1Dn72wgEGxpksNysvh7aefnbYXAmTAaxAxKmyugGvR7h4hQ1vNbFNtOrraQuKuOfGs9iwaja/ePEQX/j1Do40d8f8PsW5AfoHlW0HmumwuRImjaxAxKmyJsw5i0soyvWnOxSToYaHvvbGGPoKkJfj49NXr+L2a9ZwrLWHT/7iZR7ZWR+zYzo/6MPnEbbtP0FL19i7EmNSwQpEHI619rCrvs1WbzWTCgV8rIkOfR3PxSvK+PZNZ3HqvEK+V7WX///3r9Mc49FUKOAjL8fHywdbON5qcyVM6lmBiMNTtQ2Ard5q4jM89HWi3/xn5efwlbedys2XLmPH4VY+/vOXeL6uacx5OT4vxbl+dta3crDJlgw3qWUFIg6V1WHmFgZZM7cg3aGYLDDR0NeRPCJcd8Z87nz3mZQV5PAvD+/inid309V3cr+Dz+thViiHPeEO9jZ0MGTDYE2KWIGYRP/gEM/saWTD6nIb3mriFvB5WDuvkPbegTGrvo62qDTEN955Bn95TgVP7DrObQ9sp7r+5NnXXo9QlpfDoeZudtW3jTsKypiZZAViElv3R0aS2Oxpk6jiUIClZaGYQ19H83s9vP/CJdzxjtMZUuWLv9nBz54/eTisiFCWn0NjZ2RHQ9vG1CSbFYhJVNU24PcKF6+Yle5QTBZ6Y+hrnMNVT51fxLdvOouNq2fzi62H+Pyvd4xZp6k0lEN3/xDbD7aMOzvbmJlgBWISVdVh1i8upSBow1tN4oaHvg4ODdHS1Tfp4yaIjF761FWr+NKmNRxv6+G2X2znf189eThsYdDPkMK2Aydo67Elw01yWIGYwNGWbmqOt7NxjY1eMlMXCvhYv6SU+cW5NHf1xV0oLlpexnduOpvT5hdx71N7+crvXj/pcVV+jo8cn5eXDjTT1NGbzBSMS1mBmEBVTWR/CZv/YKYr6PeyfHY+FyyblVChKM0L8JXr1nLLZcvYeSQyHPa5vY0nfd+CHD+vHGqhviX2zGxjpsoKxAQqaxpYUJzLitn56Q7FOMR4hWKiFVxFhLeum89dN57JnIIgdzxSzd1P1L4xHDbg81ASCvB6fRsHGm2uhJk5ViDG0TswyBYb3mqSZHShaOmevFAsLAnxr+9cx7vWL+TJ6gY++cDLvB4dDuvzeijLz2FvYye1x9ttroSZEVYgxrF1fzNdfYP2eMkkVaKFwu/18L4LFvN/b1iHIHzpNzu4/7n99A8ORZcMD3C0pYfX6ltjrgdlTCKsQIyjsrqBgNfDRTa81aRAooVi7bxC7r7xTK5cM4dfbTvM5x98hUMnut6YK9Hc2c+Ow7ZkuJkeKxDjqKxp4PxlpYQCSd1TyZiTJFIoQgEfn7xyJX/3llMIt/fyqV9s5/c7jqKqlIQC9PYPsf1gM522ZLiZIisQMRw60cXecCeXr7LhrSY9EikUFy6bxXduOpvTK4r4weY6vvK712jq6KUg6EdEeOlAc8w9s42ZjBWIGKpqIqu32u5xJt3iLRQleQH+8dq1fPTy5ew82sYnfv4yW/Y0Egr4CPojcyUa223JcJMYKxAxVNWEWVQaYllZXrpDMQaIr1CICG85fR53v/tM5hQF+eqj1dz5eC1DqhTl+tlxpG3cXeyMicUKxCg9/YNs2WvDW01miqdQVJSE+PpfrOPd5y6kqqaBT/z8ZWqPt1MaClBzrI26cIfNlTBxsQIxygv7TtDTP2TDW01Gm6xQ+Lwe3nv+Yr52wzq8HuFLv3mVnz1/gMJcP/ubOqk+1j7hnAtjwArEGFU1DeT4PFywzIa3msw3slAsKIkUiuYRhWLNvELufvdZXL12Dg++dJgv/HoHXb2DHG/rYeeRVvoGbK6EGZ8ViFGqasJcsGwWuQFvukMxJm5Bv5dl5ZFCUTGqUOQGvHziipX8w1tPoamjj8/88hW27GmipbuPHYdsroQZnxWIEfY3drKvsZONtve0yVITFYrzl87i2zedxbqKIn74dB13/nE3x9p6eOlgc9z7VRh3sQIxwvDwVts9zmS7kYViYWkurdFCURj08+Vr1/KxDcvZVd/G7b95lT/tO8FLB07Q0jX5znfGXaxAjFBZE2ZpWR5LbHircYig38vSsnzOH1EoWrr7edPaudz97rOYXxzkrsd386Nn9rFlTyMNbTZXwvyZFYio7r5BnqtrYoM9XjIOFKtQhHK83PH207np3IU8s7uRr/zudR586TCHTnTZMFgDWIF4w/N1TfQNDNnjJeNoowtFZ98Am06fx1dvWIfPI3z90RrueHgXu+ptyXADthJdVGVNA0G/h/OXlqY7FGOSbrhQzC/O5WhLN6rKP73tVB7cdphHdh5j55FW/u4ta7h67Vx8Xvs90q3sXx5QVapqwly8vIyg34a3GvfI8UUKxQXLZ7FyTj5/df4iPn3VStp6BvjkA9u54+Fd9PTZMFi3SmqBEJFrRKRGRPaIyO0xjouI3BM9vkNEzo732plU19jJwRNd1v9gXGtkoXjbmfP5P9efymnzi/i3Lfv5yx88y75wZ7pDNGmQtAIhIl7gu8AmYC1wk4isHXXaJmBl9Otm4PsJXDtjKqtteKsx8OdC8abT5vLNd63jgxctofZ4B2/99tP8auuhdIdnUiyZfRDnAXtUtQ5ARB4ArgdeH3HO9cD9Ghky8byIFIvIPGBJHNfOmKdqw6yYnc/C0lAyvr0xWSfH52VZeQG3v2UNV54ymy//9jU+/+AOnqhu4Lp189Mdnhkl4PNw9do5M/59k1kgFgAjf+U4DJwfxzkL4rwWABG5mcjdB4sWLUo4yO6+QV6oO8H7L1yc8LXGOF2Oz8slK8v53Scu5quPVPOfLxzk0Z3H0h2WGaU45GfbP1yN1zOzK1Ans0DEinT0uLnxzonn2siHqvcB9wGsX78+4XF5uQEvlZ/fwAz/vRrjKHk5fv757afzoUuWsft4e+z/GU3aBHyemD80pyuZBeIwsHDE+wrgaJznBOK4dsYsKM5N1rc2xlGW2EoDrpLMUUwvAitFZKmIBIAbgYdGnfMQ8P7oaKYLgFZVrY/zWmOMMUmUtDsIVR0QkY8DjwFe4N9U9TURuSV6/F7gYeAtwB6gC/jgRNcmK1ZjjDFjiZPWXFm/fr1u3bo13WEYY0zWEJFtqro+1jGbSW2MMSYmKxDGGGNisgJhjDEmJisQxhhjYnJUJ7WIhIEDU7y8DGicwXDSySm5OCUPsFwykVPygOnlslhVY65U6qgCMR0isnW8nvxs45RcnJIHWC6ZyCl5QPJysUdMxhhjYrICYYwxJiYrEH92X7oDmEFOycUpeYDlkomckgckKRfrgzDGGBOT3UEYY4yJyQqEMcaYmKxAGGOMicl1BUJEPiIiK6OvRUR+IiJtIrJDRM5Od3yJEJHrRGTxiPdfFpFXROQhEVmaztgS4ZQ8wNpXJnJKHpCGXFTVVV/ATsAfff0eYBswC7gKeDrd8SWYyw4gFH19LVALnAN8GHgs3fG5LY9o/Na+MuzLKXmkIxfX3UEAA6raH319LXC/qjap6uNAtu2lqKraFX19A/BjVd2mqj8CYk6dz1BOyQOsfWUip+QBKc7FjQViSETmiUgQuBJ4fMSxbNucWkQkX0Q8RHJ5YsSxYJpimgqn5AHWvjKRU/KAFOeStC1HM9iXga1EtjJ9SKNbmYrI5UBdOgObgruA7UAbsEtVtwKIyFlAfToDS5BT8gBrX5nIKXlAinNx5UQ5EfEBBaraPOKzPCJ/Hx3piyxxIrIAmA28oqpD0c/mEXkOfjCtwSXAKXmAta9M5JQ8ILW5uK5AiMhlEx1X1c2pimW6RGTRRMezpeE7JQ+w9pWJnJIHpD4XNxaI38X4WIEzgApV9aY4pCkTkVeJxC4jPlYinVWzsyUXp+QB1r4ykVPygNTn4ro+CFW9buR7EbkE+Hsiz+8+npagpkhVTx/5XkSWAF8kMqTyjjSENCVOyQOsfWUip+QBqc/FdXcQw0TkSuD/I1J971DVP6Y5pCmLTsz6e+B84JvAT0cMtcwaTskDrH1lIqfkAanLxXUFQkTeSuQvthX4P6q6Jc0hTZmInEYkl1OBfwV+rqqD6Y0qcU7JA6x9ZSKn5AGpz8WNBWIIOAy8QuS3u5Oo6ttSHtQUicggcAj4X2BMI1HVT6Y8qClwSh5g7SsTOSUPSH0uruuDADamO4AZ9DfpDmCGOCUPsPaViZySB6Q4F9fdQYxHRBYCN6rq19Mdy3RFZ/Fep6q/Sncs0+GUPMDaVyZySh6QvFzcuNTGG0SkTEQ+KiKbgSpgTppDmjIR8YrIJhG5HzgAvDvdMU2FU/IAa1+ZyCl5QGpycd0jJhEpAN5BZKXNVcB/A8tUtSKtgU1RdGLWe4C3An8CLgaWjljQKys4KA9rXxnIKXlAanNx3SMmEekm8pf6D8AzqqoiUqeqy9IcWsJE5DBwEPg+8D+q2i4i+1Q129a4d0QeYO0rEzklD0h9Lm58xPR3RFY9/D7wJRFZnuZ4puPXwAIit5bXRdf7ycaK75Q8wNpXJnJKHpDiXFx3BzFMRJYBNwE3AiuBfwT+W1Vr0xpYgkREiIycuQl4C1AIfAh4OJsWhnNKHsOsfWUWp+QBqc3FtQViJBE5ncgzvXepatb+xicifmATkR9Kb1LVsjSHNCVOyWOYta/M4pQ8IPm5WIFwKBHJVdXudMcxXU7Jw2mc8u/ilDwgObm4cRRTOyc/s1OgEagEvqiqTWkJbApGrOw4bGQu30hLUFPglDzA2lcmckoekPpc7A4CEJES4K+Bi1T1L9McTtxEZHGMj0uBDwB5qvqRFIc0JU7JYzzWvtLLKXlA6nOxAjGCiLykqmenO46ZICIvq+pZ6Y5jupySB1j7ykROyQOSk4sbh7nGFO3scdIjN6f82zoiD2tfGcspeUAScnFSg42LiNwQ4+MSIuOKH0xxONMiIrF+Gy0B3gtk09aWjsgDrH1lIqfkAanPxXWPmETkJ6M+UqAJqFLV/01DSFMmIpWjPnojF+C+bNkMxSl5gLWvTOSUPCD1ubjuDgLYpqrfSXcQM+Q7qvrrdAcxA5ySB1j7ykROyQNSnIsb7yCc1FHoiFyckgdYLpnIKXlA6nNxUgeNMcaYGeTGO4gBINayuAKoqhamOKQpE5EuYE+sQ0RyWZfikKbEKXmAta9M5JQ8IPW5uLEP4lWnjHsG9gHXpTuIGeCUPMDaVyZySh6Q4lzcWCCcpE9VD6Q7iBnglDycxin/Lk7JA1Kcixv7ILJ+/9kRtqQ7gBnilDzA2lcmckoekOJc3FggwiKyEiLrqovIT0SkTUR2jDMJJZM9NnJtFhH5soi8IiIPiUg27ZbllDzA2lcmckoekOpcVNVVX8BOwB99/R5gGzALuAp4Ot3xJZjLDiAUfX0tUAucA3wYeCzd8bktj2j81r4y7MspeaQjFzfeQQzon2cbXgvcr6pNqvo4kJfGuKZC9c8bld8A/FhVt6nqj4DyNMaVKKfkAda+MpFT8oAU5+LGAjEkIvNEJAhcCTw+4lhummKaKhGRfBHxEMnliRHHgmmKaSqckgdY+8pETskDUpyLG0cxfRnYCniBh1T1NQARuRyoS2dgU3AXsB1oA3ap6lYAETkLqE9nYAlySh5g7SsTOSUPSHEurpsoByAiPqBAVZtHfJZH5O8j2zYwXwDMBl5R1aHoZ/OIPAc/mNbgEuCUPMDaVyZySh6Q2lxc94hJRL6gqgOq2iwib+zupaqdwN+lMbSEich7VfWIqr4MXDj8uarWA29LX2SJcUoeYO0rEzklD0hDLunulU/1F/BSrNex3mf6l1NycUoelktmfjklj3Tk4ro7CCJrlsR6Het9pnNKLk7JAyyXTOSUPCDFubixQOg4r2O9z3ROycUpeYDlkomckgekOBfXdVKLyCDQSaTa5vLnlTcFCKqqP12xJWrEyo4CLOfPqzwKsExVs2LcvVPyAGtfmcgpeUDqc3HdMFdV9aY7hhl0SroDmCFOycPaV2ZySh6Q4lxcVyDGIyLFwK2q+i/pjiVeOs6qjiLiBW4EsmIFS6fkMRFrX+njlDwg9bm4rg9CRBaKyH0i8nsR+bCIhETkm8BuImOLs4aIFIrIl0TkOyLypujicJ8gMiHrXemOL15OyQOsfWUip+QBqc/FjX0QlcBTwHPANUSmq78GfFpVj6UztkSJyG+BZiK5XAmUAAHgNlXdns7YEuGUPMDaVyZySh6Q+lzcWCBeUdUzRrw/DixS1d40hjUlIvKqqp4efe0FGonk0p7eyBLjlDzA2lcmckoekPpcXNkHISIl/HnM8DEgFF0KAVU9kbbAEje8aiiqOigi+7Kx0eOcPABrXxnIKXlAinNx4x3EfsYfL6yquiyF4UzLiCGVcPKwyuENzAvTFVsinJIHWPvKRE7JA1KfixsLhE9VB9Idh3Ema1/GSdxYILYCh4FHgUdVdX96IzJOYu3LOInrCgSARPZ03URklMkC4BngEeCpbOxMNJnF2pdxClcWiJFExA9cSuR/5g1AWFXfmtagjGNY+zLZzHUT5cbRDHxDVc8Dbk53MPESkYUTHLs0lbFMh1PymIC1rzRySh6Q+lxcVyBE5F4ROTX6ugh4BbgfeFlEblLVI2kNMDFPicgXJLKDGQAiMkdEfgZ8K41xJcopeVj7ykxOyQNSnIvrCgRwqUb3CQY+CNRGJ56cA3whfWFNyTlEVnR8WUSuEJHbgD8RmWV5flojS4xT8gBrX5nIKXlAinNx40S5vhGvrwZ+BaCqx0Sya+8Qjex5/LfRRvI4cBS4QFUPpzeyxDgljyhrXxnGKXlA6nNx4x1Ei4hcKyJnARcTGY44vNF8blojS5CIFIvID4j8pnoN8CDwiIhckd7IEuOUPKKsfWUYp+QBachlpvcwzfQvYBWR/2m3A3894vM3A99Md3wJ5lIHfA7wjfjsTOBZ4Ofpjs9teUTjtvaVYV9OySMdubh+mGs2E5EKHefWUkQ+oqo/THVMU+GUPJzGKf8uTskDUp+L6/ogROTLExxWVf3nlAUzfauIzNpFRJaq6r4Rx5rSE9KUOCUPa1+ZySl5QIpzcd0dhIh8NsbHIeDDwCxVzU9xSFMmIi+p6tmjX8d6n8mckgdY+8pETskDUp+L6+4gVPWbw69FpAC4Dfgb4AHgm+Ndl6FknNex3mcyp+Rh7SszOSUPSHEurisQACJSCnwG+Cvgp8DZGhk+lm10nNex3mcyp+QBWPvKQE7JA1Kci+sKhIh8HbgBuA84XVU70hzSdCwTkYeI/OYw/Jro+6XpCythTsnD2ldmckoekOJc3NgHMQT0AgOcXHGzcfOQyyc6rqpPpSqW6XBKHmDtKxM5JQ9IfS6uKxBuISK/UNV3pzuO6XJKHk7jlH8Xp+QBycnFdTOpR844FJGlo47dkPqIkubCdAcwQ7IqD2tfWccpeUAScnFdgQC+MeL1r0cd+4dUBmIcydqXcQzXdVLjoCFvIjLemGcB/KmMZTqckkeUta8M45Q8IPW5uLFAOGnI20Tj6qtTFsX0OSUPsPaViZySB6Q4F9d1UotIC7CZSMW9NPqa6PtLVLUkXbGZ7GftyziJGwuEk4a8je70VKAR2K6q7WkIaUqckgdY+8pETskDUp+L6wqEk4jIT2J8XAqsAz6kqk+mOKQpcUoeTuOUfxen5AGpz8V1BUJEXmWCZ8Gqui6F4SSFiCwGfqmq2bad4kmyMQ9rX9nDKXlA8nJxYyf1tekOINlU9YCIZNXojFiyNA9rX1nCKXlA8nJxXYGI/kW+HVgBvKqqj6U7ppkmIquJLPeQ1bIxD2tf2cMpeUDycnFdgRCR7wGnEtmi759F5Lws28TlDSLyO8Y+zigF5gHvTX1EU+OUPMDaVyZySh6Q+lzc2AexEzhDVQdFJAQ8rarnpDuuqYgxYkaJ7Cq1W1X70hDSlDglD7D2lYmckgekPhfX3UEAfao6CKCqXSKSVbNbRzkCzFHVLSM/FJFLReSoqu5NU1yJckoeYO0rEzklD0hxLm5ci2mNiOyIfr064v2rIrIj3cEl6C4g1tjn7uixbOGUPMDaVyZySh6Q4lzceAdxSroDmEFLVHXMDx1V3SoiS1IfzpQ5JQ+w9pWJnJIHpDgXtEcxPQAABl1JREFU1xUIVT2Q7hhmUHCCY7kpi2L6nJKHta/M5JQ8IMW5uO4Rk4i0i0hb9L/Dr4fft6U7vgS9KCIfGf2hiHwI2JaGeKbKKXlY+8pMTskDUpyL60YxOYmIzAH+G+jjz41jPRAA3qGqx9IVWyKckofTOOXfxSl5QOpzcV2BEJEgcAuRiUw7gH9T1YH0RjU9IrIROC369rVsWltmJCfkYe0rczklD0hdLm4sEL8A+oGngU3AAVW9Lb1RGaew9mWcxI0F4lVVPT362gf8SVXH26XJmIRY+zJO4rpOaiK/3QGQ7bf+JiNZ+zKO4cY7iEGgc/gtkaFhXdHXqqqF6YrNZD9rX8ZJXFcgjDHGxMeNj5iMMcbEwQqEMcaYmKxAGGOMicl1BUJEFk5w7NJUxmKcx9qXcRLXFQjgKRH5QnSMOhCZvi4iPwO+lca4jDNY+zKO4cYCcQ6wHHhZRK4QkduAPwHPAeenNTLjBNa+jGO4dphr9H/cO4GjwAWqejjNIRkHsfZlnMB1dxAiUiwiPwA+CFwDPAg8IiJXpDcy4wTWvoyTuO4OQkTqgO8Bdw0vhSAiZ0Y/O6CqN6UzPpPdrH0ZJ3FjgagY73ZfRD6iqj9MdUzGOax9GSdx3SMmYNXwCxFZOupYU4pjMc5j7cs4hhvvIF4aXn555OtY741JlLUv4yRuvIOQcV7Hem9Moqx9GcdwY4HQcV7Hem9Moqx9GcfwTX6K4ywTkYeI/DY3/Jro+9HPjI1JlLUv4xhu7IO4fKLjqvpUqmIxzmPtyziJ6wrERETkF6r67nTHYZzJ2pfJNm7sg5jIhekOwDiatS+TVaxAGGOMicl1ndQiMt44dAH8qYzFOI+1L+MkruuDEJHKiY6r6sZUxWKcx9qXcRLXFQhjjDHxceMjphtGfaRAI7BdVdvTEJJxEGtfxklcVyCA62J8VgqsE5EPqeqTqQ7IOIq1L+MY9ogpSkQWA79UVdsW0sw4a18mG9kw1yhVPYCNMjFJYu3LZCMrEFEishroTXccxpmsfZls5Lo+CBH5HWNX1SwF5gHvTX1ExkmsfRkncV0fRIzF1JTITl+7VbUvDSEZB7H2ZZzEdXcQwBFgjqpuGfmhiFwqIkdVdW+a4jLOYO3LOIYb+yDuAmKNR++OHjNmOqx9GcdwY4FYoqo7Rn+oqluBJakPxziMtS/jGG4sEMEJjuWmLArjVNa+jGO4sUC8KCIfGf2hiHwI2JaGeIyzWPsyjuHGUUxzgP8G+vjz/7DrgQDwDlU9lq7YTPaz9mWcxHUFYpiIbAROi759zdbIMTPJ2pdxAtcWCGOMMRNzYx+EMcaYOFiBMMYYE5MVCGMmICJ/LyKvicgOEdkuIjO2XLeIPCwixTP1/YyZaW5casOYuIjIhcC1wNmq2isiZURGI80IVX3LTH0vY5LB7iCMGd88oFFVewFUtVFVj4rIfhH5moj8Kfq1AkBEykXk1yLyYvTr4ujn+SLyExF5NXon8hfRz/dHiw4i8t7o99ouIj8QEW/0699FZGf02k+n6e/BuJQVCGP+Xzt38GpjEIdx/PucjQ2KhY2klEQuJxclWYjyB5BLFspCiqwpFsr+pouVulnJgo1sTqmbjWyRhSzYSonUXXB7LGZOXue+742rw+b5bGaaec/MO4tzfmfmnXe6DYANkt5Iuj1yUusX23uBm/w8Y+kGMG17D3AUuFPLrwKfbU/Y3gH8suVV0lZgCthvuw8sAKeAPrDe9nbbE8DseIYZ0S5LTBEdbH+VNAkcAA4C9yVdqtX3Gul0zR8GtkkaNrFa0qpafqLR7qeRrg4Bk5S3sKEcyfEBeARskjQDPKYErIh/JgEiYgm2F4A5YE7SS+D0sKp5WU17wD7b8802VH71l3rhSMBd25cXVUg7gSPAeeA4cGYZw4hYliwxRXSQtEXS5kZRH3hf81ON9FnND4ALjc/3O8rXjHT1BDgmaV2tXytpY30+0bP9gLJMtevvRxXx+zKDiOi2EpipW1G/A2+Bs5SdTSskPaf8yTpZr78I3JL0gvLdegqcA67X8leU5wvXgIfDTmy/lnQFGEjqAd8oM4Z5YLaWASyaYUSMU47aiPhDkt4Bu21//N/3EjFOWWKKiIhWmUFERESrzCAiIqJVAkRERLRKgIiIiFYJEBER0SoBIiIiWiVAREREqx/kEPCNQTGPvgAAAABJRU5ErkJggg==\n",
      "text/plain": [
       "<Figure size 432x288 with 1 Axes>"
      ]
     },
     "metadata": {
      "needs_background": "light"
     },
     "output_type": "display_data"
    }
   ],
   "source": [
    "g = sns.lineplot(train.Species,train.WnvPresent)\n",
    "g.set_xticklabels(train.Species,rotation=90);"
   ]
  },
  {
   "cell_type": "code",
   "execution_count": 23,
   "metadata": {},
   "outputs": [],
   "source": [
    "# Creation of dummy columns for the species\n",
    "train_test = pd.concat([train_test, pd.get_dummies(train_test.Species)], axis=1)\n",
    "train_test.drop(['Species'],axis =1, inplace =True)"
   ]
  },
  {
   "cell_type": "markdown",
   "metadata": {},
   "source": [
    " We are left with the Date column to investigate. The dates for train set are from the odd number years from 2007 to 2014 and the test set is from the even number years"
   ]
  },
  {
   "cell_type": "code",
   "execution_count": 24,
   "metadata": {},
   "outputs": [
    {
     "name": "stderr",
     "output_type": "stream",
     "text": [
      "C:\\Anaconda\\lib\\site-packages\\ipykernel_launcher.py:5: UserWarning: Pandas doesn't allow columns to be created via a new attribute name - see https://pandas.pydata.org/pandas-docs/stable/indexing.html#attribute-access\n",
      "  \"\"\"\n"
     ]
    }
   ],
   "source": [
    "# As the test and train set are from completely different year we shall not take the year into considerations, if we take \n",
    "# the days and hot encode it, it will result in 365 columns which is not sensible. Therefore using the month was decided as\n",
    "# the approach\n",
    "date = train_test.Date.str.split('-')\n",
    "train_test.Month = pd.DataFrame([item for item in train_test.Date.str.split('-')] ,columns = [\"Year\", \"Month\", \"Day\"]).Month"
   ]
  },
  {
   "cell_type": "code",
   "execution_count": 35,
   "metadata": {},
   "outputs": [],
   "source": [
    "# Creation of dummy columns for the Month\n",
    "train_test.Month = train_test.Month.replace({'05':'May','06':'Jun','07':'Jul','08':'Aug','09':'Sep','10':'Oct','11':'Nov','12':'Dec'})\n",
    "train_test =  train_test.join(pd.get_dummies(train_test.Month))"
   ]
  },
  {
   "cell_type": "code",
   "execution_count": 37,
   "metadata": {
    "scrolled": true
   },
   "outputs": [],
   "source": [
    "# Separation to cleaned train and test sets\n",
    "train_clean = train_test[train_test.Id.isnull()]\n",
    "test_clean = train_test[train_test.Id.notnull()]"
   ]
  },
  {
   "cell_type": "code",
   "execution_count": 38,
   "metadata": {},
   "outputs": [
    {
     "name": "stdout",
     "output_type": "stream",
     "text": [
      "<class 'pandas.core.frame.DataFrame'>\n",
      "Int64Index: 8610 entries, 0 to 10505\n",
      "Columns: 153 entries, Date to Sep\n",
      "dtypes: float64(3), object(1), uint8(149)\n",
      "memory usage: 1.6+ MB\n"
     ]
    },
    {
     "name": "stderr",
     "output_type": "stream",
     "text": [
      "C:\\Anaconda\\lib\\site-packages\\pandas\\core\\frame.py:3997: SettingWithCopyWarning: \n",
      "A value is trying to be set on a copy of a slice from a DataFrame\n",
      "\n",
      "See the caveats in the documentation: https://pandas.pydata.org/pandas-docs/stable/user_guide/indexing.html#returning-a-view-versus-a-copy\n",
      "  errors=errors,\n"
     ]
    }
   ],
   "source": [
    "# Removing the Id column from train set as it is only meant for kaggle submission in the test set\n",
    "train_clean.drop(['Id'],axis =1 ,inplace=True)\n",
    "train_clean.info()"
   ]
  },
  {
   "cell_type": "code",
   "execution_count": 39,
   "metadata": {},
   "outputs": [
    {
     "name": "stdout",
     "output_type": "stream",
     "text": [
      "<class 'pandas.core.frame.DataFrame'>\n",
      "Int64Index: 116293 entries, 0 to 116292\n",
      "Columns: 153 entries, Date to Sep\n",
      "dtypes: float64(3), object(1), uint8(149)\n",
      "memory usage: 21.0+ MB\n"
     ]
    }
   ],
   "source": [
    "# Removing the target variable WnvPresent from the test dataset\n",
    "test_clean.drop(['WnvPresent'],axis =1 ,inplace=True)\n",
    "test_clean.info()"
   ]
  },
  {
   "cell_type": "markdown",
   "metadata": {},
   "source": [
    "### Joining together with the cleaned weather data"
   ]
  },
  {
   "cell_type": "code",
   "execution_count": 40,
   "metadata": {},
   "outputs": [],
   "source": [
    "weather_clean = pd.read_csv('data/weather_clean.csv')\n",
    "weather_clean.rename(columns = {'date':'Date'},inplace = True)"
   ]
  },
  {
   "cell_type": "code",
   "execution_count": 41,
   "metadata": {},
   "outputs": [],
   "source": [
    "train_clean = train_clean.merge(weather_clean,how='inner',on='Date')\n",
    "test_clean = test_clean.merge(weather_clean,how='inner',on='Date')\n",
    "train_clean.drop(['Date'],axis=1,inplace =True)\n",
    "test_clean.drop(['Date'],axis=1,inplace =True)"
   ]
  },
  {
   "cell_type": "code",
   "execution_count": 42,
   "metadata": {},
   "outputs": [],
   "source": [
    "train_clean.to_csv('data/train_clean.csv',index = False)\n",
    "test_clean.to_csv('data/test_clean.csv',index = False)"
   ]
  }
 ],
 "metadata": {
  "kernelspec": {
   "display_name": "Python 3",
   "language": "python",
   "name": "python3"
  },
  "language_info": {
   "codemirror_mode": {
    "name": "ipython",
    "version": 3
   },
   "file_extension": ".py",
   "mimetype": "text/x-python",
   "name": "python",
   "nbconvert_exporter": "python",
   "pygments_lexer": "ipython3",
   "version": "3.7.6"
  }
 },
 "nbformat": 4,
 "nbformat_minor": 2
}
